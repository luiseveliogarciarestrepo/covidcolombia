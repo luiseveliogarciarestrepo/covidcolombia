{
 "cells": [
  {
   "cell_type": "code",
   "execution_count": 1,
   "metadata": {},
   "outputs": [],
   "source": [
    "import pandas as pd\n",
    "import numpy as np"
   ]
  },
  {
   "cell_type": "code",
   "execution_count": 2,
   "metadata": {},
   "outputs": [],
   "source": [
    "%matplotlib inline"
   ]
  },
  {
   "cell_type": "code",
   "execution_count": 3,
   "metadata": {},
   "outputs": [],
   "source": [
    "col = pd.read_csv('CovidColombia.csv', usecols= ['Fecha de notificación',\n",
    "       'Ciudad de ubicación', 'Departamento o Distrito ', 'atención', 'Edad',\n",
    "       'Sexo', 'Tipo', 'Estado', 'País de procedencia',\n",
    "       'Fecha de muerte', 'Fecha diagnostico', 'Fecha recuperado',\n",
    "       'Tipo recuperación'],date_parser= ['Fecha de notificación','Fecha de muerte', 'Fecha diagnostico',\n",
    "       'Fecha recuperado'], low_memory = False)"
   ]
  },
  {
   "cell_type": "code",
   "execution_count": 4,
   "metadata": {},
   "outputs": [],
   "source": [
    "fecha = col['Fecha de notificación'].max()"
   ]
  },
  {
   "cell_type": "code",
   "execution_count": 5,
   "metadata": {},
   "outputs": [
    {
     "data": {
      "text/plain": [
       "'2020-10-18'"
      ]
     },
     "execution_count": 5,
     "metadata": {},
     "output_type": "execute_result"
    }
   ],
   "source": [
    "FECHA = fecha.rstrip('T00:00:00.000')\n",
    "FECHA"
   ]
  },
  {
   "cell_type": "code",
   "execution_count": 6,
   "metadata": {},
   "outputs": [],
   "source": [
    "\n",
    "col[['Fecha de notificación',\n",
    "       'Ciudad de ubicación', 'Departamento o Distrito ', 'atención', 'Edad',\n",
    "       'Sexo', 'Tipo', 'Estado', 'País de procedencia',\n",
    "       'Fecha de muerte', 'Fecha diagnostico', 'Fecha recuperado',\n",
    "       'Tipo recuperación']]=  col[['Fecha de notificación',\n",
    "       'Ciudad de ubicación', 'Departamento o Distrito ', 'atención', 'Edad',\n",
    "       'Sexo', 'Tipo', 'Estado', 'País de procedencia',\n",
    "       'Fecha de muerte', 'Fecha diagnostico', 'Fecha recuperado',\n",
    "       'Tipo recuperación']].astype('category')\n"
   ]
  },
  {
   "cell_type": "code",
   "execution_count": 7,
   "metadata": {},
   "outputs": [],
   "source": [
    "filtro = col['Fecha de muerte'].notnull()\n",
    "fallecidosEdad = col.loc[filtro, ['Edad', 'Fecha de muerte']]\n",
    "fallecidos = fallecidosEdad.groupby('Edad')['Edad'].count().to_frame()\n"
   ]
  },
  {
   "cell_type": "code",
   "execution_count": 8,
   "metadata": {},
   "outputs": [],
   "source": [
    "fallecidos.rename(columns={'Edad':'Número fallecidos'},inplace=True)"
   ]
  },
  {
   "cell_type": "code",
   "execution_count": 9,
   "metadata": {},
   "outputs": [
    {
     "data": {
      "text/html": [
       "<div>\n",
       "<style scoped>\n",
       "    .dataframe tbody tr th:only-of-type {\n",
       "        vertical-align: middle;\n",
       "    }\n",
       "\n",
       "    .dataframe tbody tr th {\n",
       "        vertical-align: top;\n",
       "    }\n",
       "\n",
       "    .dataframe thead th {\n",
       "        text-align: right;\n",
       "    }\n",
       "</style>\n",
       "<table border=\"1\" class=\"dataframe\">\n",
       "  <thead>\n",
       "    <tr style=\"text-align: right;\">\n",
       "      <th></th>\n",
       "      <th>Número fallecidos</th>\n",
       "    </tr>\n",
       "    <tr>\n",
       "      <th>Edad</th>\n",
       "      <th></th>\n",
       "    </tr>\n",
       "  </thead>\n",
       "  <tbody>\n",
       "    <tr>\n",
       "      <th>0</th>\n",
       "      <td>44</td>\n",
       "    </tr>\n",
       "    <tr>\n",
       "      <th>1</th>\n",
       "      <td>7</td>\n",
       "    </tr>\n",
       "    <tr>\n",
       "      <th>2</th>\n",
       "      <td>9</td>\n",
       "    </tr>\n",
       "    <tr>\n",
       "      <th>3</th>\n",
       "      <td>8</td>\n",
       "    </tr>\n",
       "    <tr>\n",
       "      <th>4</th>\n",
       "      <td>6</td>\n",
       "    </tr>\n",
       "    <tr>\n",
       "      <th>...</th>\n",
       "      <td>...</td>\n",
       "    </tr>\n",
       "    <tr>\n",
       "      <th>109</th>\n",
       "      <td>0</td>\n",
       "    </tr>\n",
       "    <tr>\n",
       "      <th>110</th>\n",
       "      <td>2</td>\n",
       "    </tr>\n",
       "    <tr>\n",
       "      <th>111</th>\n",
       "      <td>0</td>\n",
       "    </tr>\n",
       "    <tr>\n",
       "      <th>112</th>\n",
       "      <td>1</td>\n",
       "    </tr>\n",
       "    <tr>\n",
       "      <th>115</th>\n",
       "      <td>0</td>\n",
       "    </tr>\n",
       "  </tbody>\n",
       "</table>\n",
       "<p>114 rows × 1 columns</p>\n",
       "</div>"
      ],
      "text/plain": [
       "      Número fallecidos\n",
       "Edad                   \n",
       "0                    44\n",
       "1                     7\n",
       "2                     9\n",
       "3                     8\n",
       "4                     6\n",
       "...                 ...\n",
       "109                   0\n",
       "110                   2\n",
       "111                   0\n",
       "112                   1\n",
       "115                   0\n",
       "\n",
       "[114 rows x 1 columns]"
      ]
     },
     "execution_count": 9,
     "metadata": {},
     "output_type": "execute_result"
    }
   ],
   "source": [
    "fallecidos"
   ]
  },
  {
   "cell_type": "code",
   "execution_count": 10,
   "metadata": {},
   "outputs": [
    {
     "data": {
      "text/plain": [
       "[Número fallecidos    74\n",
       " dtype: int64,\n",
       " Número fallecidos    37\n",
       " dtype: int64,\n",
       " Número fallecidos    2276\n",
       " dtype: int64,\n",
       " Número fallecidos    8706\n",
       " dtype: int64,\n",
       " Número fallecidos    15912\n",
       " dtype: int64,\n",
       " Número fallecidos    4481\n",
       " dtype: int64,\n",
       " Número fallecidos    70\n",
       " dtype: int64]"
      ]
     },
     "execution_count": 10,
     "metadata": {},
     "output_type": "execute_result"
    }
   ],
   "source": [
    "cerocuatro = fallecidos.iloc[0:5].sum()\n",
    "cincocatorce= fallecidos.iloc[5:15].sum()\n",
    "quincecuarentaycuatro = fallecidos.iloc[15:45].sum()\n",
    "cuarentaycincosesentaycuatro = fallecidos.iloc[45:65].sum()\n",
    "sesentaycincoochentaycuatro = fallecidos.iloc[65:85].sum()\n",
    "ochentaycinconoventaynueve = fallecidos.iloc[85:100].sum()\n",
    "cienomas = fallecidos.iloc[100:150].sum()\n",
    "\n",
    "lista= [cerocuatro,cincocatorce,quincecuarentaycuatro,cuarentaycincosesentaycuatro,sesentaycincoochentaycuatro,ochentaycinconoventaynueve,cienomas]\n",
    "lista"
   ]
  },
  {
   "cell_type": "code",
   "execution_count": 11,
   "metadata": {},
   "outputs": [
    {
     "data": {
      "text/html": [
       "<div>\n",
       "<style scoped>\n",
       "    .dataframe tbody tr th:only-of-type {\n",
       "        vertical-align: middle;\n",
       "    }\n",
       "\n",
       "    .dataframe tbody tr th {\n",
       "        vertical-align: top;\n",
       "    }\n",
       "\n",
       "    .dataframe thead th {\n",
       "        text-align: right;\n",
       "    }\n",
       "</style>\n",
       "<table border=\"1\" class=\"dataframe\">\n",
       "  <thead>\n",
       "    <tr style=\"text-align: right;\">\n",
       "      <th></th>\n",
       "      <th>edad 0 a 4</th>\n",
       "      <th>edad 5 a 14</th>\n",
       "      <th>edad 15 a 44</th>\n",
       "      <th>edad 45 a 64</th>\n",
       "      <th>edad 65 a 84</th>\n",
       "      <th>edad 85 a 99</th>\n",
       "      <th>edad 100 o mas</th>\n",
       "      <th>Total fallecidos</th>\n",
       "    </tr>\n",
       "  </thead>\n",
       "  <tbody>\n",
       "    <tr>\n",
       "      <th>Número fallecidos</th>\n",
       "      <td>74</td>\n",
       "      <td>37</td>\n",
       "      <td>2276</td>\n",
       "      <td>8706</td>\n",
       "      <td>15912</td>\n",
       "      <td>4481</td>\n",
       "      <td>70</td>\n",
       "      <td>31556</td>\n",
       "    </tr>\n",
       "  </tbody>\n",
       "</table>\n",
       "</div>"
      ],
      "text/plain": [
       "                   edad 0 a 4  edad 5 a 14  edad 15 a 44  edad 45 a 64  \\\n",
       "Número fallecidos          74           37          2276          8706   \n",
       "\n",
       "                   edad 65 a 84  edad 85 a 99  edad 100 o mas  \\\n",
       "Número fallecidos         15912          4481              70   \n",
       "\n",
       "                   Total fallecidos  \n",
       "Número fallecidos             31556  "
      ]
     },
     "execution_count": 11,
     "metadata": {},
     "output_type": "execute_result"
    }
   ],
   "source": [
    "d={'edad 0 a 4':cerocuatro, 'edad 5 a 14':cincocatorce,\n",
    "       'edad 15 a 44':quincecuarentaycuatro, 'edad 45 a 64':cuarentaycincosesentaycuatro, 'edad 65 a 84':sesentaycincoochentaycuatro, 'edad 85 a 99':ochentaycinconoventaynueve,\n",
    "       'edad 100 o mas':cienomas}\n",
    "df = pd.DataFrame(data=d)\n",
    "df['Total fallecidos']= df.loc['Número fallecidos','edad 0 a 4']+ df.loc['Número fallecidos','edad 5 a 14']+df.loc['Número fallecidos','edad 15 a 44']+df.loc['Número fallecidos','edad 45 a 64']+df.loc['Número fallecidos','edad 65 a 84']+df.loc['Número fallecidos','edad 85 a 99']+df.loc['Número fallecidos','edad 100 o mas']\n",
    "df"
   ]
  },
  {
   "cell_type": "code",
   "execution_count": 12,
   "metadata": {},
   "outputs": [],
   "source": [
    "df.to_csv('etarioDefuncionesCOLOMBIA.csv')"
   ]
  },
  {
   "cell_type": "code",
   "execution_count": null,
   "metadata": {},
   "outputs": [],
   "source": []
  }
 ],
 "metadata": {
  "hide_input": false,
  "kernelspec": {
   "display_name": "Python 3",
   "language": "python",
   "name": "python3"
  },
  "language_info": {
   "codemirror_mode": {
    "name": "ipython",
    "version": 3
   },
   "file_extension": ".py",
   "mimetype": "text/x-python",
   "name": "python",
   "nbconvert_exporter": "python",
   "pygments_lexer": "ipython3",
   "version": "3.7.0"
  }
 },
 "nbformat": 4,
 "nbformat_minor": 4
}
