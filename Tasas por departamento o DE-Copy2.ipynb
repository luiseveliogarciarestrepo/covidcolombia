{
 "cells": [
  {
   "cell_type": "markdown",
   "metadata": {
    "slideshow": {
     "slide_type": "slide"
    }
   },
   "source": [
    "# Luis Evelio García Restrepo MD, MAS, EF\n",
    " \n",
    "##  Ensayos o pruebas de testeo o tamizaje aleatorizados"
   ]
  },
  {
   "cell_type": "markdown",
   "metadata": {
    "slideshow": {
     "slide_type": "slide"
    }
   },
   "source": [
    "# INTRODUCCIÓN "
   ]
  },
  {
   "cell_type": "markdown",
   "metadata": {
    "slideshow": {
     "slide_type": "subslide"
    }
   },
   "source": [
    "# Testeo o tamizaje\n",
    "\n",
    ">Identificación presuntiva de una enfermedad o defecto, mediante la aplicación de pruebas (\"test\"), exámenes físicos o cualquier otro procemiento que pueda ser rápidamente realizado.    \n",
    "\n",
    "###### US Commision of Chronic Illnes 1957"
   ]
  },
  {
   "cell_type": "markdown",
   "metadata": {
    "slideshow": {
     "slide_type": "slide"
    }
   },
   "source": [
    "### Ejemplos testeo o tamizaje:     "
   ]
  },
  {
   "cell_type": "markdown",
   "metadata": {
    "slideshow": {
     "slide_type": "subslide"
    }
   },
   "source": [
    "> Exámen físico."
   ]
  },
  {
   "cell_type": "markdown",
   "metadata": {
    "slideshow": {
     "slide_type": "subslide"
    }
   },
   "source": [
    "> Exámen clínico."
   ]
  },
  {
   "cell_type": "markdown",
   "metadata": {
    "slideshow": {
     "slide_type": "subslide"
    }
   },
   "source": [
    "> Historia clínica."
   ]
  },
  {
   "cell_type": "markdown",
   "metadata": {
    "slideshow": {
     "slide_type": "subslide"
    }
   },
   "source": [
    "> Test genético."
   ]
  },
  {
   "cell_type": "markdown",
   "metadata": {
    "slideshow": {
     "slide_type": "subslide"
    }
   },
   "source": [
    "> Imágenes diagnósticas:\n",
    "* Radiología convencional.\n",
    "* TAC.\n",
    "* RMN."
   ]
  },
  {
   "cell_type": "markdown",
   "metadata": {
    "slideshow": {
     "slide_type": "subslide"
    }
   },
   "source": [
    "> Exámenes de laboratorio."
   ]
  },
  {
   "cell_type": "markdown",
   "metadata": {
    "slideshow": {
     "slide_type": "slide"
    }
   },
   "source": [
    "# PRUEBAS PARA  TAMIZAJE ALEATORIZADO (Randomized Screen Trial: RST)\n",
    "\n",
    "## Requisitos para un tamizaje exitoso (prerrequisitos y objetivos):"
   ]
  },
  {
   "cell_type": "markdown",
   "metadata": {
    "slideshow": {
     "slide_type": "subslide"
    }
   },
   "source": [
    "### Prerrequisitos\n",
    "1.  A. Que se realice para una enfermedad que impacte realmente el estado de salud de la población.\n",
    "    - Alta prevalencia.\n",
    "    - Alta tasa de mortalidad, discapacidad o minusvalía.\n",
    "    \n",
    "    B. Que la identificación temprana:\n",
    "    - Prevenga muertes o disminuya su número.\n",
    "    - Disminuya las secuelas en quienes sobrevivan a esta.\n",
    "    - Permita un tratamiento oportuno.\n",
    "    - Prolongue la sobrevivencia y supervivencia.\n",
    "    \n",
    "2. ***Que el tratamiento sea efectivo.***   Eficiente y eficaz. "
   ]
  },
  {
   "cell_type": "markdown",
   "metadata": {
    "slideshow": {
     "slide_type": "subslide"
    }
   },
   "source": [
    "### Prerrequisitos\n",
    "\n",
    "3. Que se pueda identificar la \"Fase Preclínica Detectable\". \n",
    "   Detectable PreClinical Phase (DPCP) "
   ]
  },
  {
   "cell_type": "markdown",
   "metadata": {},
   "source": [
    "![DCPP](DPCP.png)"
   ]
  },
  {
   "cell_type": "markdown",
   "metadata": {
    "slideshow": {
     "slide_type": "subslide"
    }
   },
   "source": [
    "La DPCP puede ser:\n",
    "\n",
    "- Evidenciable.\n",
    "    \n",
    "- No evidenciable."
   ]
  },
  {
   "cell_type": "markdown",
   "metadata": {
    "slideshow": {
     "slide_type": "slide"
    }
   },
   "source": [
    "### Objetivos del tamizaje y requisitos para un tamizaje exitoso:\n",
    "\n",
    "### I.  OBJETIVO:  **Mejorar** el tamizaje o testeo...\n",
    "\n",
    "#### USTED tiene que seleccionar una prueba que:\n",
    "\n",
    "-  Disminuya los falsos positivos.\n",
    "-  Testee solamente la ***población en alto riesgo***."
   ]
  },
  {
   "cell_type": "markdown",
   "metadata": {
    "slideshow": {
     "slide_type": "subslide"
    }
   },
   "source": [
    "### Objetivos del tamizaje y requisitos para un tamizaje exitoso:\n",
    "\n",
    "### I.  OBJETIVO:  **Mejorar** el tamizaje o testeo...\n",
    "\n",
    "#### USTED tiene que seleccionar una prueba que:\n",
    "\n",
    "-  Disminuya los falsos positivos.\n",
    "\n",
    "# ¿ Por qué ?\n",
    "\n",
    "###  USTED DEBE TRATAR DE MINIMIZAR LOS FALSOS POSITIVOS PARA EVITAR PROCEDIMIENTOS ADICIONALES."
   ]
  },
  {
   "cell_type": "markdown",
   "metadata": {
    "slideshow": {
     "slide_type": "slide"
    }
   },
   "source": [
    "# ¿ Por qué ?"
   ]
  },
  {
   "cell_type": "markdown",
   "metadata": {
    "slideshow": {
     "slide_type": "subslide"
    }
   },
   "source": [
    "Consecuencias de falsos resultados:\n",
    "\n",
    "Falsos positivos:\n",
    "- Morbilidad asociada con pruebas diagnósticas subsecuentes.\n",
    "- Costo psicológico:\n",
    "    - Temor.\n",
    "    - Estigmatización.\n",
    "- Afectación del bienestar de la persona y su entorno.\n",
    "- Costo económico para el paciente y su entorno familiar, social y laboral.\n",
    "- Mayores gastos de recursos del sistema de salud.\n",
    "- Reducción del presupuesto para la atención de otras patologías."
   ]
  },
  {
   "cell_type": "markdown",
   "metadata": {
    "slideshow": {
     "slide_type": "subslide"
    }
   },
   "source": [
    "Consecuencias de falsos resultados:\n",
    "\n",
    "Falsos negativos:\n",
    "- No detectar a tiempo una patología que en su etapa inicial es tratable.\n",
    "- Avance de la enfermedad y mayores costos de tratamiento o cuidados paliativos en etapas avanzadas."
   ]
  },
  {
   "cell_type": "markdown",
   "metadata": {
    "slideshow": {
     "slide_type": "subslide"
    }
   },
   "source": [
    "### Objetivos del tamizaje y requisitos para un tamizaje exitoso:\n",
    "\n",
    "### I.  OBJETIVO:  **Mejorar** el tamizaje o testeo...\n",
    "\n",
    "#### USTED tiene que seleccionar una prueba que:\n",
    "\n",
    "- Testee únicamente la ***población en alto riesgo***.\n",
    "\n",
    "### PARA QUE SEA MÁS FACTIBLE DETERMINAR LA PREVALENCIA DE LA ENFERMEDAD Y ASÍ INCREMENTAR EL VALOR PREDICTIVO POSITIVO (VPP)....\n",
    "\n",
    "#### VPP ==> Lo analizaremos en detalle más adelante..."
   ]
  },
  {
   "cell_type": "markdown",
   "metadata": {
    "slideshow": {
     "slide_type": "slide"
    }
   },
   "source": [
    "### Objetivos del tamizaje y requisitos para un tamizaje exitoso:\n",
    "\n",
    "### II. OBJETIVO:  Factibilidad del testeo o tamizaje."
   ]
  },
  {
   "cell_type": "markdown",
   "metadata": {
    "slideshow": {
     "slide_type": "subslide"
    }
   },
   "source": [
    "> Libre de molestia significativa !\n",
    "\n",
    "\n",
    "\n"
   ]
  },
  {
   "cell_type": "markdown",
   "metadata": {
    "slideshow": {
     "slide_type": "subslide"
    }
   },
   "source": [
    "> Eficiente y económico.   Recuerde que eficiente es la conjunción entre eficacia y efectividad."
   ]
  },
  {
   "cell_type": "markdown",
   "metadata": {
    "slideshow": {
     "slide_type": "subslide"
    }
   },
   "source": [
    "> Que la persona acepte el seguimiento y que este sea posible."
   ]
  },
  {
   "cell_type": "markdown",
   "metadata": {
    "slideshow": {
     "slide_type": "subslide"
    }
   },
   "source": [
    "> Alta especificidad."
   ]
  },
  {
   "cell_type": "markdown",
   "metadata": {
    "slideshow": {
     "slide_type": "subslide"
    }
   },
   "source": [
    "> El testeo o tamizaje debe derivar en la disminución efectiva de efectos adversos."
   ]
  },
  {
   "cell_type": "markdown",
   "metadata": {
    "slideshow": {
     "slide_type": "slide"
    }
   },
   "source": [
    "# Resumiendo hasta ahora:"
   ]
  },
  {
   "cell_type": "markdown",
   "metadata": {
    "slideshow": {
     "slide_type": "subslide"
    }
   },
   "source": [
    "> Prerrequisitos:  \n",
    "- Alto impacto  <== Alta prevalencia, morbilidad y mortalidad.\n",
    "- Tratamiento disponible."
   ]
  },
  {
   "cell_type": "markdown",
   "metadata": {
    "slideshow": {
     "slide_type": "subslide"
    }
   },
   "source": [
    "> Modalidades de testeo o tamizaje con *buenas características*  \n",
    "- Sensibilidad.\n",
    "- Especificidad."
   ]
  },
  {
   "cell_type": "markdown",
   "metadata": {
    "slideshow": {
     "slide_type": "subslide"
    }
   },
   "source": [
    "> Testear o tamizar en población de alto riesgo.\n",
    "- Incrementa la prevalencia y por ende el VPP."
   ]
  },
  {
   "cell_type": "markdown",
   "metadata": {
    "slideshow": {
     "slide_type": "subslide"
    }
   },
   "source": [
    "> Factibilidad ***real*** para hacer el testeo o tamizaje."
   ]
  },
  {
   "cell_type": "markdown",
   "metadata": {
    "slideshow": {
     "slide_type": "slide"
    }
   },
   "source": [
    "# ¿ RECONOZCO LAS CARACTERÍSTICAS **ESENCIALES** DEL TESTEO O TAMIZAJE... ?"
   ]
  },
  {
   "cell_type": "markdown",
   "metadata": {
    "slideshow": {
     "slide_type": "subslide"
    }
   },
   "source": [
    "> Evaluación de las pruebas o ensayos TT.\n",
    "\n",
    "> Objetivos de las pruebas o ensayos TT.\n",
    "\n",
    "> ~Prueba diagnóstica.\n",
    "\n",
    "> Presunción."
   ]
  },
  {
   "cell_type": "markdown",
   "metadata": {
    "slideshow": {
     "slide_type": "slide"
    }
   },
   "source": [
    "# ¿ RECONOZCO LAS CARACTERÍSTICAS **ESENCIALES** DEL TESTEO O TAMIZAJE... ?"
   ]
  },
  {
   "cell_type": "markdown",
   "metadata": {
    "slideshow": {
     "slide_type": "subslide"
    }
   },
   "source": [
    "### Evaluación de las pruebas o ensayos TT"
   ]
  },
  {
   "cell_type": "markdown",
   "metadata": {
    "slideshow": {
     "slide_type": "subslide"
    }
   },
   "source": [
    "> Evaluación de las pruebas o ensayos TT:\n",
    "- Medidas de validez.\n",
    "- Medidas de utilidad clínica."
   ]
  },
  {
   "cell_type": "markdown",
   "metadata": {
    "slideshow": {
     "slide_type": "slide"
    }
   },
   "source": [
    "### Evaluación de las pruebas o ensayos TT"
   ]
  },
  {
   "cell_type": "markdown",
   "metadata": {
    "slideshow": {
     "slide_type": "subslide"
    }
   },
   "source": [
    "### Medidas de validez:\n",
    "\n",
    "#### Sensibilidad y especificidad.\n",
    "\n",
    "# Que tan bueno es el test !!!"
   ]
  },
  {
   "cell_type": "markdown",
   "metadata": {
    "slideshow": {
     "slide_type": "slide"
    }
   },
   "source": [
    "### Evaluación de las pruebas o ensayos TT"
   ]
  },
  {
   "cell_type": "markdown",
   "metadata": {
    "slideshow": {
     "slide_type": "subslide"
    }
   },
   "source": [
    "### Medidas de utilidad clínica:\n",
    "\n",
    "> Factibilidad.\n",
    "\n",
    "> Criterio de positividad.\n",
    "\n",
    "> Curva R.O.C.\n",
    "\n"
   ]
  },
  {
   "cell_type": "markdown",
   "metadata": {
    "slideshow": {
     "slide_type": "slide"
    }
   },
   "source": [
    "### Medidas de utilidad clínica:\n",
    "\n",
    "> Factibilidad:\n",
    "- Valor predictivo positivo ==> VPP\n",
    "- Valor predictivo negativo ==> VPN\n",
    "\n",
    "> Criterio de positividad.\n",
    "\n",
    "> Curva R.O.C.\n",
    "\n"
   ]
  },
  {
   "cell_type": "markdown",
   "metadata": {
    "slideshow": {
     "slide_type": "slide"
    }
   },
   "source": [
    "### Medidas de utilidad clínica:\n",
    "\n",
    "> Factibilidad.\n",
    "\n",
    "> Criterio de positividad.*\n",
    "\n",
    "> Curva R.O.C.\n",
    "\n"
   ]
  },
  {
   "cell_type": "markdown",
   "metadata": {
    "slideshow": {
     "slide_type": "slide"
    }
   },
   "source": [
    "# Criterio de positividad:\n",
    "\n",
    "##  Nivel que se debe alcanzar, para considerar un resultado de un test como positivo.\n",
    "\n",
    "##  La definición de un \"resultado positivo\", puede ser alterada voluntariamente:\n",
    "\n",
    "###  Si se incrementa la sensibilidad pero se disminuye la especificidad ==> Criterio de positividad bajo.\n",
    "\n",
    "###  Si se disminuye la sensibilidad y se incrementa la especificidad       ==> Criterio de positividad alto."
   ]
  },
  {
   "cell_type": "markdown",
   "metadata": {
    "slideshow": {
     "slide_type": "slide"
    }
   },
   "source": [
    "![CP](CON1.png)"
   ]
  },
  {
   "cell_type": "markdown",
   "metadata": {
    "slideshow": {
     "slide_type": "subslide"
    }
   },
   "source": [
    "![CP](CON2.png)"
   ]
  },
  {
   "cell_type": "markdown",
   "metadata": {
    "slideshow": {
     "slide_type": "subslide"
    }
   },
   "source": [
    "![CP](CON3.png)"
   ]
  },
  {
   "cell_type": "markdown",
   "metadata": {
    "slideshow": {
     "slide_type": "subslide"
    }
   },
   "source": [
    "![CP](CON4.png)"
   ]
  },
  {
   "cell_type": "markdown",
   "metadata": {
    "slideshow": {
     "slide_type": "subslide"
    }
   },
   "source": [
    "![CP](CON5.png)"
   ]
  },
  {
   "cell_type": "markdown",
   "metadata": {
    "slideshow": {
     "slide_type": "subslide"
    }
   },
   "source": [
    "![CP](CON6.png)"
   ]
  },
  {
   "cell_type": "markdown",
   "metadata": {
    "slideshow": {
     "slide_type": "subslide"
    }
   },
   "source": [
    "![CP](CON7.png)"
   ]
  },
  {
   "cell_type": "markdown",
   "metadata": {
    "slideshow": {
     "slide_type": "subslide"
    }
   },
   "source": [
    "![CP](CON8.png)"
   ]
  },
  {
   "cell_type": "markdown",
   "metadata": {
    "slideshow": {
     "slide_type": "slide"
    }
   },
   "source": [
    "# Criterio de positividad:\n",
    "\n",
    "## Para poder establecerlo, primero ES INDISPENSABLE contar con un método de diagnóstico para la patología ==> \"Gold Standard\"\n",
    "\n",
    "### Establece el verdadero estado frente a una patología.\n",
    "\n",
    "#### Ejemplo:   Para el cáncer de seno, es el estudio histopatológico de muestra obtenida por biopsia.\n",
    "\n"
   ]
  },
  {
   "cell_type": "markdown",
   "metadata": {
    "slideshow": {
     "slide_type": "slide"
    }
   },
   "source": [
    "# Para establecer el Criterio de positividad:\n",
    "\n",
    "## Comparar el \"GOLD STANDARD\" vs. \"la prueba o ensayo para testeo o tamizaje\".\n",
    "\n",
    "## Para determinar que tan exacto y válido es la prueba o ensayo TT con respecto al \"Gold Standard\".\n",
    "\n"
   ]
  },
  {
   "cell_type": "markdown",
   "metadata": {
    "slideshow": {
     "slide_type": "subslide"
    }
   },
   "source": [
    "                                                          Gold Standard   \n",
    "  \n",
    "\n",
    "|      |     |       +      |       -      |\n",
    "|:-----|:---:|:------------:|:------------:|\n",
    "|Screen|  +  | Verdadero  + | Falso +      |\n",
    "|test  |  -  | Falso +      | Verdadero  - |\n",
    "          \n",
    "\n"
   ]
  },
  {
   "cell_type": "markdown",
   "metadata": {
    "slideshow": {
     "slide_type": "slide"
    }
   },
   "source": [
    "# El criterio de positividad puede ser alterado para que más resultados resulten positivos....\n",
    "\n",
    "                                                           Patología\n",
    "                                                        Gold Standard\n",
    "\n",
    "\n",
    "|          |     |       +      |       -      |        |\n",
    "|:---------|:------:|:------------:|:------------:|:------:|\n",
    "|          |    +   |      800     |      3.200      |   4.000   |\n",
    "|Test      |    -   |      100      |    95.900      |  96.000   |\n",
    "|          |        |      900      |    99.100      | 100.000   |\n",
    "\n",
    "Población = 100.000\n",
    "\n",
    "Prevalencia =  0,009\n",
    "\n",
    "Sensibilidad =  800 / 900  ==> 88,88 %\n",
    "\n",
    "Especificidad = 95.900 / 99.100 ==>  96,77%"
   ]
  },
  {
   "cell_type": "markdown",
   "metadata": {
    "slideshow": {
     "slide_type": "slide"
    }
   },
   "source": [
    "# Se puede adoptar un corte que incremente la sensibilidad (lograr más resultados positivos) :\n",
    "\n",
    "                                                         Patología\n",
    "                                                      Gold Standard\n",
    "\n",
    "\n",
    "|          |     |       +      |       -      |        |\n",
    "|:---------|:------:|:------------:|:------------:|:------:|\n",
    "|          |    +   |    895     |     3.295      |   4.190   |\n",
    "|Test      |    -   |      5     |    95.805      |  95.810   |\n",
    "|          |        |    900     |    99.100      | 100.000   |\n",
    "\n",
    "Población = 100.000\n",
    "\n",
    "Prevalencia =  0,009\n",
    "\n",
    "Sensibilidad =  895 / 900  ==> 99,44 %  Aumenta la sensibilidad y disminuyen los falsos negativos.\n",
    "\n",
    "Especificidad = 95.805 / 99.100 ==>  96,67%  Disminuye la especificidad y aumentan los falsos positivos."
   ]
  },
  {
   "cell_type": "markdown",
   "metadata": {
    "slideshow": {
     "slide_type": "slide"
    }
   },
   "source": [
    "###  Ejercicio para establecer el criterio de positividad  de la mamografía ante el cáncer de mama:"
   ]
  },
  {
   "cell_type": "markdown",
   "metadata": {
    "slideshow": {
     "slide_type": "slide"
    }
   },
   "source": [
    "###  Ejercicio para establecer el criterio de positividad de la mamografía ante el cáncer de mama:\n",
    "\n",
    "\n",
    "\n",
    "> Prerrequisitos:  \n",
    "- Alto impacto  <== Alta prevalencia, morbilidad y mortalidad.\n",
    "\n",
    "### Sí.  Cáncer más común entre las mujeres.  Alta morbilidad y mortalidad.\n",
    "\n",
    "> Prerrequisitos:  \n",
    "- Tratamiento disponible.\n",
    "\n",
    "### Sí.   Detectado a tiempo, hay tratamiento disponible."
   ]
  },
  {
   "cell_type": "markdown",
   "metadata": {
    "slideshow": {
     "slide_type": "slide"
    }
   },
   "source": [
    "###  Ejercicio para establecer el criterio de positividad de la mamografía ante el cáncer de mama:\n",
    "\n",
    "> Gold Standard\n",
    "\n",
    "### Sí hay estudio \"Gold Standard\" ==>  Estudio histopatológica de muestra obtenida por biopsia."
   ]
  },
  {
   "cell_type": "markdown",
   "metadata": {
    "slideshow": {
     "slide_type": "slide"
    }
   },
   "source": [
    "###  Ejercicio para establecer el criterio de positividad de la mamografía ante el cáncer de mama:\n",
    "\n",
    "> Modalidades de testeo o tamizaje con *buenas características*  \n",
    "- Sensibilidad.\n",
    "- Especificidad.\n",
    "- Valor predictivo positivo.\n",
    "- Valor predictivo negativo.\n",
    "\n",
    "                                                        Histopatología\n",
    "                                                        Cáncer de mama\n",
    "\n",
    "\n",
    "|          |     |       +      |       -      |        |\n",
    "|:---------|:------:|:------------:|:------------:|:------:|\n",
    "|          |    +   |      42      |      18      |   60   |\n",
    "|Mamografía|    -   |       8      |     132      |  140   |\n",
    "|          |        |      50      |     150      |  200   |\n",
    "\n",
    "\n",
    "\n",
    "Sensibilidad =   42   / 50    ==>  84 %\n",
    "\n",
    "Especificidad =  132 / 150    ==>  88 %\n",
    "\n",
    "\n",
    "### Sí.       Sensibilidad del 84%.   Especificidad del 88%.  \n",
    "### Evidenciadas **apropiadamente** en estudios clínicos aleatorizados doble ciego, cuya ***validez interna ha sido comprobada  por el análisis crítico adecuado y por ende se puede generalizar.***"
   ]
  },
  {
   "cell_type": "markdown",
   "metadata": {
    "slideshow": {
     "slide_type": "slide"
    }
   },
   "source": [
    "###  Ejercicio para establecer el criterio de positividad de la mamografía ante el cáncer de mama:\n",
    "\n",
    "### Rendimiento de la prueba:\n",
    "\n",
    "#### Valor predictivo positivo (VPP):  Cuantos de los que tuvieron un resultado positivo, realmente están en estadío preclínico de la patología.\n",
    "\n",
    "                                                       Gold Standard   \n",
    "\n",
    "\n",
    "|      |     |       +      |       -      ||\n",
    "|:-----|:---:|:------------:|:------------:|:---:|\n",
    "|Screen|  +  | ***A*** | b | ***A + B*** |\n",
    "|test  |  -  | c | d | c + d |\n",
    "|      |     |a + c | b + d | T |\n",
    "\n",
    "\n",
    "\n",
    "VPP = A / A + B"
   ]
  },
  {
   "cell_type": "markdown",
   "metadata": {
    "slideshow": {
     "slide_type": "slide"
    }
   },
   "source": [
    "###  Ejercicio para establecer el criterio de positividad de la mamografía ante el cáncer de mama:\n",
    "\n",
    "### Rendimiento de la prueba:\n",
    "\n",
    "#### Valor predictivo negativo (VPN):  Cuantos de los que tuvieron un resultado negativo, realmente NO están en estadío preclínico de la patología.\n",
    "\n",
    "                                                      Gold Standard   \n",
    "\n",
    "\n",
    "|      |     |       +      |       -      ||\n",
    "|:-----|:---:|:------------:|:------------:|:---:|\n",
    "|Screen|  +  | a | b | a + b |\n",
    "|test  |  -  | c | ***D*** | ***C + D*** |\n",
    "|      |     |a + c | b + d | T |\n",
    "\n",
    "\n",
    "\n",
    "VPN = D / C + D"
   ]
  },
  {
   "cell_type": "markdown",
   "metadata": {
    "slideshow": {
     "slide_type": "slide"
    }
   },
   "source": [
    "###  Ejercicio para establecer el criterio de positividad de la mamografía ante el cáncer de mama:\n",
    "    \n",
    " \n",
    "                                                         Histopatología\n",
    "                                                         Cáncer de mama\n",
    "\n",
    "\n",
    "|          |     |       +      |       -      |        |\n",
    "|:---------|:------:|:------------:|:------------:|:------:|\n",
    "|          |    +   |      42      |      18      |   60   |\n",
    "|Mamografía|    -   |       8      |     132      |  140   |\n",
    "|          |        |      50      |     150      |  200   |\n",
    "\n",
    "\n",
    "\n",
    "VPP =   42   / 60    ==>  79 %\n",
    "\n",
    "VPN =  132  / 140    ==>  94,3 % "
   ]
  },
  {
   "cell_type": "markdown",
   "metadata": {
    "slideshow": {
     "slide_type": "slide"
    }
   },
   "source": [
    "###  Ejercicio para establecer el criterio de positividad de la mamografía ante el cáncer de mama:\n",
    "\n",
    "> Factibilidad del testeo o tamizaje.\n",
    "\n",
    "- Libre de molestia significativa !\n",
    "\n",
    "### Sí.  Y la irradiación, aunque hay que tenerla presente, es baja.\n",
    "\n",
    "- Eficiente y económico.  \n",
    "\n",
    "### Sí."
   ]
  },
  {
   "cell_type": "markdown",
   "metadata": {
    "slideshow": {
     "slide_type": "slide"
    }
   },
   "source": [
    "###  Ejercicio para establecer el criterio de positividad de la mamografía ante el cáncer de mama:\n",
    "\n",
    "- Que la persona acepte el seguimiento y que este sea posible.\n",
    "\n",
    "### Sí.\n",
    "\n",
    "- Alta especificidad.\n",
    "\n",
    "### Sí.\n",
    "\n",
    "- El testeo o tamizaje debe derivar en la disminución efectiva de efectos adversos.\n",
    "\n",
    "### Sí."
   ]
  },
  {
   "cell_type": "markdown",
   "metadata": {
    "slideshow": {
     "slide_type": "slide"
    }
   },
   "source": [
    "### ¿ La mamografía es un test de tamizaje adecuado ante el cáncer de mama ?\n",
    "\n",
    "# SÍ !   ...hasta que aparezca un test de tamizaje con mejores características !"
   ]
  },
  {
   "cell_type": "markdown",
   "metadata": {
    "slideshow": {
     "slide_type": "slide"
    }
   },
   "source": [
    "# Determinantes del valor predictivo\n",
    "> Prevalencia de enfermedad preclínica detectable.\n",
    "\n",
    "> ¡ Especificidad !\n",
    "\n",
    "> Sensibilidad\n",
    "\n",
    "                                                        Patología\n",
    "                                                      Gold Standard\n",
    "\n",
    "\n",
    "|          |     |       +      |       -      |        |\n",
    "|:---------|:------:|:------------:|:------------:|:------:|\n",
    "|          |    +   |      800     |      3.200      |   4.000   |\n",
    "|Test      |    -   |      100      |    95.900      |  96.000   |\n",
    "|          |        |      900      |    99.100      | 100.000   |\n",
    "\n",
    "\n",
    "\n",
    "Población = 100.000\n",
    "\n",
    "Prevalencia =  0,009\n",
    "\n",
    "Sensibilidad =  800 / 900  ==> 88,88 %\n",
    "\n",
    "Especificidad = 95.900 / 99.100 ==>  96,77%\n",
    "\n",
    "VPP =   800   / 4.000    ==>  20 %\n",
    "\n",
    "VPN =  95.900  / 96.000    ==>  99,896 %   "
   ]
  },
  {
   "cell_type": "markdown",
   "metadata": {
    "slideshow": {
     "slide_type": "slide"
    }
   },
   "source": [
    "# Determinantes del valor predictivo\n",
    "\n",
    "> Prevalencia de enfermedad preclínica detectable.\n",
    "\n",
    "> ¡ Especificidad !\n",
    "\n",
    "> Sensibilidad\n",
    "\n",
    "####  Si la prevalencia de la enfermedad en su fase preclínica detectable INCREMENTA:\n",
    "                                                        Patología\n",
    "                                                      Gold Standard\n",
    "\n",
    "\n",
    "|          |     |       +      |       -      |        |\n",
    "|:---------|:------:|:------------:|:------------:|:------:|\n",
    "|          |    +   |    1.000     |      3.200      |   4.200   |\n",
    "|Test      |    -   |      100      |    95.700      |  95.800   |\n",
    "|          |        |    1.100      |    98.900      | 100.000   |\n",
    "\n",
    "\n",
    "\n",
    "Población      =       100.000\n",
    "\n",
    "Prevalencia    =       0,011\n",
    "\n",
    "Sensibilidad   =       1.000    /    1.100    ==>  90,9   %  \n",
    "\n",
    "Especificidad  =      95.700    /   98.900    ==>  96,76  %\n",
    "\n",
    "VPP            =       1.000    /    4.200    ==>  23,8   %         AUMENTA\n",
    "\n",
    "VPN            =      95.700    /   95.800    ==>  99,895 % "
   ]
  },
  {
   "cell_type": "markdown",
   "metadata": {
    "slideshow": {
     "slide_type": "slide"
    }
   },
   "source": [
    "# ¿ RECONOZCO LAS CARACTERÍSTICAS **ESENCIALES** DEL TESTEO O TAMIZAJE... ?"
   ]
  },
  {
   "cell_type": "markdown",
   "metadata": {
    "slideshow": {
     "slide_type": "subslide"
    }
   },
   "source": [
    "### Objetivo de las pruebas o ensayos TT:\n",
    "\n",
    "# Buscar tempranamente población asintomática afectada por la patología."
   ]
  },
  {
   "cell_type": "markdown",
   "metadata": {
    "slideshow": {
     "slide_type": "slide"
    }
   },
   "source": [
    "# ¿ RECONOZCO LAS CARACTERÍSTICAS **ESENCIALES** DEL TESTEO O TAMIZAJE... ?"
   ]
  },
  {
   "cell_type": "markdown",
   "metadata": {
    "slideshow": {
     "slide_type": "subslide"
    }
   },
   "source": [
    "###  ~Prueba diagnóstica: \n",
    "\n",
    "# NO ES UNA PRUEBA DIAGNÓSTICA !!!!!!"
   ]
  },
  {
   "cell_type": "markdown",
   "metadata": {
    "slideshow": {
     "slide_type": "slide"
    }
   },
   "source": [
    "# ¿ RECONOZCO LAS CARACTERÍSTICAS **ESENCIALES** DEL TESTEO O TAMIZAJE... ?"
   ]
  },
  {
   "cell_type": "markdown",
   "metadata": {
    "slideshow": {
     "slide_type": "subslide"
    }
   },
   "source": [
    "### Presunción:  \n",
    "\n",
    "# La detección temprana hará el pronóstico  más favorable."
   ]
  },
  {
   "cell_type": "markdown",
   "metadata": {
    "slideshow": {
     "slide_type": "slide"
    }
   },
   "source": [
    "### Medidas de utilidad clínica:\n",
    "\n",
    "> Factibilidad.\n",
    "\n",
    "> Criterio de positividad.\n",
    "\n",
    "> Curva R.O.C. *\n",
    "\n"
   ]
  },
  {
   "cell_type": "markdown",
   "metadata": {
    "slideshow": {
     "slide_type": "slide"
    }
   },
   "source": [
    "# Curva R.O.C.:   Receiver Operating Characteristic Curve (R.O.C.)\n",
    "\n",
    "## Permite apreciar como la sensibilidad y la especificidad interactúan en una prueba de testeo o tamizaje, aprecidados en diferentes zonas sobre un nivel continuo."
   ]
  },
  {
   "cell_type": "markdown",
   "metadata": {
    "slideshow": {
     "slide_type": "slide"
    }
   },
   "source": [
    "![ROC1](ROC1.png)"
   ]
  },
  {
   "cell_type": "markdown",
   "metadata": {
    "slideshow": {
     "slide_type": "subslide"
    }
   },
   "source": [
    "![ROC1](ROC2.png)"
   ]
  },
  {
   "cell_type": "markdown",
   "metadata": {
    "slideshow": {
     "slide_type": "subslide"
    }
   },
   "source": [
    "![ROC1](ROC3.png)"
   ]
  },
  {
   "cell_type": "markdown",
   "metadata": {
    "slideshow": {
     "slide_type": "subslide"
    }
   },
   "source": [
    "![ROC1](ROC4.png)"
   ]
  },
  {
   "cell_type": "markdown",
   "metadata": {
    "slideshow": {
     "slide_type": "subslide"
    }
   },
   "source": [
    "![ROC1](ROC5.png)"
   ]
  },
  {
   "cell_type": "markdown",
   "metadata": {
    "slideshow": {
     "slide_type": "subslide"
    }
   },
   "source": [
    "![ROC1](ROC6.png)"
   ]
  },
  {
   "cell_type": "markdown",
   "metadata": {
    "slideshow": {
     "slide_type": "subslide"
    }
   },
   "source": [
    "![ROC1](ROC7.png)"
   ]
  },
  {
   "cell_type": "markdown",
   "metadata": {
    "slideshow": {
     "slide_type": "slide"
    }
   },
   "source": [
    "# ¿ Cómo saber si una prueba de testeo o tamizaje sirve ?"
   ]
  },
  {
   "cell_type": "markdown",
   "metadata": {
    "slideshow": {
     "slide_type": "subslide"
    }
   },
   "source": [
    "## Comprendiendo y validando factores claves  en el diseño de un estudio eficaz de testeo o tamizaje:\n",
    "\n",
    "> Medidas de eficacia.\n",
    "\n",
    "> Sesgos.\n",
    "\n",
    "> Diseño epidemiológico del estudio.\n"
   ]
  },
  {
   "cell_type": "markdown",
   "metadata": {
    "slideshow": {
     "slide_type": "slide"
    }
   },
   "source": [
    "# ¿ Cómo saber si una prueba de testeo o tamizaje sirve ?"
   ]
  },
  {
   "cell_type": "markdown",
   "metadata": {
    "slideshow": {
     "slide_type": "subslide"
    }
   },
   "source": [
    "## y además...\n",
    "\n",
    "### Comparando los resultados.\n",
    "- Entre la población que fue tamizada y la que no lo fue.\n",
    "\n",
    "## y verificando si:\n",
    "\n",
    "### ¿ El diseño epidemiológico soporta su propia evaluación ?\n",
    "\n",
    "### ¿ Surgió de estudios de observación o de ensayos fase III ?\n",
    "\n",
    "### ¿ Se conocen y controlaron las variables de \"confusión\" ?\n"
   ]
  },
  {
   "cell_type": "markdown",
   "metadata": {
    "slideshow": {
     "slide_type": "slide"
    }
   },
   "source": [
    "## Comprendiendo y validando factores claves  en el diseño de un estudio eficaz de testeo o tamizaje:\n",
    "\n",
    "> Medidas de eficacia.*\n",
    "\n",
    "Ensayo clínico aleatorizado ciego o doble ciego, fase III, que soporte el análisis crítico y evidencie su validez interna.\n",
    "\n",
    "> Sesgos.\n",
    "\n",
    "> Diseño epidemiológico del estudio.\n"
   ]
  },
  {
   "cell_type": "markdown",
   "metadata": {
    "slideshow": {
     "slide_type": "slide"
    }
   },
   "source": [
    "## Comprendiendo y validando factores claves  en el diseño de un estudio eficaz de testeo o tamizaje:\n",
    "\n",
    "> Medidas de eficacia.\n",
    "\n",
    "> Sesgos.*\n",
    "\n",
    "> Diseño epidemiológico del estudio.\n"
   ]
  },
  {
   "cell_type": "markdown",
   "metadata": {
    "slideshow": {
     "slide_type": "slide"
    }
   },
   "source": [
    "## Comprendiendo y validando factores claves  en el diseño de un estudio eficaz de testeo o tamizaje:\n",
    "\n",
    "### Sesgos (bias):\n",
    "\n",
    "#### 'Over diagnosis bias':  Afecta la INCIDENCIA.   Se encuentran más casos de la patología en el grupo testeado.\n",
    "\n",
    "##### 'Over diagnosis' es el diagnóstico de una enfermedad que nunca causará síntomas durante la vida del ser, ni su muerte.\n",
    "\n",
    "#####  El sesgo de \"sobre diagnóstico\", genera el incremento del número de casos detectados, que se refleja en la incidencia o prevalencia de la patología, pero cuyo riesgo se sobreestima, generando sobreactuación y consumo de recursos que debieran ser utilizados en la atención de otras patologías prevalentes y de mayor morbilidad o mortalidad."
   ]
  },
  {
   "cell_type": "markdown",
   "metadata": {
    "slideshow": {
     "slide_type": "slide"
    }
   },
   "source": [
    "## Comprendiendo y validando factores claves  en el diseño de un estudio eficaz de testeo o tamizaje:\n",
    "\n",
    "#####  El sesgo de \"sobre diagnóstico\", \n",
    "\n",
    "# se corrige comparando tasas de mortalidad específicas por edad."
   ]
  },
  {
   "cell_type": "markdown",
   "metadata": {
    "slideshow": {
     "slide_type": "slide"
    }
   },
   "source": [
    "## Comprendiendo y validando factores claves  en el diseño de un estudio eficaz de testeo o tamizaje:\n",
    "\n",
    "### Sesgos (bias):\n",
    "\n",
    "#### 'Lead Time bias':  Afecta la SOBREVIVENCIA.   Pacientes identificados con la prueba, vivirán más, que quienes obtuvieron un resultado negativo en la prueba.\n",
    "\n",
    "#####  El sesgo de \"tiempo de espera\", genera la falsa percepción que quienes son detectados por el tamizaje vivirán por más tiempo, que los que el tamizaje no detecta."
   ]
  },
  {
   "cell_type": "markdown",
   "metadata": {
    "slideshow": {
     "slide_type": "slide"
    }
   },
   "source": [
    "## Comprendiendo y validando factores claves  en el diseño de un estudio eficaz de testeo o tamizaje:\n",
    "\n",
    "#####  El sesgo de \"tiempo de espera\",\n",
    "\n",
    "# también se corrige comparando tasas de mortalidad específicas por edad."
   ]
  },
  {
   "cell_type": "markdown",
   "metadata": {
    "slideshow": {
     "slide_type": "slide"
    }
   },
   "source": [
    "## Comprendiendo y validando factores claves  en el diseño de un estudio eficaz de testeo o tamizaje:\n",
    "\n",
    "### Sesgos (bias):\n",
    "\n",
    "#### 'Length bias sampling':  Afecta la determinación del Estado/Severidad de la enfermedad.   Pacientes identificados con la prueba, son diagnosticados en un Estado con menor severidad, en comparación con quienes obtuvieron un resultado negativo.\n",
    "\n",
    "#####  El sesgo de \"longitud de muestreo\", genera la falsa percepción que quienes son detectados por el tamizaje tendrán menor severidad de la enfermedad, que los que el tamizaje no detectó.  Es un error pues los casos identificados NO SON UNA MUESTRA ALEATORIA DE TODAS LAS PERSONAS QUE TIENEN LA ENFERMEDAD."
   ]
  },
  {
   "cell_type": "markdown",
   "metadata": {
    "slideshow": {
     "slide_type": "slide"
    }
   },
   "source": [
    "## Comprendiendo y validando factores claves  en el diseño de un estudio eficaz de testeo o tamizaje:\n",
    "\n",
    "#####  El sesgo de \"longitud de muestreo\", \n",
    "\n",
    "# también se corrige comparando tasas de mortalidad específicas por edad."
   ]
  },
  {
   "cell_type": "markdown",
   "metadata": {
    "slideshow": {
     "slide_type": "slide"
    }
   },
   "source": [
    "## Comprendiendo y validando factores claves  en el diseño de un estudio eficaz de testeo o tamizaje:\n",
    "\n",
    "### Sesgos (bias):\n",
    "\n",
    "#### 'Volunteer bias':  Afecta inmensamente la prueba.  Se presenta en estudios observacionales.  Por eso estos no son adecuados.\n",
    "\n",
    "#####  El sesgo del \"voluntario\", es grave por:\n",
    "- \"Los voluntarios\" en un estudio observacional, son sistemáticamente diferentes de los \"no voluntarios\".\n",
    "- ¿Son los voluntarios personas saludables o no? ¿ Esperan alguna ganancia secundaria?\n",
    "- No hay control alguno  sobre las variables de confusión."
   ]
  },
  {
   "cell_type": "markdown",
   "metadata": {
    "slideshow": {
     "slide_type": "slide"
    }
   },
   "source": [
    "## Comprendiendo y validando factores claves  en el diseño de un estudio eficaz de testeo o tamizaje:\n",
    "\n",
    "#####  El sesgo del \"voluntario\",\n",
    "\n",
    "# se corrige asegurando que los estudios sean clínicos aleatorizados ciegos o doble ciegos, fase III, que soporten el análisis crítico y evidencien validez interna que les permita ser generalizables.\n",
    "\n",
    "\n"
   ]
  },
  {
   "cell_type": "markdown",
   "metadata": {
    "slideshow": {
     "slide_type": "slide"
    }
   },
   "source": [
    "## Comprendiendo y validando factores claves  en el diseño de un estudio eficaz de testeo o tamizaje:\n",
    "\n",
    "### Sesgos (bias):\n",
    "\n",
    "#### Sesgo de negatividad\n",
    "El sesgo de negatividad o efecto negativo se refiere al concepto que en grados de la misma intensidad, las cosas de naturaleza negativa (pensamientos desagradables, emociones, interacciones sociales o eventos traumáticos) tienen un peso mayor en los estados y procesos psicológicos de las personas que las cosas neutrales o positivas.  Es decir, algo muy positivo normalmente tendrá menos impacto en el comportamiento y en pensamiento de las personas que algo igualmente emocional pero negativo. El sesgo de negatividad se ha investigado desde muchos campos diferentes, incluyendo la formación de tales como: atención, aprendizaje, memoria, toma de decisiones y riesgos.\n",
    "\n",
    "#####  El sesgo del \"negatividad\", es grave en el testeo pues:\n",
    "- Refuerza todos los anteriores sesgos."
   ]
  },
  {
   "cell_type": "markdown",
   "metadata": {},
   "source": [
    "# Conceptos sesgo negatividad:\n",
    "\n",
    "Potencia negativa: ...ante la posibilidad de igual magnitud, los elementos, eventos, etc. positivos y negativos no destacan de igual forma. \n",
    "\n",
    "Desigualdad negativa:... los eventos negativos se perciben como más negativos respecto a los eventos positivos se perciben como más positivos cuanto más cercano (en tiempo o espacio) es el evento en cuestión. \n",
    "\n",
    "     Rozin y Edward Royzman\n"
   ]
  },
  {
   "cell_type": "markdown",
   "metadata": {},
   "source": [
    "# Conceptos sesgo negatividad:\n",
    "\n",
    "Dominio negativo: ...tendencia de la combinación de elementos o eventos positivos y negativos hacia una interpretación global más negativa de la que cabría esperar si se analizaran los elementos positivos y negativos de forma individual. En términos de Gestalt, el todo es más negativo que la suma de las partes.\n",
    "\n",
    "Diferenciación negativa: ...la conceptualización de la negatividad es más elaborada y compleja que la de la positividad. El concepto de diferenciación negativa es consistente con la hipótesis movilización-minimalización que postula que los eventos negativos, debido de su complejidad, requieren movilizar más recursos cognitivos para tratar la experiencia afectiva y un mayor esfuerzo para minimizar sus consecuencias.     \n",
    "\n",
    "    Rozin y Edward Royzman\n"
   ]
  },
  {
   "cell_type": "markdown",
   "metadata": {
    "slideshow": {
     "slide_type": "slide"
    }
   },
   "source": [
    "# Comparativo Tasas de Mortalidad por millón de habitantes\n",
    "# Colombia\n",
    "### Elaborado por:  Luis Evelio García Restrepo.  MD. MAS. EF\n",
    "### Fuentes:  \n",
    "#### DANE.  Preliminares Tasas de Mortalidad por millón de habitantes último trimestre 2019  (ajustado a equivalentes días de pandemia en Colombia.          -  INS :  Instituto Nacional de Salud Colombia: Datos CoVid19.  Pendiente depuración de muertes CON COVID-19 vs muertes POR COVID-19 .  "
   ]
  },
  {
   "cell_type": "code",
   "execution_count": 1,
   "metadata": {
    "slideshow": {
     "slide_type": "slide"
    }
   },
   "outputs": [],
   "source": [
    "import pandas as pd"
   ]
  },
  {
   "cell_type": "code",
   "execution_count": 2,
   "metadata": {
    "slideshow": {
     "slide_type": "slide"
    }
   },
   "outputs": [],
   "source": [
    "%matplotlib inline"
   ]
  },
  {
   "cell_type": "code",
   "execution_count": 3,
   "metadata": {
    "slideshow": {
     "slide_type": "slide"
    }
   },
   "outputs": [],
   "source": [
    "col = pd.read_csv('CovidColombia.csv', usecols= ['Fecha de notificación',\n",
    "       'Ciudad de ubicación', 'Departamento o Distrito ', 'atención', 'Edad',\n",
    "       'Sexo', 'Tipo', 'Estado', 'País de procedencia',\n",
    "       'Fecha de muerte', 'Fecha diagnostico', 'Fecha recuperado',\n",
    "       'Tipo recuperación'],date_parser= ['Fecha de notificación','Fecha de muerte', 'Fecha diagnostico',\n",
    "       'Fecha recuperado'], low_memory = False)"
   ]
  },
  {
   "cell_type": "code",
   "execution_count": 4,
   "metadata": {
    "slideshow": {
     "slide_type": "slide"
    }
   },
   "outputs": [],
   "source": [
    "etarioDefunciones= pd.read_csv('etarioDefunciones.csv')  # de Fallecidos Dpto Municip COVID19 por etarios"
   ]
  },
  {
   "cell_type": "code",
   "execution_count": 5,
   "metadata": {
    "slideshow": {
     "slide_type": "slide"
    }
   },
   "outputs": [],
   "source": [
    "etarioDefuncionesColombia= pd.read_csv('etarioDefuncionesCOLOMBIA.csv')   # de Fallecidos COLOMBIA COVID19 por etarios"
   ]
  },
  {
   "cell_type": "markdown",
   "metadata": {
    "slideshow": {
     "slide_type": "slide"
    }
   },
   "source": [
    "# Municipio:  Número de fallecidos:"
   ]
  },
  {
   "cell_type": "code",
   "execution_count": 6,
   "metadata": {
    "slideshow": {
     "slide_type": "subslide"
    }
   },
   "outputs": [
    {
     "data": {
      "text/html": [
       "<div>\n",
       "<style scoped>\n",
       "    .dataframe tbody tr th:only-of-type {\n",
       "        vertical-align: middle;\n",
       "    }\n",
       "\n",
       "    .dataframe tbody tr th {\n",
       "        vertical-align: top;\n",
       "    }\n",
       "\n",
       "    .dataframe thead th {\n",
       "        text-align: right;\n",
       "    }\n",
       "</style>\n",
       "<table border=\"1\" class=\"dataframe\">\n",
       "  <thead>\n",
       "    <tr style=\"text-align: right;\">\n",
       "      <th></th>\n",
       "      <th>Unnamed: 0</th>\n",
       "      <th>Número fallecidos</th>\n",
       "    </tr>\n",
       "  </thead>\n",
       "  <tbody>\n",
       "    <tr>\n",
       "      <th>0</th>\n",
       "      <td>edad 0 a 4</td>\n",
       "      <td>1</td>\n",
       "    </tr>\n",
       "    <tr>\n",
       "      <th>1</th>\n",
       "      <td>edad 5 a 14</td>\n",
       "      <td>1</td>\n",
       "    </tr>\n",
       "    <tr>\n",
       "      <th>2</th>\n",
       "      <td>edad 15 a 44</td>\n",
       "      <td>16</td>\n",
       "    </tr>\n",
       "    <tr>\n",
       "      <th>3</th>\n",
       "      <td>edad 45 a 64</td>\n",
       "      <td>67</td>\n",
       "    </tr>\n",
       "    <tr>\n",
       "      <th>4</th>\n",
       "      <td>edad 65 a 84</td>\n",
       "      <td>172</td>\n",
       "    </tr>\n",
       "    <tr>\n",
       "      <th>5</th>\n",
       "      <td>edad 85 a 99</td>\n",
       "      <td>51</td>\n",
       "    </tr>\n",
       "    <tr>\n",
       "      <th>6</th>\n",
       "      <td>edad 100 o más</td>\n",
       "      <td>1</td>\n",
       "    </tr>\n",
       "    <tr>\n",
       "      <th>7</th>\n",
       "      <td>Total</td>\n",
       "      <td>309</td>\n",
       "    </tr>\n",
       "  </tbody>\n",
       "</table>\n",
       "</div>"
      ],
      "text/plain": [
       "       Unnamed: 0  Número fallecidos\n",
       "0      edad 0 a 4                  1\n",
       "1     edad 5 a 14                  1\n",
       "2    edad 15 a 44                 16\n",
       "3    edad 45 a 64                 67\n",
       "4    edad 65 a 84                172\n",
       "5    edad 85 a 99                 51\n",
       "6  edad 100 o más                  1\n",
       "7           Total                309"
      ]
     },
     "execution_count": 6,
     "metadata": {},
     "output_type": "execute_result"
    }
   ],
   "source": [
    "etarioDefunciones"
   ]
  },
  {
   "cell_type": "markdown",
   "metadata": {},
   "source": [
    "# Enfermos por edad\n"
   ]
  },
  {
   "cell_type": "markdown",
   "metadata": {
    "slideshow": {
     "slide_type": "slide"
    }
   },
   "source": [
    "# Colombia:  Número de fallecidos por grupo etario:"
   ]
  },
  {
   "cell_type": "code",
   "execution_count": 7,
   "metadata": {
    "slideshow": {
     "slide_type": "subslide"
    }
   },
   "outputs": [
    {
     "data": {
      "text/html": [
       "<div>\n",
       "<style scoped>\n",
       "    .dataframe tbody tr th:only-of-type {\n",
       "        vertical-align: middle;\n",
       "    }\n",
       "\n",
       "    .dataframe tbody tr th {\n",
       "        vertical-align: top;\n",
       "    }\n",
       "\n",
       "    .dataframe thead th {\n",
       "        text-align: right;\n",
       "    }\n",
       "</style>\n",
       "<table border=\"1\" class=\"dataframe\">\n",
       "  <thead>\n",
       "    <tr style=\"text-align: right;\">\n",
       "      <th></th>\n",
       "      <th>Unnamed: 0</th>\n",
       "      <th>edad 0 a 4</th>\n",
       "      <th>edad 5 a 14</th>\n",
       "      <th>edad 15 a 44</th>\n",
       "      <th>edad 45 a 64</th>\n",
       "      <th>edad 65 a 84</th>\n",
       "      <th>edad 85 a 99</th>\n",
       "      <th>edad 100 o mas</th>\n",
       "      <th>Total fallecidos</th>\n",
       "    </tr>\n",
       "  </thead>\n",
       "  <tbody>\n",
       "    <tr>\n",
       "      <th>0</th>\n",
       "      <td>Número fallecidos</td>\n",
       "      <td>74</td>\n",
       "      <td>37</td>\n",
       "      <td>2276</td>\n",
       "      <td>8706</td>\n",
       "      <td>15912</td>\n",
       "      <td>4481</td>\n",
       "      <td>70</td>\n",
       "      <td>31556</td>\n",
       "    </tr>\n",
       "  </tbody>\n",
       "</table>\n",
       "</div>"
      ],
      "text/plain": [
       "          Unnamed: 0  edad 0 a 4  edad 5 a 14  edad 15 a 44  edad 45 a 64  \\\n",
       "0  Número fallecidos          74           37          2276          8706   \n",
       "\n",
       "   edad 65 a 84  edad 85 a 99  edad 100 o mas  Total fallecidos  \n",
       "0         15912          4481              70             31556  "
      ]
     },
     "execution_count": 7,
     "metadata": {},
     "output_type": "execute_result"
    }
   ],
   "source": [
    "etarioDefuncionesColombia"
   ]
  },
  {
   "cell_type": "code",
   "execution_count": 8,
   "metadata": {
    "slideshow": {
     "slide_type": "slide"
    }
   },
   "outputs": [],
   "source": [
    "poblacion= pd.read_csv('Dane2018_2023.csv', usecols= ['Dpto','Municipio','Género','2020'])"
   ]
  },
  {
   "cell_type": "markdown",
   "metadata": {
    "slideshow": {
     "slide_type": "slide"
    }
   },
   "source": [
    "# Colombia: Habitantes por grupos etarios. Proyección 2020.  DANE"
   ]
  },
  {
   "cell_type": "code",
   "execution_count": 9,
   "metadata": {
    "scrolled": false,
    "slideshow": {
     "slide_type": "subslide"
    }
   },
   "outputs": [
    {
     "data": {
      "text/html": [
       "<div>\n",
       "<style scoped>\n",
       "    .dataframe tbody tr th:only-of-type {\n",
       "        vertical-align: middle;\n",
       "    }\n",
       "\n",
       "    .dataframe tbody tr th {\n",
       "        vertical-align: top;\n",
       "    }\n",
       "\n",
       "    .dataframe thead th {\n",
       "        text-align: right;\n",
       "    }\n",
       "</style>\n",
       "<table border=\"1\" class=\"dataframe\">\n",
       "  <thead>\n",
       "    <tr style=\"text-align: right;\">\n",
       "      <th></th>\n",
       "      <th>DEPARTAMENTO</th>\n",
       "      <th>MUNICIPIO</th>\n",
       "      <th>edad 100 o mas</th>\n",
       "      <th>Total Hombres</th>\n",
       "      <th>Total Mujeres</th>\n",
       "      <th>Total</th>\n",
       "      <th>edad 0 a 4</th>\n",
       "      <th>edad 5 a 14</th>\n",
       "      <th>edad 15 a 44</th>\n",
       "      <th>edad 45 a 64</th>\n",
       "      <th>edad 65 a 84</th>\n",
       "      <th>edad 85 a 99</th>\n",
       "    </tr>\n",
       "    <tr>\n",
       "      <th></th>\n",
       "      <th></th>\n",
       "      <th></th>\n",
       "      <th></th>\n",
       "      <th></th>\n",
       "      <th></th>\n",
       "      <th></th>\n",
       "      <th></th>\n",
       "      <th></th>\n",
       "      <th></th>\n",
       "      <th></th>\n",
       "      <th></th>\n",
       "      <th></th>\n",
       "    </tr>\n",
       "  </thead>\n",
       "  <tbody>\n",
       "    <tr>\n",
       "      <th>107</th>\n",
       "      <td>Antioquia</td>\n",
       "      <td>Medellín</td>\n",
       "      <td>1631</td>\n",
       "      <td>1193791</td>\n",
       "      <td>1339633</td>\n",
       "      <td>2533424</td>\n",
       "      <td>148533</td>\n",
       "      <td>311575</td>\n",
       "      <td>1224276</td>\n",
       "      <td>581270</td>\n",
       "      <td>240903</td>\n",
       "      <td>25236</td>\n",
       "    </tr>\n",
       "    <tr>\n",
       "      <th>260</th>\n",
       "      <td>Antioquia</td>\n",
       "      <td>Abejorral</td>\n",
       "      <td>15</td>\n",
       "      <td>10558</td>\n",
       "      <td>9729</td>\n",
       "      <td>20287</td>\n",
       "      <td>1291</td>\n",
       "      <td>3046</td>\n",
       "      <td>8299</td>\n",
       "      <td>4993</td>\n",
       "      <td>2417</td>\n",
       "      <td>226</td>\n",
       "    </tr>\n",
       "    <tr>\n",
       "      <th>413</th>\n",
       "      <td>Antioquia</td>\n",
       "      <td>Abriaquí</td>\n",
       "      <td>0</td>\n",
       "      <td>1482</td>\n",
       "      <td>1253</td>\n",
       "      <td>2735</td>\n",
       "      <td>213</td>\n",
       "      <td>427</td>\n",
       "      <td>1156</td>\n",
       "      <td>608</td>\n",
       "      <td>302</td>\n",
       "      <td>29</td>\n",
       "    </tr>\n",
       "    <tr>\n",
       "      <th>566</th>\n",
       "      <td>Antioquia</td>\n",
       "      <td>Alejandría</td>\n",
       "      <td>0</td>\n",
       "      <td>2338</td>\n",
       "      <td>2360</td>\n",
       "      <td>4698</td>\n",
       "      <td>420</td>\n",
       "      <td>737</td>\n",
       "      <td>1889</td>\n",
       "      <td>1062</td>\n",
       "      <td>525</td>\n",
       "      <td>65</td>\n",
       "    </tr>\n",
       "    <tr>\n",
       "      <th>719</th>\n",
       "      <td>Antioquia</td>\n",
       "      <td>Amagá</td>\n",
       "      <td>9</td>\n",
       "      <td>15382</td>\n",
       "      <td>15901</td>\n",
       "      <td>31283</td>\n",
       "      <td>2024</td>\n",
       "      <td>4280</td>\n",
       "      <td>14150</td>\n",
       "      <td>7653</td>\n",
       "      <td>2868</td>\n",
       "      <td>299</td>\n",
       "    </tr>\n",
       "    <tr>\n",
       "      <th>...</th>\n",
       "      <td>...</td>\n",
       "      <td>...</td>\n",
       "      <td>...</td>\n",
       "      <td>...</td>\n",
       "      <td>...</td>\n",
       "      <td>...</td>\n",
       "      <td>...</td>\n",
       "      <td>...</td>\n",
       "      <td>...</td>\n",
       "      <td>...</td>\n",
       "      <td>...</td>\n",
       "      <td>...</td>\n",
       "    </tr>\n",
       "    <tr>\n",
       "      <th>171161</th>\n",
       "      <td>Vichada</td>\n",
       "      <td>Puerto Carreño</td>\n",
       "      <td>4</td>\n",
       "      <td>10520</td>\n",
       "      <td>9774</td>\n",
       "      <td>20294</td>\n",
       "      <td>2106</td>\n",
       "      <td>3856</td>\n",
       "      <td>10392</td>\n",
       "      <td>3089</td>\n",
       "      <td>797</td>\n",
       "      <td>50</td>\n",
       "    </tr>\n",
       "    <tr>\n",
       "      <th>171314</th>\n",
       "      <td>Vichada</td>\n",
       "      <td>La Primavera</td>\n",
       "      <td>1</td>\n",
       "      <td>5055</td>\n",
       "      <td>4553</td>\n",
       "      <td>9608</td>\n",
       "      <td>948</td>\n",
       "      <td>2097</td>\n",
       "      <td>4546</td>\n",
       "      <td>1534</td>\n",
       "      <td>436</td>\n",
       "      <td>46</td>\n",
       "    </tr>\n",
       "    <tr>\n",
       "      <th>171467</th>\n",
       "      <td>Vichada</td>\n",
       "      <td>Santa Rosalía</td>\n",
       "      <td>0</td>\n",
       "      <td>2173</td>\n",
       "      <td>2020</td>\n",
       "      <td>4193</td>\n",
       "      <td>381</td>\n",
       "      <td>970</td>\n",
       "      <td>1977</td>\n",
       "      <td>671</td>\n",
       "      <td>180</td>\n",
       "      <td>14</td>\n",
       "    </tr>\n",
       "    <tr>\n",
       "      <th>171620</th>\n",
       "      <td>Vichada</td>\n",
       "      <td>Cumaribo</td>\n",
       "      <td>18</td>\n",
       "      <td>41840</td>\n",
       "      <td>37023</td>\n",
       "      <td>78863</td>\n",
       "      <td>10538</td>\n",
       "      <td>21092</td>\n",
       "      <td>35333</td>\n",
       "      <td>9348</td>\n",
       "      <td>2364</td>\n",
       "      <td>170</td>\n",
       "    </tr>\n",
       "    <tr>\n",
       "      <th>172621</th>\n",
       "      <td>COLOMBIA</td>\n",
       "      <td>COLOMBIA</td>\n",
       "      <td>19219</td>\n",
       "      <td>20887044</td>\n",
       "      <td>21741425</td>\n",
       "      <td>42628469</td>\n",
       "      <td>3433969</td>\n",
       "      <td>6938817</td>\n",
       "      <td>19541755</td>\n",
       "      <td>8757142</td>\n",
       "      <td>3512813</td>\n",
       "      <td>424754</td>\n",
       "    </tr>\n",
       "  </tbody>\n",
       "</table>\n",
       "<p>1122 rows × 12 columns</p>\n",
       "</div>"
      ],
      "text/plain": [
       "       DEPARTAMENTO       MUNICIPIO  edad 100 o mas  Total Hombres  \\\n",
       "                                                                     \n",
       "107       Antioquia        Medellín            1631        1193791   \n",
       "260       Antioquia       Abejorral              15          10558   \n",
       "413       Antioquia        Abriaquí               0           1482   \n",
       "566       Antioquia      Alejandría               0           2338   \n",
       "719       Antioquia           Amagá               9          15382   \n",
       "...             ...             ...             ...            ...   \n",
       "171161      Vichada  Puerto Carreño               4          10520   \n",
       "171314      Vichada    La Primavera               1           5055   \n",
       "171467      Vichada   Santa Rosalía               0           2173   \n",
       "171620      Vichada        Cumaribo              18          41840   \n",
       "172621     COLOMBIA        COLOMBIA           19219       20887044   \n",
       "\n",
       "        Total Mujeres     Total  edad 0 a 4  edad 5 a 14  edad 15 a 44  \\\n",
       "                                                                         \n",
       "107           1339633   2533424      148533       311575       1224276   \n",
       "260              9729     20287        1291         3046          8299   \n",
       "413              1253      2735         213          427          1156   \n",
       "566              2360      4698         420          737          1889   \n",
       "719             15901     31283        2024         4280         14150   \n",
       "...               ...       ...         ...          ...           ...   \n",
       "171161           9774     20294        2106         3856         10392   \n",
       "171314           4553      9608         948         2097          4546   \n",
       "171467           2020      4193         381          970          1977   \n",
       "171620          37023     78863       10538        21092         35333   \n",
       "172621       21741425  42628469     3433969      6938817      19541755   \n",
       "\n",
       "        edad 45 a 64  edad 65 a 84  edad 85 a 99  \n",
       "                                                  \n",
       "107           581270        240903         25236  \n",
       "260             4993          2417           226  \n",
       "413              608           302            29  \n",
       "566             1062           525            65  \n",
       "719             7653          2868           299  \n",
       "...              ...           ...           ...  \n",
       "171161          3089           797            50  \n",
       "171314          1534           436            46  \n",
       "171467           671           180            14  \n",
       "171620          9348          2364           170  \n",
       "172621       8757142       3512813        424754  \n",
       "\n",
       "[1122 rows x 12 columns]"
      ]
     },
     "execution_count": 9,
     "metadata": {},
     "output_type": "execute_result"
    }
   ],
   "source": [
    "etariosporMunic= pd.read_csv('totalEtariosMunicDpto.csv', names=['', 'DEPARTAMENTO', 'MUNICIPIO','edad 100 o mas', \n",
    "                                                           'Total Hombres', 'Total Mujeres',\n",
    "                                                           'Total', 'edad 0 a 4', 'edad 5 a 14','edad 15 a 44', \n",
    "                                                           'edad 45 a 64', 'edad 65 a 84', 'edad 85 a 99'], skiprows=1, index_col= '')\n",
    "etariosporMunic"
   ]
  },
  {
   "cell_type": "code",
   "execution_count": 10,
   "metadata": {
    "slideshow": {
     "slide_type": "skip"
    }
   },
   "outputs": [],
   "source": [
    "etarios2= etariosporMunic"
   ]
  },
  {
   "cell_type": "markdown",
   "metadata": {
    "slideshow": {
     "slide_type": "slide"
    }
   },
   "source": [
    "# Selección departamento/municipio: Habitantes por grupos etarios. Proyección 2020.  DANE"
   ]
  },
  {
   "cell_type": "code",
   "execution_count": 11,
   "metadata": {
    "slideshow": {
     "slide_type": "slide"
    }
   },
   "outputs": [
    {
     "name": "stdout",
     "output_type": "stream",
     "text": [
      "Ingrese el departamento (para el total del país, ingrese 'COLOMBIA'):  Caldas\n"
     ]
    }
   ],
   "source": [
    "localidad= input(\"Ingrese el departamento (para el total del país, ingrese 'COLOMBIA'):  \" )\n"
   ]
  },
  {
   "cell_type": "code",
   "execution_count": 12,
   "metadata": {
    "slideshow": {
     "slide_type": "slide"
    }
   },
   "outputs": [
    {
     "name": "stdout",
     "output_type": "stream",
     "text": [
      "Ingrese el municipio (si quiere todos los del departamentos, digite 'T'):  Manizales\n"
     ]
    }
   ],
   "source": [
    "localidad1= input(\"Ingrese el municipio (si quiere todos los del departamentos, digite 'T'):  \")\n"
   ]
  },
  {
   "cell_type": "code",
   "execution_count": 13,
   "metadata": {
    "scrolled": true,
    "slideshow": {
     "slide_type": "skip"
    }
   },
   "outputs": [
    {
     "data": {
      "text/plain": [
       "('Caldas', 'Manizales')"
      ]
     },
     "execution_count": 13,
     "metadata": {},
     "output_type": "execute_result"
    }
   ],
   "source": [
    "localidad, localidad1"
   ]
  },
  {
   "cell_type": "code",
   "execution_count": 14,
   "metadata": {
    "slideshow": {
     "slide_type": "slide"
    }
   },
   "outputs": [],
   "source": [
    "if localidad1 =='T':\n",
    "    filtroMunic = (etarios2['DEPARTAMENTO']==localidad)\n",
    "    etariosporMunic = etarios2.loc[filtroMunic,:]\n",
    "else:\n",
    "    filtroMunic = (etarios2['DEPARTAMENTO']==localidad) & (etarios2['MUNICIPIO']==localidad1)\n",
    "    etariosporMunic = etarios2.loc[filtroMunic,:]\n",
    "    "
   ]
  },
  {
   "cell_type": "code",
   "execution_count": 15,
   "metadata": {
    "scrolled": true,
    "slideshow": {
     "slide_type": "slide"
    }
   },
   "outputs": [
    {
     "name": "stderr",
     "output_type": "stream",
     "text": [
      "/Library/Frameworks/Python.framework/Versions/3.7/lib/python3.7/site-packages/ipykernel_launcher.py:1: SettingWithCopyWarning: \n",
      "A value is trying to be set on a copy of a slice from a DataFrame.\n",
      "Try using .loc[row_indexer,col_indexer] = value instead\n",
      "\n",
      "See the caveats in the documentation: https://pandas.pydata.org/pandas-docs/stable/user_guide/indexing.html#returning-a-view-versus-a-copy\n",
      "  \"\"\"Entry point for launching an IPython kernel.\n"
     ]
    },
    {
     "data": {
      "text/html": [
       "<div>\n",
       "<style scoped>\n",
       "    .dataframe tbody tr th:only-of-type {\n",
       "        vertical-align: middle;\n",
       "    }\n",
       "\n",
       "    .dataframe tbody tr th {\n",
       "        vertical-align: top;\n",
       "    }\n",
       "\n",
       "    .dataframe thead th {\n",
       "        text-align: right;\n",
       "    }\n",
       "</style>\n",
       "<table border=\"1\" class=\"dataframe\">\n",
       "  <thead>\n",
       "    <tr style=\"text-align: right;\">\n",
       "      <th></th>\n",
       "      <th>DEPARTAMENTO</th>\n",
       "      <th>MUNICIPIO</th>\n",
       "      <th>edad 100 o mas</th>\n",
       "      <th>Total Hombres</th>\n",
       "      <th>Total Mujeres</th>\n",
       "      <th>Total</th>\n",
       "      <th>edad 0 a 4</th>\n",
       "      <th>edad 5 a 14</th>\n",
       "      <th>edad 15 a 44</th>\n",
       "      <th>edad 45 a 64</th>\n",
       "      <th>edad 65 a 84</th>\n",
       "      <th>edad 85 a 99</th>\n",
       "    </tr>\n",
       "    <tr>\n",
       "      <th>INDICE</th>\n",
       "      <th></th>\n",
       "      <th></th>\n",
       "      <th></th>\n",
       "      <th></th>\n",
       "      <th></th>\n",
       "      <th></th>\n",
       "      <th></th>\n",
       "      <th></th>\n",
       "      <th></th>\n",
       "      <th></th>\n",
       "      <th></th>\n",
       "      <th></th>\n",
       "    </tr>\n",
       "  </thead>\n",
       "  <tbody>\n",
       "    <tr>\n",
       "      <th>0</th>\n",
       "      <td>Caldas</td>\n",
       "      <td>Manizales</td>\n",
       "      <td>201</td>\n",
       "      <td>210254</td>\n",
       "      <td>235906</td>\n",
       "      <td>446160</td>\n",
       "      <td>23587</td>\n",
       "      <td>50227</td>\n",
       "      <td>198767</td>\n",
       "      <td>113931</td>\n",
       "      <td>53426</td>\n",
       "      <td>6021</td>\n",
       "    </tr>\n",
       "  </tbody>\n",
       "</table>\n",
       "</div>"
      ],
      "text/plain": [
       "       DEPARTAMENTO  MUNICIPIO  edad 100 o mas  Total Hombres  Total Mujeres  \\\n",
       "INDICE                                                                         \n",
       "0            Caldas  Manizales             201         210254         235906   \n",
       "\n",
       "         Total  edad 0 a 4  edad 5 a 14  edad 15 a 44  edad 45 a 64  \\\n",
       "INDICE                                                                \n",
       "0       446160       23587        50227        198767        113931   \n",
       "\n",
       "        edad 65 a 84  edad 85 a 99  \n",
       "INDICE                              \n",
       "0              53426          6021  "
      ]
     },
     "execution_count": 15,
     "metadata": {},
     "output_type": "execute_result"
    }
   ],
   "source": [
    "etariosporMunic['INDICE']=0\n",
    "etariosporMunic= etariosporMunic.set_index('INDICE')\n",
    "etariosporMunic"
   ]
  },
  {
   "cell_type": "markdown",
   "metadata": {
    "slideshow": {
     "slide_type": "slide"
    }
   },
   "source": [
    "# Días desde el primer caso notificado (02 marzo 2020 -  había arrivado al país 5 días antes)"
   ]
  },
  {
   "cell_type": "code",
   "execution_count": 16,
   "metadata": {
    "slideshow": {
     "slide_type": "subslide"
    }
   },
   "outputs": [
    {
     "data": {
      "text/plain": [
       "239"
      ]
     },
     "execution_count": 16,
     "metadata": {},
     "output_type": "execute_result"
    }
   ],
   "source": [
    "dias = (pd.to_datetime(col['Fecha de notificación'].max()) - pd.to_datetime(col['Fecha de notificación'].min())).days\n",
    "dias"
   ]
  },
  {
   "cell_type": "markdown",
   "metadata": {
    "slideshow": {
     "slide_type": "slide"
    }
   },
   "source": [
    "# Colombia:  Fallecidos por COVID-19 a última fecha de notificación INS (pendiente ajustes)"
   ]
  },
  {
   "cell_type": "markdown",
   "metadata": {
    "slideshow": {
     "slide_type": "slide"
    }
   },
   "source": [
    "#### Fecha último dato:"
   ]
  },
  {
   "cell_type": "code",
   "execution_count": 17,
   "metadata": {
    "slideshow": {
     "slide_type": "subslide"
    }
   },
   "outputs": [
    {
     "data": {
      "text/plain": [
       "Timestamp('2020-10-27 00:00:00')"
      ]
     },
     "execution_count": 17,
     "metadata": {},
     "output_type": "execute_result"
    }
   ],
   "source": [
    "Fecha_ultimo_dato = pd.to_datetime(col['Fecha de notificación'].max())\n",
    "Fecha_ultimo_dato"
   ]
  },
  {
   "cell_type": "code",
   "execution_count": 18,
   "metadata": {
    "scrolled": false,
    "slideshow": {
     "slide_type": "subslide"
    }
   },
   "outputs": [
    {
     "data": {
      "text/plain": [
       "33638"
      ]
     },
     "execution_count": 18,
     "metadata": {},
     "output_type": "execute_result"
    }
   ],
   "source": [
    "fallecidos = col.loc[:,'Fecha de muerte'].count()\n",
    "fallecidos"
   ]
  },
  {
   "cell_type": "markdown",
   "metadata": {
    "slideshow": {
     "slide_type": "slide"
    }
   },
   "source": [
    "# TASA DE MORTALIDAD PRINCIPALES CAUSAS POR GRUPO ETARIO.\n",
    "## Factor comparativo con base en COVID-19"
   ]
  },
  {
   "cell_type": "code",
   "execution_count": 19,
   "metadata": {
    "scrolled": true,
    "slideshow": {
     "slide_type": "slide"
    }
   },
   "outputs": [
    {
     "data": {
      "text/html": [
       "<div>\n",
       "<style scoped>\n",
       "    .dataframe tbody tr th:only-of-type {\n",
       "        vertical-align: middle;\n",
       "    }\n",
       "\n",
       "    .dataframe tbody tr th {\n",
       "        vertical-align: top;\n",
       "    }\n",
       "\n",
       "    .dataframe thead th {\n",
       "        text-align: right;\n",
       "    }\n",
       "</style>\n",
       "<table border=\"1\" class=\"dataframe\">\n",
       "  <thead>\n",
       "    <tr style=\"text-align: right;\">\n",
       "      <th></th>\n",
       "      <th>Código</th>\n",
       "      <th>Causa de defunción</th>\n",
       "      <th>Total</th>\n",
       "      <th>edad 0 a 4</th>\n",
       "      <th>edad 5 a 14</th>\n",
       "      <th>edad 15 a 44</th>\n",
       "      <th>edad 45 a 64</th>\n",
       "      <th>edad 65 a 84</th>\n",
       "      <th>edad 85 a 99</th>\n",
       "      <th>edad 100 o mas</th>\n",
       "      <th>edad desconocida</th>\n",
       "      <th>Tasa de Mortalidad</th>\n",
       "      <th>Factor</th>\n",
       "    </tr>\n",
       "  </thead>\n",
       "  <tbody>\n",
       "    <tr>\n",
       "      <th>0</th>\n",
       "      <td>200-215</td>\n",
       "      <td>Neoplasias</td>\n",
       "      <td>126784.0</td>\n",
       "      <td>NaN</td>\n",
       "      <td>NaN</td>\n",
       "      <td>NaN</td>\n",
       "      <td>NaN</td>\n",
       "      <td>NaN</td>\n",
       "      <td>NaN</td>\n",
       "      <td>NaN</td>\n",
       "      <td>NaN</td>\n",
       "      <td>2535.68</td>\n",
       "      <td>3.86</td>\n",
       "    </tr>\n",
       "    <tr>\n",
       "      <th>1</th>\n",
       "      <td>303</td>\n",
       "      <td>Enfermedades isquémicas del corazón</td>\n",
       "      <td>99626.0</td>\n",
       "      <td>2.0</td>\n",
       "      <td>10.0</td>\n",
       "      <td>1450.0</td>\n",
       "      <td>11984.0</td>\n",
       "      <td>36504.0</td>\n",
       "      <td>23998.0</td>\n",
       "      <td>1082.0</td>\n",
       "      <td>2.0</td>\n",
       "      <td>1992.52</td>\n",
       "      <td>3.03</td>\n",
       "    </tr>\n",
       "    <tr>\n",
       "      <th>2</th>\n",
       "      <td>605</td>\n",
       "      <td>Enfermedades crónicas de las vías respiratoria...</td>\n",
       "      <td>42266.0</td>\n",
       "      <td>26.0</td>\n",
       "      <td>10.0</td>\n",
       "      <td>222.0</td>\n",
       "      <td>2290.0</td>\n",
       "      <td>15284.0</td>\n",
       "      <td>13514.0</td>\n",
       "      <td>486.0</td>\n",
       "      <td>0.0</td>\n",
       "      <td>845.32</td>\n",
       "      <td>1.29</td>\n",
       "    </tr>\n",
       "    <tr>\n",
       "      <th>3</th>\n",
       "      <td>307</td>\n",
       "      <td>Enfermedades cerebrovasculares</td>\n",
       "      <td>40564.0</td>\n",
       "      <td>64.0</td>\n",
       "      <td>56.0</td>\n",
       "      <td>1202.0</td>\n",
       "      <td>5312.0</td>\n",
       "      <td>14942.0</td>\n",
       "      <td>8782.0</td>\n",
       "      <td>192.0</td>\n",
       "      <td>0.0</td>\n",
       "      <td>811.28</td>\n",
       "      <td>1.23</td>\n",
       "    </tr>\n",
       "    <tr>\n",
       "      <th>4</th>\n",
       "      <td>999</td>\n",
       "      <td>COVID-19</td>\n",
       "      <td>33638.0</td>\n",
       "      <td>NaN</td>\n",
       "      <td>NaN</td>\n",
       "      <td>NaN</td>\n",
       "      <td>NaN</td>\n",
       "      <td>NaN</td>\n",
       "      <td>NaN</td>\n",
       "      <td>NaN</td>\n",
       "      <td>NaN</td>\n",
       "      <td>672.76</td>\n",
       "      <td>1.02</td>\n",
       "    </tr>\n",
       "    <tr>\n",
       "      <th>5</th>\n",
       "      <td>512</td>\n",
       "      <td>Agresiones (homicidios)</td>\n",
       "      <td>32881.0</td>\n",
       "      <td>90.0</td>\n",
       "      <td>192.0</td>\n",
       "      <td>19962.0</td>\n",
       "      <td>3798.0</td>\n",
       "      <td>648.0</td>\n",
       "      <td>46.0</td>\n",
       "      <td>2.0</td>\n",
       "      <td>26.0</td>\n",
       "      <td>657.62</td>\n",
       "      <td>1.00</td>\n",
       "    </tr>\n",
       "    <tr>\n",
       "      <th>6</th>\n",
       "      <td>302</td>\n",
       "      <td>Enfermedades hipertensivas</td>\n",
       "      <td>23289.0</td>\n",
       "      <td>6.0</td>\n",
       "      <td>2.0</td>\n",
       "      <td>208.0</td>\n",
       "      <td>1840.0</td>\n",
       "      <td>8182.0</td>\n",
       "      <td>7002.0</td>\n",
       "      <td>300.0</td>\n",
       "      <td>0.0</td>\n",
       "      <td>465.78</td>\n",
       "      <td>0.71</td>\n",
       "    </tr>\n",
       "    <tr>\n",
       "      <th>7</th>\n",
       "      <td>601</td>\n",
       "      <td>Diabetes mellitus</td>\n",
       "      <td>20350.0</td>\n",
       "      <td>6.0</td>\n",
       "      <td>6.0</td>\n",
       "      <td>544.0</td>\n",
       "      <td>3490.0</td>\n",
       "      <td>8090.0</td>\n",
       "      <td>3110.0</td>\n",
       "      <td>80.0</td>\n",
       "      <td>0.0</td>\n",
       "      <td>407.00</td>\n",
       "      <td>0.62</td>\n",
       "    </tr>\n",
       "    <tr>\n",
       "      <th>8</th>\n",
       "      <td>609</td>\n",
       "      <td>Resto de enfermedades del sistema digestivo</td>\n",
       "      <td>19749.0</td>\n",
       "      <td>150.0</td>\n",
       "      <td>68.0</td>\n",
       "      <td>854.0</td>\n",
       "      <td>2656.0</td>\n",
       "      <td>7230.0</td>\n",
       "      <td>3836.0</td>\n",
       "      <td>80.0</td>\n",
       "      <td>0.0</td>\n",
       "      <td>394.98</td>\n",
       "      <td>0.60</td>\n",
       "    </tr>\n",
       "    <tr>\n",
       "      <th>9</th>\n",
       "      <td>501</td>\n",
       "      <td>Accidentes de transporte terrestre</td>\n",
       "      <td>17585.0</td>\n",
       "      <td>94.0</td>\n",
       "      <td>300.0</td>\n",
       "      <td>7652.0</td>\n",
       "      <td>2976.0</td>\n",
       "      <td>1926.0</td>\n",
       "      <td>290.0</td>\n",
       "      <td>0.0</td>\n",
       "      <td>6.0</td>\n",
       "      <td>351.70</td>\n",
       "      <td>0.53</td>\n",
       "    </tr>\n",
       "    <tr>\n",
       "      <th>10</th>\n",
       "      <td>610</td>\n",
       "      <td>Enfermedades del sistema urinario</td>\n",
       "      <td>17341.0</td>\n",
       "      <td>98.0</td>\n",
       "      <td>46.0</td>\n",
       "      <td>586.0</td>\n",
       "      <td>1898.0</td>\n",
       "      <td>6078.0</td>\n",
       "      <td>4222.0</td>\n",
       "      <td>132.0</td>\n",
       "      <td>0.0</td>\n",
       "      <td>346.82</td>\n",
       "      <td>0.53</td>\n",
       "    </tr>\n",
       "    <tr>\n",
       "      <th>11</th>\n",
       "      <td>614</td>\n",
       "      <td>Resto de las enfermedades</td>\n",
       "      <td>17118.0</td>\n",
       "      <td>344.0</td>\n",
       "      <td>172.0</td>\n",
       "      <td>1802.0</td>\n",
       "      <td>2634.0</td>\n",
       "      <td>4952.0</td>\n",
       "      <td>2860.0</td>\n",
       "      <td>128.0</td>\n",
       "      <td>0.0</td>\n",
       "      <td>342.36</td>\n",
       "      <td>0.52</td>\n",
       "    </tr>\n",
       "    <tr>\n",
       "      <th>12</th>\n",
       "      <td>304</td>\n",
       "      <td>Enfermedad cardiopulmonar enfermedades de la c...</td>\n",
       "      <td>15376.0</td>\n",
       "      <td>150.0</td>\n",
       "      <td>84.0</td>\n",
       "      <td>868.0</td>\n",
       "      <td>2128.0</td>\n",
       "      <td>5510.0</td>\n",
       "      <td>2760.0</td>\n",
       "      <td>80.0</td>\n",
       "      <td>0.0</td>\n",
       "      <td>307.52</td>\n",
       "      <td>0.47</td>\n",
       "    </tr>\n",
       "    <tr>\n",
       "      <th>13</th>\n",
       "      <td>604</td>\n",
       "      <td>Enfermedades del sistema nervioso  excepto men...</td>\n",
       "      <td>14483.0</td>\n",
       "      <td>392.0</td>\n",
       "      <td>448.0</td>\n",
       "      <td>1704.0</td>\n",
       "      <td>1704.0</td>\n",
       "      <td>3930.0</td>\n",
       "      <td>2650.0</td>\n",
       "      <td>80.0</td>\n",
       "      <td>0.0</td>\n",
       "      <td>289.66</td>\n",
       "      <td>0.44</td>\n",
       "    </tr>\n",
       "  </tbody>\n",
       "</table>\n",
       "</div>"
      ],
      "text/plain": [
       "     Código                                 Causa de defunción     Total  \\\n",
       "0   200-215                                         Neoplasias  126784.0   \n",
       "1       303                Enfermedades isquémicas del corazón   99626.0   \n",
       "2       605  Enfermedades crónicas de las vías respiratoria...   42266.0   \n",
       "3       307                     Enfermedades cerebrovasculares   40564.0   \n",
       "4       999                                           COVID-19   33638.0   \n",
       "5       512                            Agresiones (homicidios)   32881.0   \n",
       "6       302                         Enfermedades hipertensivas   23289.0   \n",
       "7       601                                  Diabetes mellitus   20350.0   \n",
       "8       609        Resto de enfermedades del sistema digestivo   19749.0   \n",
       "9       501                 Accidentes de transporte terrestre   17585.0   \n",
       "10      610                  Enfermedades del sistema urinario   17341.0   \n",
       "11      614                          Resto de las enfermedades   17118.0   \n",
       "12      304  Enfermedad cardiopulmonar enfermedades de la c...   15376.0   \n",
       "13      604  Enfermedades del sistema nervioso  excepto men...   14483.0   \n",
       "\n",
       "    edad 0 a 4  edad 5 a 14  edad 15 a 44  edad 45 a 64  edad 65 a 84  \\\n",
       "0          NaN          NaN           NaN           NaN           NaN   \n",
       "1          2.0         10.0        1450.0       11984.0       36504.0   \n",
       "2         26.0         10.0         222.0        2290.0       15284.0   \n",
       "3         64.0         56.0        1202.0        5312.0       14942.0   \n",
       "4          NaN          NaN           NaN           NaN           NaN   \n",
       "5         90.0        192.0       19962.0        3798.0         648.0   \n",
       "6          6.0          2.0         208.0        1840.0        8182.0   \n",
       "7          6.0          6.0         544.0        3490.0        8090.0   \n",
       "8        150.0         68.0         854.0        2656.0        7230.0   \n",
       "9         94.0        300.0        7652.0        2976.0        1926.0   \n",
       "10        98.0         46.0         586.0        1898.0        6078.0   \n",
       "11       344.0        172.0        1802.0        2634.0        4952.0   \n",
       "12       150.0         84.0         868.0        2128.0        5510.0   \n",
       "13       392.0        448.0        1704.0        1704.0        3930.0   \n",
       "\n",
       "    edad 85 a 99  edad 100 o mas  edad desconocida  Tasa de Mortalidad  Factor  \n",
       "0            NaN             NaN               NaN             2535.68    3.86  \n",
       "1        23998.0          1082.0               2.0             1992.52    3.03  \n",
       "2        13514.0           486.0               0.0              845.32    1.29  \n",
       "3         8782.0           192.0               0.0              811.28    1.23  \n",
       "4            NaN             NaN               NaN              672.76    1.02  \n",
       "5           46.0             2.0              26.0              657.62    1.00  \n",
       "6         7002.0           300.0               0.0              465.78    0.71  \n",
       "7         3110.0            80.0               0.0              407.00    0.62  \n",
       "8         3836.0            80.0               0.0              394.98    0.60  \n",
       "9          290.0             0.0               6.0              351.70    0.53  \n",
       "10        4222.0           132.0               0.0              346.82    0.53  \n",
       "11        2860.0           128.0               0.0              342.36    0.52  \n",
       "12        2760.0            80.0               0.0              307.52    0.47  \n",
       "13        2650.0            80.0               0.0              289.66    0.44  "
      ]
     },
     "execution_count": 19,
     "metadata": {},
     "output_type": "execute_result"
    }
   ],
   "source": [
    "mortalidadCol= pd.read_csv('tasasMortalidad.csv', names=['Código','Causa de defunción','Total', 'edad 0 a 4', 'edad 5 a 14',\n",
    "       'edad 15 a 44', 'edad 45 a 64', 'edad 65 a 84', 'edad 85 a 99',\n",
    "       'edad 100 o mas', 'edad desconocida', 'Tasa de Mortalidad', 'Factor','nombre'], skiprows= 1)\n",
    "mortalidadCol.drop(columns= ['Factor', 'nombre', 'Tasa de Mortalidad'], inplace=True)\n",
    "mortalidadCol['Total'] = (mortalidadCol.loc[:,'Total']*(dias/180)).round(0)\n",
    "mortalidadCol.loc[4, 'Total'] = fallecidos\n",
    "mortalidadCol['Tasa de Mortalidad']= mortalidadCol.loc[:,'Total']/50 \n",
    "mortalidadCol['Factor']= (mortalidadCol.loc[:,'Tasa de Mortalidad']/mortalidadCol.loc[5,'Tasa de Mortalidad']).round(2)\n",
    "mortalidadCol"
   ]
  },
  {
   "cell_type": "markdown",
   "metadata": {
    "slideshow": {
     "slide_type": "slide"
    }
   },
   "source": [
    "# Fallecidos estimados por otras causas período \"pandemia\" :"
   ]
  },
  {
   "cell_type": "code",
   "execution_count": 20,
   "metadata": {
    "slideshow": {
     "slide_type": "subslide"
    }
   },
   "outputs": [
    {
     "data": {
      "text/plain": [
       "521050.0"
      ]
     },
     "execution_count": 20,
     "metadata": {},
     "output_type": "execute_result"
    }
   ],
   "source": [
    "a = mortalidadCol['Total'].sum()\n",
    "a"
   ]
  },
  {
   "cell_type": "markdown",
   "metadata": {
    "slideshow": {
     "slide_type": "slide"
    }
   },
   "source": [
    "# Porcentaje Fallecidos por \"COVID-19\" en relación con otras causas:"
   ]
  },
  {
   "cell_type": "code",
   "execution_count": 21,
   "metadata": {
    "slideshow": {
     "slide_type": "subslide"
    }
   },
   "outputs": [
    {
     "data": {
      "text/plain": [
       "6.31"
      ]
     },
     "execution_count": 21,
     "metadata": {},
     "output_type": "execute_result"
    }
   ],
   "source": [
    "((mortalidadCol.loc[5,'Total']/mortalidadCol['Total'].sum())*100).round(2)"
   ]
  },
  {
   "cell_type": "markdown",
   "metadata": {
    "slideshow": {
     "slide_type": "slide"
    }
   },
   "source": [
    "# Número de fallecidos por COVID19 (antes de depuración) por grupo etario:"
   ]
  },
  {
   "cell_type": "code",
   "execution_count": 22,
   "metadata": {
    "slideshow": {
     "slide_type": "subslide"
    }
   },
   "outputs": [
    {
     "data": {
      "text/plain": [
       "('Caldas', 'Manizales')"
      ]
     },
     "execution_count": 22,
     "metadata": {},
     "output_type": "execute_result"
    }
   ],
   "source": [
    "localidad, localidad1"
   ]
  },
  {
   "cell_type": "markdown",
   "metadata": {
    "slideshow": {
     "slide_type": "slide"
    }
   },
   "source": [
    "etarioDefunciones.rename(columns={'Unnamed: 0':''}, inplace=True)\n",
    "etarioDefunciones"
   ]
  },
  {
   "cell_type": "code",
   "execution_count": 23,
   "metadata": {
    "slideshow": {
     "slide_type": "subslide"
    }
   },
   "outputs": [
    {
     "data": {
      "text/html": [
       "<div>\n",
       "<style scoped>\n",
       "    .dataframe tbody tr th:only-of-type {\n",
       "        vertical-align: middle;\n",
       "    }\n",
       "\n",
       "    .dataframe tbody tr th {\n",
       "        vertical-align: top;\n",
       "    }\n",
       "\n",
       "    .dataframe thead th {\n",
       "        text-align: right;\n",
       "    }\n",
       "</style>\n",
       "<table border=\"1\" class=\"dataframe\">\n",
       "  <thead>\n",
       "    <tr style=\"text-align: right;\">\n",
       "      <th></th>\n",
       "      <th></th>\n",
       "      <th>edad 0 a 4</th>\n",
       "      <th>edad 5 a 14</th>\n",
       "      <th>edad 15 a 44</th>\n",
       "      <th>edad 45 a 64</th>\n",
       "      <th>edad 65 a 84</th>\n",
       "      <th>edad 85 a 99</th>\n",
       "      <th>edad 100 o mas</th>\n",
       "      <th>Total fallecidos</th>\n",
       "    </tr>\n",
       "  </thead>\n",
       "  <tbody>\n",
       "    <tr>\n",
       "      <th>0</th>\n",
       "      <td>Número fallecidos</td>\n",
       "      <td>74</td>\n",
       "      <td>37</td>\n",
       "      <td>2276</td>\n",
       "      <td>8706</td>\n",
       "      <td>15912</td>\n",
       "      <td>4481</td>\n",
       "      <td>70</td>\n",
       "      <td>31556</td>\n",
       "    </tr>\n",
       "  </tbody>\n",
       "</table>\n",
       "</div>"
      ],
      "text/plain": [
       "                      edad 0 a 4  edad 5 a 14  edad 15 a 44  edad 45 a 64  \\\n",
       "0  Número fallecidos          74           37          2276          8706   \n",
       "\n",
       "   edad 65 a 84  edad 85 a 99  edad 100 o mas  Total fallecidos  \n",
       "0         15912          4481              70             31556  "
      ]
     },
     "execution_count": 23,
     "metadata": {},
     "output_type": "execute_result"
    }
   ],
   "source": [
    "etarioDefuncionesColombia.rename(columns={'Unnamed: 0':''}, inplace=True)\n",
    "etarioDefuncionesColombia"
   ]
  },
  {
   "cell_type": "markdown",
   "metadata": {
    "slideshow": {
     "slide_type": "slide"
    }
   },
   "source": [
    "# Tabla Colombia: Tasa de mortalidad.  Fallecidos por grupo etario. \n",
    "# Factor causa 'x'/CoVid-19"
   ]
  },
  {
   "cell_type": "code",
   "execution_count": 24,
   "metadata": {
    "scrolled": false,
    "slideshow": {
     "slide_type": "slide"
    }
   },
   "outputs": [
    {
     "data": {
      "text/html": [
       "<div>\n",
       "<style scoped>\n",
       "    .dataframe tbody tr th:only-of-type {\n",
       "        vertical-align: middle;\n",
       "    }\n",
       "\n",
       "    .dataframe tbody tr th {\n",
       "        vertical-align: top;\n",
       "    }\n",
       "\n",
       "    .dataframe thead th {\n",
       "        text-align: right;\n",
       "    }\n",
       "</style>\n",
       "<table border=\"1\" class=\"dataframe\">\n",
       "  <thead>\n",
       "    <tr style=\"text-align: right;\">\n",
       "      <th></th>\n",
       "      <th>Código</th>\n",
       "      <th>Causa de defunción</th>\n",
       "      <th>Total</th>\n",
       "      <th>edad 0 a 4</th>\n",
       "      <th>edad 5 a 14</th>\n",
       "      <th>edad 15 a 44</th>\n",
       "      <th>edad 45 a 64</th>\n",
       "      <th>edad 65 a 84</th>\n",
       "      <th>edad 85 a 99</th>\n",
       "      <th>edad 100 o mas</th>\n",
       "      <th>edad desconocida</th>\n",
       "      <th>Tasa de Mortalidad</th>\n",
       "      <th>Factor</th>\n",
       "    </tr>\n",
       "  </thead>\n",
       "  <tbody>\n",
       "    <tr>\n",
       "      <th>0</th>\n",
       "      <td>200-215</td>\n",
       "      <td>Neoplasias</td>\n",
       "      <td>126784.0</td>\n",
       "      <td>NaN</td>\n",
       "      <td>NaN</td>\n",
       "      <td>NaN</td>\n",
       "      <td>NaN</td>\n",
       "      <td>NaN</td>\n",
       "      <td>NaN</td>\n",
       "      <td>NaN</td>\n",
       "      <td>NaN</td>\n",
       "      <td>2535.68</td>\n",
       "      <td>3.86</td>\n",
       "    </tr>\n",
       "    <tr>\n",
       "      <th>1</th>\n",
       "      <td>303</td>\n",
       "      <td>Enfermedades isquémicas del corazón</td>\n",
       "      <td>99626.0</td>\n",
       "      <td>2.0</td>\n",
       "      <td>10.0</td>\n",
       "      <td>1450.0</td>\n",
       "      <td>11984.0</td>\n",
       "      <td>36504.0</td>\n",
       "      <td>23998.0</td>\n",
       "      <td>1082.0</td>\n",
       "      <td>2.0</td>\n",
       "      <td>1992.52</td>\n",
       "      <td>3.03</td>\n",
       "    </tr>\n",
       "    <tr>\n",
       "      <th>2</th>\n",
       "      <td>605</td>\n",
       "      <td>Enfermedades crónicas de las vías respiratoria...</td>\n",
       "      <td>42266.0</td>\n",
       "      <td>26.0</td>\n",
       "      <td>10.0</td>\n",
       "      <td>222.0</td>\n",
       "      <td>2290.0</td>\n",
       "      <td>15284.0</td>\n",
       "      <td>13514.0</td>\n",
       "      <td>486.0</td>\n",
       "      <td>0.0</td>\n",
       "      <td>845.32</td>\n",
       "      <td>1.29</td>\n",
       "    </tr>\n",
       "    <tr>\n",
       "      <th>3</th>\n",
       "      <td>307</td>\n",
       "      <td>Enfermedades cerebrovasculares</td>\n",
       "      <td>40564.0</td>\n",
       "      <td>64.0</td>\n",
       "      <td>56.0</td>\n",
       "      <td>1202.0</td>\n",
       "      <td>5312.0</td>\n",
       "      <td>14942.0</td>\n",
       "      <td>8782.0</td>\n",
       "      <td>192.0</td>\n",
       "      <td>0.0</td>\n",
       "      <td>811.28</td>\n",
       "      <td>1.23</td>\n",
       "    </tr>\n",
       "    <tr>\n",
       "      <th>4</th>\n",
       "      <td>999</td>\n",
       "      <td>COVID-19</td>\n",
       "      <td>33638.0</td>\n",
       "      <td>NaN</td>\n",
       "      <td>NaN</td>\n",
       "      <td>NaN</td>\n",
       "      <td>NaN</td>\n",
       "      <td>NaN</td>\n",
       "      <td>NaN</td>\n",
       "      <td>NaN</td>\n",
       "      <td>NaN</td>\n",
       "      <td>672.76</td>\n",
       "      <td>1.02</td>\n",
       "    </tr>\n",
       "    <tr>\n",
       "      <th>5</th>\n",
       "      <td>512</td>\n",
       "      <td>Agresiones (homicidios)</td>\n",
       "      <td>32881.0</td>\n",
       "      <td>74.0</td>\n",
       "      <td>37.0</td>\n",
       "      <td>2276.0</td>\n",
       "      <td>8706.0</td>\n",
       "      <td>15912.0</td>\n",
       "      <td>4481.0</td>\n",
       "      <td>70.0</td>\n",
       "      <td>26.0</td>\n",
       "      <td>657.62</td>\n",
       "      <td>1.00</td>\n",
       "    </tr>\n",
       "    <tr>\n",
       "      <th>6</th>\n",
       "      <td>302</td>\n",
       "      <td>Enfermedades hipertensivas</td>\n",
       "      <td>23289.0</td>\n",
       "      <td>6.0</td>\n",
       "      <td>2.0</td>\n",
       "      <td>208.0</td>\n",
       "      <td>1840.0</td>\n",
       "      <td>8182.0</td>\n",
       "      <td>7002.0</td>\n",
       "      <td>300.0</td>\n",
       "      <td>0.0</td>\n",
       "      <td>465.78</td>\n",
       "      <td>0.71</td>\n",
       "    </tr>\n",
       "    <tr>\n",
       "      <th>7</th>\n",
       "      <td>601</td>\n",
       "      <td>Diabetes mellitus</td>\n",
       "      <td>20350.0</td>\n",
       "      <td>6.0</td>\n",
       "      <td>6.0</td>\n",
       "      <td>544.0</td>\n",
       "      <td>3490.0</td>\n",
       "      <td>8090.0</td>\n",
       "      <td>3110.0</td>\n",
       "      <td>80.0</td>\n",
       "      <td>0.0</td>\n",
       "      <td>407.00</td>\n",
       "      <td>0.62</td>\n",
       "    </tr>\n",
       "    <tr>\n",
       "      <th>8</th>\n",
       "      <td>609</td>\n",
       "      <td>Resto de enfermedades del sistema digestivo</td>\n",
       "      <td>19749.0</td>\n",
       "      <td>150.0</td>\n",
       "      <td>68.0</td>\n",
       "      <td>854.0</td>\n",
       "      <td>2656.0</td>\n",
       "      <td>7230.0</td>\n",
       "      <td>3836.0</td>\n",
       "      <td>80.0</td>\n",
       "      <td>0.0</td>\n",
       "      <td>394.98</td>\n",
       "      <td>0.60</td>\n",
       "    </tr>\n",
       "    <tr>\n",
       "      <th>9</th>\n",
       "      <td>501</td>\n",
       "      <td>Accidentes de transporte terrestre</td>\n",
       "      <td>17585.0</td>\n",
       "      <td>94.0</td>\n",
       "      <td>300.0</td>\n",
       "      <td>7652.0</td>\n",
       "      <td>2976.0</td>\n",
       "      <td>1926.0</td>\n",
       "      <td>290.0</td>\n",
       "      <td>0.0</td>\n",
       "      <td>6.0</td>\n",
       "      <td>351.70</td>\n",
       "      <td>0.53</td>\n",
       "    </tr>\n",
       "    <tr>\n",
       "      <th>10</th>\n",
       "      <td>610</td>\n",
       "      <td>Enfermedades del sistema urinario</td>\n",
       "      <td>17341.0</td>\n",
       "      <td>98.0</td>\n",
       "      <td>46.0</td>\n",
       "      <td>586.0</td>\n",
       "      <td>1898.0</td>\n",
       "      <td>6078.0</td>\n",
       "      <td>4222.0</td>\n",
       "      <td>132.0</td>\n",
       "      <td>0.0</td>\n",
       "      <td>346.82</td>\n",
       "      <td>0.53</td>\n",
       "    </tr>\n",
       "    <tr>\n",
       "      <th>11</th>\n",
       "      <td>614</td>\n",
       "      <td>Resto de las enfermedades</td>\n",
       "      <td>17118.0</td>\n",
       "      <td>344.0</td>\n",
       "      <td>172.0</td>\n",
       "      <td>1802.0</td>\n",
       "      <td>2634.0</td>\n",
       "      <td>4952.0</td>\n",
       "      <td>2860.0</td>\n",
       "      <td>128.0</td>\n",
       "      <td>0.0</td>\n",
       "      <td>342.36</td>\n",
       "      <td>0.52</td>\n",
       "    </tr>\n",
       "    <tr>\n",
       "      <th>12</th>\n",
       "      <td>304</td>\n",
       "      <td>Enfermedad cardiopulmonar enfermedades de la c...</td>\n",
       "      <td>15376.0</td>\n",
       "      <td>150.0</td>\n",
       "      <td>84.0</td>\n",
       "      <td>868.0</td>\n",
       "      <td>2128.0</td>\n",
       "      <td>5510.0</td>\n",
       "      <td>2760.0</td>\n",
       "      <td>80.0</td>\n",
       "      <td>0.0</td>\n",
       "      <td>307.52</td>\n",
       "      <td>0.47</td>\n",
       "    </tr>\n",
       "    <tr>\n",
       "      <th>13</th>\n",
       "      <td>604</td>\n",
       "      <td>Enfermedades del sistema nervioso  excepto men...</td>\n",
       "      <td>14483.0</td>\n",
       "      <td>392.0</td>\n",
       "      <td>448.0</td>\n",
       "      <td>1704.0</td>\n",
       "      <td>1704.0</td>\n",
       "      <td>3930.0</td>\n",
       "      <td>2650.0</td>\n",
       "      <td>80.0</td>\n",
       "      <td>0.0</td>\n",
       "      <td>289.66</td>\n",
       "      <td>0.44</td>\n",
       "    </tr>\n",
       "  </tbody>\n",
       "</table>\n",
       "</div>"
      ],
      "text/plain": [
       "     Código                                 Causa de defunción     Total  \\\n",
       "0   200-215                                         Neoplasias  126784.0   \n",
       "1       303                Enfermedades isquémicas del corazón   99626.0   \n",
       "2       605  Enfermedades crónicas de las vías respiratoria...   42266.0   \n",
       "3       307                     Enfermedades cerebrovasculares   40564.0   \n",
       "4       999                                           COVID-19   33638.0   \n",
       "5       512                            Agresiones (homicidios)   32881.0   \n",
       "6       302                         Enfermedades hipertensivas   23289.0   \n",
       "7       601                                  Diabetes mellitus   20350.0   \n",
       "8       609        Resto de enfermedades del sistema digestivo   19749.0   \n",
       "9       501                 Accidentes de transporte terrestre   17585.0   \n",
       "10      610                  Enfermedades del sistema urinario   17341.0   \n",
       "11      614                          Resto de las enfermedades   17118.0   \n",
       "12      304  Enfermedad cardiopulmonar enfermedades de la c...   15376.0   \n",
       "13      604  Enfermedades del sistema nervioso  excepto men...   14483.0   \n",
       "\n",
       "    edad 0 a 4  edad 5 a 14  edad 15 a 44  edad 45 a 64  edad 65 a 84  \\\n",
       "0          NaN          NaN           NaN           NaN           NaN   \n",
       "1          2.0         10.0        1450.0       11984.0       36504.0   \n",
       "2         26.0         10.0         222.0        2290.0       15284.0   \n",
       "3         64.0         56.0        1202.0        5312.0       14942.0   \n",
       "4          NaN          NaN           NaN           NaN           NaN   \n",
       "5         74.0         37.0        2276.0        8706.0       15912.0   \n",
       "6          6.0          2.0         208.0        1840.0        8182.0   \n",
       "7          6.0          6.0         544.0        3490.0        8090.0   \n",
       "8        150.0         68.0         854.0        2656.0        7230.0   \n",
       "9         94.0        300.0        7652.0        2976.0        1926.0   \n",
       "10        98.0         46.0         586.0        1898.0        6078.0   \n",
       "11       344.0        172.0        1802.0        2634.0        4952.0   \n",
       "12       150.0         84.0         868.0        2128.0        5510.0   \n",
       "13       392.0        448.0        1704.0        1704.0        3930.0   \n",
       "\n",
       "    edad 85 a 99  edad 100 o mas  edad desconocida  Tasa de Mortalidad  Factor  \n",
       "0            NaN             NaN               NaN             2535.68    3.86  \n",
       "1        23998.0          1082.0               2.0             1992.52    3.03  \n",
       "2        13514.0           486.0               0.0              845.32    1.29  \n",
       "3         8782.0           192.0               0.0              811.28    1.23  \n",
       "4            NaN             NaN               NaN              672.76    1.02  \n",
       "5         4481.0            70.0              26.0              657.62    1.00  \n",
       "6         7002.0           300.0               0.0              465.78    0.71  \n",
       "7         3110.0            80.0               0.0              407.00    0.62  \n",
       "8         3836.0            80.0               0.0              394.98    0.60  \n",
       "9          290.0             0.0               6.0              351.70    0.53  \n",
       "10        4222.0           132.0               0.0              346.82    0.53  \n",
       "11        2860.0           128.0               0.0              342.36    0.52  \n",
       "12        2760.0            80.0               0.0              307.52    0.47  \n",
       "13        2650.0            80.0               0.0              289.66    0.44  "
      ]
     },
     "execution_count": 24,
     "metadata": {},
     "output_type": "execute_result"
    }
   ],
   "source": [
    "mortalidadCol.loc[5,'edad 0 a 4']= etarioDefuncionesColombia.loc[0,'edad 0 a 4']\n",
    "mortalidadCol.loc[5,'edad 5 a 14']= etarioDefuncionesColombia.loc[0,'edad 5 a 14']\n",
    "mortalidadCol.loc[5,'edad 15 a 44']= etarioDefuncionesColombia.loc[0,'edad 15 a 44']\n",
    "mortalidadCol.loc[5,'edad 45 a 64']= etarioDefuncionesColombia.loc[0,'edad 45 a 64']\n",
    "mortalidadCol.loc[5,'edad 65 a 84']= etarioDefuncionesColombia.loc[0,'edad 65 a 84']\n",
    "mortalidadCol.loc[5,'edad 85 a 99']= etarioDefuncionesColombia.loc[0,'edad 85 a 99']\n",
    "mortalidadCol.loc[5,'edad 100 o mas']= etarioDefuncionesColombia.loc[0,'edad 100 o mas']\n",
    "mortalidadCol"
   ]
  },
  {
   "cell_type": "code",
   "execution_count": 25,
   "metadata": {
    "slideshow": {
     "slide_type": "slide"
    }
   },
   "outputs": [
    {
     "data": {
      "text/html": [
       "<div>\n",
       "<style scoped>\n",
       "    .dataframe tbody tr th:only-of-type {\n",
       "        vertical-align: middle;\n",
       "    }\n",
       "\n",
       "    .dataframe tbody tr th {\n",
       "        vertical-align: top;\n",
       "    }\n",
       "\n",
       "    .dataframe thead th {\n",
       "        text-align: right;\n",
       "    }\n",
       "</style>\n",
       "<table border=\"1\" class=\"dataframe\">\n",
       "  <thead>\n",
       "    <tr style=\"text-align: right;\">\n",
       "      <th></th>\n",
       "      <th>DEPARTAMENTO</th>\n",
       "      <th>MUNICIPIO</th>\n",
       "      <th>edad 100 o mas</th>\n",
       "      <th>Total Hombres</th>\n",
       "      <th>Total Mujeres</th>\n",
       "      <th>Total</th>\n",
       "      <th>edad 0 a 4</th>\n",
       "      <th>edad 5 a 14</th>\n",
       "      <th>edad 15 a 44</th>\n",
       "      <th>edad 45 a 64</th>\n",
       "      <th>edad 65 a 84</th>\n",
       "      <th>edad 85 a 99</th>\n",
       "    </tr>\n",
       "    <tr>\n",
       "      <th>INDICE</th>\n",
       "      <th></th>\n",
       "      <th></th>\n",
       "      <th></th>\n",
       "      <th></th>\n",
       "      <th></th>\n",
       "      <th></th>\n",
       "      <th></th>\n",
       "      <th></th>\n",
       "      <th></th>\n",
       "      <th></th>\n",
       "      <th></th>\n",
       "      <th></th>\n",
       "    </tr>\n",
       "  </thead>\n",
       "  <tbody>\n",
       "    <tr>\n",
       "      <th>0</th>\n",
       "      <td>Caldas</td>\n",
       "      <td>Manizales</td>\n",
       "      <td>201</td>\n",
       "      <td>210254</td>\n",
       "      <td>235906</td>\n",
       "      <td>446160</td>\n",
       "      <td>23587</td>\n",
       "      <td>50227</td>\n",
       "      <td>198767</td>\n",
       "      <td>113931</td>\n",
       "      <td>53426</td>\n",
       "      <td>6021</td>\n",
       "    </tr>\n",
       "  </tbody>\n",
       "</table>\n",
       "</div>"
      ],
      "text/plain": [
       "       DEPARTAMENTO  MUNICIPIO  edad 100 o mas  Total Hombres  Total Mujeres  \\\n",
       "INDICE                                                                         \n",
       "0            Caldas  Manizales             201         210254         235906   \n",
       "\n",
       "         Total  edad 0 a 4  edad 5 a 14  edad 15 a 44  edad 45 a 64  \\\n",
       "INDICE                                                                \n",
       "0       446160       23587        50227        198767        113931   \n",
       "\n",
       "        edad 65 a 84  edad 85 a 99  \n",
       "INDICE                              \n",
       "0              53426          6021  "
      ]
     },
     "execution_count": 25,
     "metadata": {},
     "output_type": "execute_result"
    }
   ],
   "source": [
    "etariosporMunic"
   ]
  },
  {
   "cell_type": "code",
   "execution_count": 26,
   "metadata": {
    "slideshow": {
     "slide_type": "slide"
    }
   },
   "outputs": [],
   "source": [
    "mortalidadCol['TM_0_4'] = ((mortalidadCol['edad 0 a 4']/etariosporMunic.loc[0,'edad 0 a 4'])*1000000).round(2)\n",
    "mortalidadCol['TM_5_14'] = ((mortalidadCol['edad 5 a 14']/etariosporMunic.loc[0,'edad 0 a 4'])*1000000).round(2)\n",
    "mortalidadCol['TM_15_44'] = ((mortalidadCol['edad 15 a 44']/etariosporMunic.loc[0,'edad 0 a 4'])*1000000).round(2)\n",
    "mortalidadCol['TM_45_64'] = ((mortalidadCol['edad 45 a 64']/etariosporMunic.loc[0,'edad 0 a 4'])*1000000).round(2)\n",
    "mortalidadCol['TM_65_84'] = ((mortalidadCol['edad 65 a 84']/etariosporMunic.loc[0,'edad 0 a 4'])*1000000).round(2)\n",
    "mortalidadCol['TM_85_99'] = ((mortalidadCol['edad 85 a 99']/etariosporMunic.loc[0,'edad 0 a 4'])*1000000).round(2)\n",
    "mortalidadCol['TM_100 o más'] = ((mortalidadCol['edad 100 o mas']/etariosporMunic.loc[0,'edad 0 a 4'])*1000000).round(2)"
   ]
  },
  {
   "cell_type": "code",
   "execution_count": 27,
   "metadata": {
    "slideshow": {
     "slide_type": "slide"
    }
   },
   "outputs": [
    {
     "data": {
      "text/html": [
       "<div>\n",
       "<style scoped>\n",
       "    .dataframe tbody tr th:only-of-type {\n",
       "        vertical-align: middle;\n",
       "    }\n",
       "\n",
       "    .dataframe tbody tr th {\n",
       "        vertical-align: top;\n",
       "    }\n",
       "\n",
       "    .dataframe thead th {\n",
       "        text-align: right;\n",
       "    }\n",
       "</style>\n",
       "<table border=\"1\" class=\"dataframe\">\n",
       "  <thead>\n",
       "    <tr style=\"text-align: right;\">\n",
       "      <th></th>\n",
       "      <th>Código</th>\n",
       "      <th>Causa de defunción</th>\n",
       "      <th>Total</th>\n",
       "      <th>edad 0 a 4</th>\n",
       "      <th>edad 5 a 14</th>\n",
       "      <th>edad 15 a 44</th>\n",
       "      <th>edad 45 a 64</th>\n",
       "      <th>edad 65 a 84</th>\n",
       "      <th>edad 85 a 99</th>\n",
       "      <th>edad 100 o mas</th>\n",
       "      <th>edad desconocida</th>\n",
       "      <th>Tasa de Mortalidad</th>\n",
       "      <th>Factor</th>\n",
       "      <th>TM_0_4</th>\n",
       "      <th>TM_5_14</th>\n",
       "      <th>TM_15_44</th>\n",
       "      <th>TM_45_64</th>\n",
       "      <th>TM_65_84</th>\n",
       "      <th>TM_85_99</th>\n",
       "      <th>TM_100 o más</th>\n",
       "    </tr>\n",
       "  </thead>\n",
       "  <tbody>\n",
       "    <tr>\n",
       "      <th>0</th>\n",
       "      <td>200-215</td>\n",
       "      <td>Neoplasias</td>\n",
       "      <td>126784.0</td>\n",
       "      <td>NaN</td>\n",
       "      <td>NaN</td>\n",
       "      <td>NaN</td>\n",
       "      <td>NaN</td>\n",
       "      <td>NaN</td>\n",
       "      <td>NaN</td>\n",
       "      <td>NaN</td>\n",
       "      <td>NaN</td>\n",
       "      <td>2535.68</td>\n",
       "      <td>3.86</td>\n",
       "      <td>NaN</td>\n",
       "      <td>NaN</td>\n",
       "      <td>NaN</td>\n",
       "      <td>NaN</td>\n",
       "      <td>NaN</td>\n",
       "      <td>NaN</td>\n",
       "      <td>NaN</td>\n",
       "    </tr>\n",
       "    <tr>\n",
       "      <th>1</th>\n",
       "      <td>303</td>\n",
       "      <td>Enfermedades isquémicas del corazón</td>\n",
       "      <td>99626.0</td>\n",
       "      <td>2.0</td>\n",
       "      <td>10.0</td>\n",
       "      <td>1450.0</td>\n",
       "      <td>11984.0</td>\n",
       "      <td>36504.0</td>\n",
       "      <td>23998.0</td>\n",
       "      <td>1082.0</td>\n",
       "      <td>2.0</td>\n",
       "      <td>1992.52</td>\n",
       "      <td>3.03</td>\n",
       "      <td>84.79</td>\n",
       "      <td>423.96</td>\n",
       "      <td>61474.54</td>\n",
       "      <td>508076.48</td>\n",
       "      <td>1547632.17</td>\n",
       "      <td>1017424.85</td>\n",
       "      <td>45872.73</td>\n",
       "    </tr>\n",
       "    <tr>\n",
       "      <th>2</th>\n",
       "      <td>605</td>\n",
       "      <td>Enfermedades crónicas de las vías respiratoria...</td>\n",
       "      <td>42266.0</td>\n",
       "      <td>26.0</td>\n",
       "      <td>10.0</td>\n",
       "      <td>222.0</td>\n",
       "      <td>2290.0</td>\n",
       "      <td>15284.0</td>\n",
       "      <td>13514.0</td>\n",
       "      <td>486.0</td>\n",
       "      <td>0.0</td>\n",
       "      <td>845.32</td>\n",
       "      <td>1.29</td>\n",
       "      <td>1102.30</td>\n",
       "      <td>423.96</td>\n",
       "      <td>9411.96</td>\n",
       "      <td>97087.38</td>\n",
       "      <td>647984.06</td>\n",
       "      <td>572942.72</td>\n",
       "      <td>20604.57</td>\n",
       "    </tr>\n",
       "    <tr>\n",
       "      <th>3</th>\n",
       "      <td>307</td>\n",
       "      <td>Enfermedades cerebrovasculares</td>\n",
       "      <td>40564.0</td>\n",
       "      <td>64.0</td>\n",
       "      <td>56.0</td>\n",
       "      <td>1202.0</td>\n",
       "      <td>5312.0</td>\n",
       "      <td>14942.0</td>\n",
       "      <td>8782.0</td>\n",
       "      <td>192.0</td>\n",
       "      <td>0.0</td>\n",
       "      <td>811.28</td>\n",
       "      <td>1.23</td>\n",
       "      <td>2713.36</td>\n",
       "      <td>2374.19</td>\n",
       "      <td>50960.27</td>\n",
       "      <td>225208.80</td>\n",
       "      <td>633484.55</td>\n",
       "      <td>372323.74</td>\n",
       "      <td>8140.08</td>\n",
       "    </tr>\n",
       "    <tr>\n",
       "      <th>4</th>\n",
       "      <td>999</td>\n",
       "      <td>COVID-19</td>\n",
       "      <td>33638.0</td>\n",
       "      <td>NaN</td>\n",
       "      <td>NaN</td>\n",
       "      <td>NaN</td>\n",
       "      <td>NaN</td>\n",
       "      <td>NaN</td>\n",
       "      <td>NaN</td>\n",
       "      <td>NaN</td>\n",
       "      <td>NaN</td>\n",
       "      <td>672.76</td>\n",
       "      <td>1.02</td>\n",
       "      <td>NaN</td>\n",
       "      <td>NaN</td>\n",
       "      <td>NaN</td>\n",
       "      <td>NaN</td>\n",
       "      <td>NaN</td>\n",
       "      <td>NaN</td>\n",
       "      <td>NaN</td>\n",
       "    </tr>\n",
       "    <tr>\n",
       "      <th>5</th>\n",
       "      <td>512</td>\n",
       "      <td>Agresiones (homicidios)</td>\n",
       "      <td>32881.0</td>\n",
       "      <td>74.0</td>\n",
       "      <td>37.0</td>\n",
       "      <td>2276.0</td>\n",
       "      <td>8706.0</td>\n",
       "      <td>15912.0</td>\n",
       "      <td>4481.0</td>\n",
       "      <td>70.0</td>\n",
       "      <td>26.0</td>\n",
       "      <td>657.62</td>\n",
       "      <td>1.00</td>\n",
       "      <td>3137.32</td>\n",
       "      <td>1568.66</td>\n",
       "      <td>96493.83</td>\n",
       "      <td>369101.62</td>\n",
       "      <td>674608.89</td>\n",
       "      <td>189977.53</td>\n",
       "      <td>2967.74</td>\n",
       "    </tr>\n",
       "    <tr>\n",
       "      <th>6</th>\n",
       "      <td>302</td>\n",
       "      <td>Enfermedades hipertensivas</td>\n",
       "      <td>23289.0</td>\n",
       "      <td>6.0</td>\n",
       "      <td>2.0</td>\n",
       "      <td>208.0</td>\n",
       "      <td>1840.0</td>\n",
       "      <td>8182.0</td>\n",
       "      <td>7002.0</td>\n",
       "      <td>300.0</td>\n",
       "      <td>0.0</td>\n",
       "      <td>465.78</td>\n",
       "      <td>0.71</td>\n",
       "      <td>254.38</td>\n",
       "      <td>84.79</td>\n",
       "      <td>8818.42</td>\n",
       "      <td>78009.07</td>\n",
       "      <td>346886.00</td>\n",
       "      <td>296858.44</td>\n",
       "      <td>12718.87</td>\n",
       "    </tr>\n",
       "    <tr>\n",
       "      <th>7</th>\n",
       "      <td>601</td>\n",
       "      <td>Diabetes mellitus</td>\n",
       "      <td>20350.0</td>\n",
       "      <td>6.0</td>\n",
       "      <td>6.0</td>\n",
       "      <td>544.0</td>\n",
       "      <td>3490.0</td>\n",
       "      <td>8090.0</td>\n",
       "      <td>3110.0</td>\n",
       "      <td>80.0</td>\n",
       "      <td>0.0</td>\n",
       "      <td>407.00</td>\n",
       "      <td>0.62</td>\n",
       "      <td>254.38</td>\n",
       "      <td>254.38</td>\n",
       "      <td>23063.55</td>\n",
       "      <td>147962.86</td>\n",
       "      <td>342985.54</td>\n",
       "      <td>131852.29</td>\n",
       "      <td>3391.70</td>\n",
       "    </tr>\n",
       "    <tr>\n",
       "      <th>8</th>\n",
       "      <td>609</td>\n",
       "      <td>Resto de enfermedades del sistema digestivo</td>\n",
       "      <td>19749.0</td>\n",
       "      <td>150.0</td>\n",
       "      <td>68.0</td>\n",
       "      <td>854.0</td>\n",
       "      <td>2656.0</td>\n",
       "      <td>7230.0</td>\n",
       "      <td>3836.0</td>\n",
       "      <td>80.0</td>\n",
       "      <td>0.0</td>\n",
       "      <td>394.98</td>\n",
       "      <td>0.60</td>\n",
       "      <td>6359.44</td>\n",
       "      <td>2882.94</td>\n",
       "      <td>36206.38</td>\n",
       "      <td>112604.40</td>\n",
       "      <td>306524.78</td>\n",
       "      <td>162631.96</td>\n",
       "      <td>3391.70</td>\n",
       "    </tr>\n",
       "    <tr>\n",
       "      <th>9</th>\n",
       "      <td>501</td>\n",
       "      <td>Accidentes de transporte terrestre</td>\n",
       "      <td>17585.0</td>\n",
       "      <td>94.0</td>\n",
       "      <td>300.0</td>\n",
       "      <td>7652.0</td>\n",
       "      <td>2976.0</td>\n",
       "      <td>1926.0</td>\n",
       "      <td>290.0</td>\n",
       "      <td>0.0</td>\n",
       "      <td>6.0</td>\n",
       "      <td>351.70</td>\n",
       "      <td>0.53</td>\n",
       "      <td>3985.25</td>\n",
       "      <td>12718.87</td>\n",
       "      <td>324415.99</td>\n",
       "      <td>126171.20</td>\n",
       "      <td>81655.15</td>\n",
       "      <td>12294.91</td>\n",
       "      <td>0.00</td>\n",
       "    </tr>\n",
       "    <tr>\n",
       "      <th>10</th>\n",
       "      <td>610</td>\n",
       "      <td>Enfermedades del sistema urinario</td>\n",
       "      <td>17341.0</td>\n",
       "      <td>98.0</td>\n",
       "      <td>46.0</td>\n",
       "      <td>586.0</td>\n",
       "      <td>1898.0</td>\n",
       "      <td>6078.0</td>\n",
       "      <td>4222.0</td>\n",
       "      <td>132.0</td>\n",
       "      <td>0.0</td>\n",
       "      <td>346.82</td>\n",
       "      <td>0.53</td>\n",
       "      <td>4154.83</td>\n",
       "      <td>1950.23</td>\n",
       "      <td>24844.19</td>\n",
       "      <td>80468.05</td>\n",
       "      <td>257684.32</td>\n",
       "      <td>178996.91</td>\n",
       "      <td>5596.30</td>\n",
       "    </tr>\n",
       "    <tr>\n",
       "      <th>11</th>\n",
       "      <td>614</td>\n",
       "      <td>Resto de las enfermedades</td>\n",
       "      <td>17118.0</td>\n",
       "      <td>344.0</td>\n",
       "      <td>172.0</td>\n",
       "      <td>1802.0</td>\n",
       "      <td>2634.0</td>\n",
       "      <td>4952.0</td>\n",
       "      <td>2860.0</td>\n",
       "      <td>128.0</td>\n",
       "      <td>0.0</td>\n",
       "      <td>342.36</td>\n",
       "      <td>0.52</td>\n",
       "      <td>14584.30</td>\n",
       "      <td>7292.15</td>\n",
       "      <td>76398.02</td>\n",
       "      <td>111671.68</td>\n",
       "      <td>209946.16</td>\n",
       "      <td>121253.23</td>\n",
       "      <td>5426.72</td>\n",
       "    </tr>\n",
       "    <tr>\n",
       "      <th>12</th>\n",
       "      <td>304</td>\n",
       "      <td>Enfermedad cardiopulmonar enfermedades de la c...</td>\n",
       "      <td>15376.0</td>\n",
       "      <td>150.0</td>\n",
       "      <td>84.0</td>\n",
       "      <td>868.0</td>\n",
       "      <td>2128.0</td>\n",
       "      <td>5510.0</td>\n",
       "      <td>2760.0</td>\n",
       "      <td>80.0</td>\n",
       "      <td>0.0</td>\n",
       "      <td>307.52</td>\n",
       "      <td>0.47</td>\n",
       "      <td>6359.44</td>\n",
       "      <td>3561.28</td>\n",
       "      <td>36799.93</td>\n",
       "      <td>90219.19</td>\n",
       "      <td>233603.26</td>\n",
       "      <td>117013.61</td>\n",
       "      <td>3391.70</td>\n",
       "    </tr>\n",
       "    <tr>\n",
       "      <th>13</th>\n",
       "      <td>604</td>\n",
       "      <td>Enfermedades del sistema nervioso  excepto men...</td>\n",
       "      <td>14483.0</td>\n",
       "      <td>392.0</td>\n",
       "      <td>448.0</td>\n",
       "      <td>1704.0</td>\n",
       "      <td>1704.0</td>\n",
       "      <td>3930.0</td>\n",
       "      <td>2650.0</td>\n",
       "      <td>80.0</td>\n",
       "      <td>0.0</td>\n",
       "      <td>289.66</td>\n",
       "      <td>0.44</td>\n",
       "      <td>16619.32</td>\n",
       "      <td>18993.51</td>\n",
       "      <td>72243.18</td>\n",
       "      <td>72243.18</td>\n",
       "      <td>166617.20</td>\n",
       "      <td>112350.02</td>\n",
       "      <td>3391.70</td>\n",
       "    </tr>\n",
       "  </tbody>\n",
       "</table>\n",
       "</div>"
      ],
      "text/plain": [
       "     Código                                 Causa de defunción     Total  \\\n",
       "0   200-215                                         Neoplasias  126784.0   \n",
       "1       303                Enfermedades isquémicas del corazón   99626.0   \n",
       "2       605  Enfermedades crónicas de las vías respiratoria...   42266.0   \n",
       "3       307                     Enfermedades cerebrovasculares   40564.0   \n",
       "4       999                                           COVID-19   33638.0   \n",
       "5       512                            Agresiones (homicidios)   32881.0   \n",
       "6       302                         Enfermedades hipertensivas   23289.0   \n",
       "7       601                                  Diabetes mellitus   20350.0   \n",
       "8       609        Resto de enfermedades del sistema digestivo   19749.0   \n",
       "9       501                 Accidentes de transporte terrestre   17585.0   \n",
       "10      610                  Enfermedades del sistema urinario   17341.0   \n",
       "11      614                          Resto de las enfermedades   17118.0   \n",
       "12      304  Enfermedad cardiopulmonar enfermedades de la c...   15376.0   \n",
       "13      604  Enfermedades del sistema nervioso  excepto men...   14483.0   \n",
       "\n",
       "    edad 0 a 4  edad 5 a 14  edad 15 a 44  edad 45 a 64  edad 65 a 84  \\\n",
       "0          NaN          NaN           NaN           NaN           NaN   \n",
       "1          2.0         10.0        1450.0       11984.0       36504.0   \n",
       "2         26.0         10.0         222.0        2290.0       15284.0   \n",
       "3         64.0         56.0        1202.0        5312.0       14942.0   \n",
       "4          NaN          NaN           NaN           NaN           NaN   \n",
       "5         74.0         37.0        2276.0        8706.0       15912.0   \n",
       "6          6.0          2.0         208.0        1840.0        8182.0   \n",
       "7          6.0          6.0         544.0        3490.0        8090.0   \n",
       "8        150.0         68.0         854.0        2656.0        7230.0   \n",
       "9         94.0        300.0        7652.0        2976.0        1926.0   \n",
       "10        98.0         46.0         586.0        1898.0        6078.0   \n",
       "11       344.0        172.0        1802.0        2634.0        4952.0   \n",
       "12       150.0         84.0         868.0        2128.0        5510.0   \n",
       "13       392.0        448.0        1704.0        1704.0        3930.0   \n",
       "\n",
       "    edad 85 a 99  edad 100 o mas  edad desconocida  Tasa de Mortalidad  \\\n",
       "0            NaN             NaN               NaN             2535.68   \n",
       "1        23998.0          1082.0               2.0             1992.52   \n",
       "2        13514.0           486.0               0.0              845.32   \n",
       "3         8782.0           192.0               0.0              811.28   \n",
       "4            NaN             NaN               NaN              672.76   \n",
       "5         4481.0            70.0              26.0              657.62   \n",
       "6         7002.0           300.0               0.0              465.78   \n",
       "7         3110.0            80.0               0.0              407.00   \n",
       "8         3836.0            80.0               0.0              394.98   \n",
       "9          290.0             0.0               6.0              351.70   \n",
       "10        4222.0           132.0               0.0              346.82   \n",
       "11        2860.0           128.0               0.0              342.36   \n",
       "12        2760.0            80.0               0.0              307.52   \n",
       "13        2650.0            80.0               0.0              289.66   \n",
       "\n",
       "    Factor    TM_0_4   TM_5_14   TM_15_44   TM_45_64    TM_65_84    TM_85_99  \\\n",
       "0     3.86       NaN       NaN        NaN        NaN         NaN         NaN   \n",
       "1     3.03     84.79    423.96   61474.54  508076.48  1547632.17  1017424.85   \n",
       "2     1.29   1102.30    423.96    9411.96   97087.38   647984.06   572942.72   \n",
       "3     1.23   2713.36   2374.19   50960.27  225208.80   633484.55   372323.74   \n",
       "4     1.02       NaN       NaN        NaN        NaN         NaN         NaN   \n",
       "5     1.00   3137.32   1568.66   96493.83  369101.62   674608.89   189977.53   \n",
       "6     0.71    254.38     84.79    8818.42   78009.07   346886.00   296858.44   \n",
       "7     0.62    254.38    254.38   23063.55  147962.86   342985.54   131852.29   \n",
       "8     0.60   6359.44   2882.94   36206.38  112604.40   306524.78   162631.96   \n",
       "9     0.53   3985.25  12718.87  324415.99  126171.20    81655.15    12294.91   \n",
       "10    0.53   4154.83   1950.23   24844.19   80468.05   257684.32   178996.91   \n",
       "11    0.52  14584.30   7292.15   76398.02  111671.68   209946.16   121253.23   \n",
       "12    0.47   6359.44   3561.28   36799.93   90219.19   233603.26   117013.61   \n",
       "13    0.44  16619.32  18993.51   72243.18   72243.18   166617.20   112350.02   \n",
       "\n",
       "    TM_100 o más  \n",
       "0            NaN  \n",
       "1       45872.73  \n",
       "2       20604.57  \n",
       "3        8140.08  \n",
       "4            NaN  \n",
       "5        2967.74  \n",
       "6       12718.87  \n",
       "7        3391.70  \n",
       "8        3391.70  \n",
       "9           0.00  \n",
       "10       5596.30  \n",
       "11       5426.72  \n",
       "12       3391.70  \n",
       "13       3391.70  "
      ]
     },
     "execution_count": 27,
     "metadata": {},
     "output_type": "execute_result"
    }
   ],
   "source": [
    "mortalidadCol"
   ]
  },
  {
   "cell_type": "code",
   "execution_count": 28,
   "metadata": {
    "slideshow": {
     "slide_type": "slide"
    }
   },
   "outputs": [],
   "source": [
    "tasasMortalidadColGrupoEtario = mortalidadCol.drop(columns= ['edad 0 a 4', 'edad 5 a 14',\n",
    "       'edad 15 a 44', 'edad 45 a 64', 'edad 65 a 84', 'edad 85 a 99',\n",
    "       'edad 100 o mas', 'edad desconocida','Factor'])"
   ]
  },
  {
   "cell_type": "markdown",
   "metadata": {
    "slideshow": {
     "slide_type": "slide"
    }
   },
   "source": [
    "# Colombia:  Tasa de Mortalidad total y por grupo etario  de las principales patologías agrupadas (por millón de habitantes)"
   ]
  },
  {
   "cell_type": "code",
   "execution_count": 29,
   "metadata": {
    "slideshow": {
     "slide_type": "slide"
    }
   },
   "outputs": [
    {
     "data": {
      "text/html": [
       "<div>\n",
       "<style scoped>\n",
       "    .dataframe tbody tr th:only-of-type {\n",
       "        vertical-align: middle;\n",
       "    }\n",
       "\n",
       "    .dataframe tbody tr th {\n",
       "        vertical-align: top;\n",
       "    }\n",
       "\n",
       "    .dataframe thead th {\n",
       "        text-align: right;\n",
       "    }\n",
       "</style>\n",
       "<table border=\"1\" class=\"dataframe\">\n",
       "  <thead>\n",
       "    <tr style=\"text-align: right;\">\n",
       "      <th></th>\n",
       "      <th>Código</th>\n",
       "      <th>Causa de defunción</th>\n",
       "      <th>Total defunciones</th>\n",
       "      <th>Tasa de Mortalidad total por millón de habitantes</th>\n",
       "      <th>TM edad 0 a 4 años</th>\n",
       "      <th>TM edad 5 a 14 años</th>\n",
       "      <th>TM edad 15 a 44 años</th>\n",
       "      <th>TM edad 45 a 64 años</th>\n",
       "      <th>TM edad 65 a 84 años</th>\n",
       "      <th>TM edad 85 a 99 años</th>\n",
       "      <th>TM edad 100 o más años</th>\n",
       "    </tr>\n",
       "  </thead>\n",
       "  <tbody>\n",
       "    <tr>\n",
       "      <th>0</th>\n",
       "      <td>200-215</td>\n",
       "      <td>Neoplasias</td>\n",
       "      <td>126784.0</td>\n",
       "      <td>2535.68</td>\n",
       "      <td>NaN</td>\n",
       "      <td>NaN</td>\n",
       "      <td>NaN</td>\n",
       "      <td>NaN</td>\n",
       "      <td>NaN</td>\n",
       "      <td>NaN</td>\n",
       "      <td>NaN</td>\n",
       "    </tr>\n",
       "    <tr>\n",
       "      <th>1</th>\n",
       "      <td>303</td>\n",
       "      <td>Enfermedades isquémicas del corazón</td>\n",
       "      <td>99626.0</td>\n",
       "      <td>1992.52</td>\n",
       "      <td>84.79</td>\n",
       "      <td>423.96</td>\n",
       "      <td>61474.54</td>\n",
       "      <td>508076.48</td>\n",
       "      <td>1547632.17</td>\n",
       "      <td>1017424.85</td>\n",
       "      <td>45872.73</td>\n",
       "    </tr>\n",
       "    <tr>\n",
       "      <th>2</th>\n",
       "      <td>605</td>\n",
       "      <td>Enfermedades crónicas de las vías respiratoria...</td>\n",
       "      <td>42266.0</td>\n",
       "      <td>845.32</td>\n",
       "      <td>1102.30</td>\n",
       "      <td>423.96</td>\n",
       "      <td>9411.96</td>\n",
       "      <td>97087.38</td>\n",
       "      <td>647984.06</td>\n",
       "      <td>572942.72</td>\n",
       "      <td>20604.57</td>\n",
       "    </tr>\n",
       "    <tr>\n",
       "      <th>3</th>\n",
       "      <td>307</td>\n",
       "      <td>Enfermedades cerebrovasculares</td>\n",
       "      <td>40564.0</td>\n",
       "      <td>811.28</td>\n",
       "      <td>2713.36</td>\n",
       "      <td>2374.19</td>\n",
       "      <td>50960.27</td>\n",
       "      <td>225208.80</td>\n",
       "      <td>633484.55</td>\n",
       "      <td>372323.74</td>\n",
       "      <td>8140.08</td>\n",
       "    </tr>\n",
       "    <tr>\n",
       "      <th>4</th>\n",
       "      <td>999</td>\n",
       "      <td>COVID-19</td>\n",
       "      <td>33638.0</td>\n",
       "      <td>672.76</td>\n",
       "      <td>NaN</td>\n",
       "      <td>NaN</td>\n",
       "      <td>NaN</td>\n",
       "      <td>NaN</td>\n",
       "      <td>NaN</td>\n",
       "      <td>NaN</td>\n",
       "      <td>NaN</td>\n",
       "    </tr>\n",
       "    <tr>\n",
       "      <th>5</th>\n",
       "      <td>512</td>\n",
       "      <td>Agresiones (homicidios)</td>\n",
       "      <td>32881.0</td>\n",
       "      <td>657.62</td>\n",
       "      <td>3137.32</td>\n",
       "      <td>1568.66</td>\n",
       "      <td>96493.83</td>\n",
       "      <td>369101.62</td>\n",
       "      <td>674608.89</td>\n",
       "      <td>189977.53</td>\n",
       "      <td>2967.74</td>\n",
       "    </tr>\n",
       "    <tr>\n",
       "      <th>6</th>\n",
       "      <td>302</td>\n",
       "      <td>Enfermedades hipertensivas</td>\n",
       "      <td>23289.0</td>\n",
       "      <td>465.78</td>\n",
       "      <td>254.38</td>\n",
       "      <td>84.79</td>\n",
       "      <td>8818.42</td>\n",
       "      <td>78009.07</td>\n",
       "      <td>346886.00</td>\n",
       "      <td>296858.44</td>\n",
       "      <td>12718.87</td>\n",
       "    </tr>\n",
       "    <tr>\n",
       "      <th>7</th>\n",
       "      <td>601</td>\n",
       "      <td>Diabetes mellitus</td>\n",
       "      <td>20350.0</td>\n",
       "      <td>407.00</td>\n",
       "      <td>254.38</td>\n",
       "      <td>254.38</td>\n",
       "      <td>23063.55</td>\n",
       "      <td>147962.86</td>\n",
       "      <td>342985.54</td>\n",
       "      <td>131852.29</td>\n",
       "      <td>3391.70</td>\n",
       "    </tr>\n",
       "    <tr>\n",
       "      <th>8</th>\n",
       "      <td>609</td>\n",
       "      <td>Resto de enfermedades del sistema digestivo</td>\n",
       "      <td>19749.0</td>\n",
       "      <td>394.98</td>\n",
       "      <td>6359.44</td>\n",
       "      <td>2882.94</td>\n",
       "      <td>36206.38</td>\n",
       "      <td>112604.40</td>\n",
       "      <td>306524.78</td>\n",
       "      <td>162631.96</td>\n",
       "      <td>3391.70</td>\n",
       "    </tr>\n",
       "    <tr>\n",
       "      <th>9</th>\n",
       "      <td>501</td>\n",
       "      <td>Accidentes de transporte terrestre</td>\n",
       "      <td>17585.0</td>\n",
       "      <td>351.70</td>\n",
       "      <td>3985.25</td>\n",
       "      <td>12718.87</td>\n",
       "      <td>324415.99</td>\n",
       "      <td>126171.20</td>\n",
       "      <td>81655.15</td>\n",
       "      <td>12294.91</td>\n",
       "      <td>0.00</td>\n",
       "    </tr>\n",
       "    <tr>\n",
       "      <th>10</th>\n",
       "      <td>610</td>\n",
       "      <td>Enfermedades del sistema urinario</td>\n",
       "      <td>17341.0</td>\n",
       "      <td>346.82</td>\n",
       "      <td>4154.83</td>\n",
       "      <td>1950.23</td>\n",
       "      <td>24844.19</td>\n",
       "      <td>80468.05</td>\n",
       "      <td>257684.32</td>\n",
       "      <td>178996.91</td>\n",
       "      <td>5596.30</td>\n",
       "    </tr>\n",
       "    <tr>\n",
       "      <th>11</th>\n",
       "      <td>614</td>\n",
       "      <td>Resto de las enfermedades</td>\n",
       "      <td>17118.0</td>\n",
       "      <td>342.36</td>\n",
       "      <td>14584.30</td>\n",
       "      <td>7292.15</td>\n",
       "      <td>76398.02</td>\n",
       "      <td>111671.68</td>\n",
       "      <td>209946.16</td>\n",
       "      <td>121253.23</td>\n",
       "      <td>5426.72</td>\n",
       "    </tr>\n",
       "    <tr>\n",
       "      <th>12</th>\n",
       "      <td>304</td>\n",
       "      <td>Enfermedad cardiopulmonar enfermedades de la c...</td>\n",
       "      <td>15376.0</td>\n",
       "      <td>307.52</td>\n",
       "      <td>6359.44</td>\n",
       "      <td>3561.28</td>\n",
       "      <td>36799.93</td>\n",
       "      <td>90219.19</td>\n",
       "      <td>233603.26</td>\n",
       "      <td>117013.61</td>\n",
       "      <td>3391.70</td>\n",
       "    </tr>\n",
       "    <tr>\n",
       "      <th>13</th>\n",
       "      <td>604</td>\n",
       "      <td>Enfermedades del sistema nervioso  excepto men...</td>\n",
       "      <td>14483.0</td>\n",
       "      <td>289.66</td>\n",
       "      <td>16619.32</td>\n",
       "      <td>18993.51</td>\n",
       "      <td>72243.18</td>\n",
       "      <td>72243.18</td>\n",
       "      <td>166617.20</td>\n",
       "      <td>112350.02</td>\n",
       "      <td>3391.70</td>\n",
       "    </tr>\n",
       "  </tbody>\n",
       "</table>\n",
       "</div>"
      ],
      "text/plain": [
       "     Código                                 Causa de defunción  \\\n",
       "0   200-215                                         Neoplasias   \n",
       "1       303                Enfermedades isquémicas del corazón   \n",
       "2       605  Enfermedades crónicas de las vías respiratoria...   \n",
       "3       307                     Enfermedades cerebrovasculares   \n",
       "4       999                                           COVID-19   \n",
       "5       512                            Agresiones (homicidios)   \n",
       "6       302                         Enfermedades hipertensivas   \n",
       "7       601                                  Diabetes mellitus   \n",
       "8       609        Resto de enfermedades del sistema digestivo   \n",
       "9       501                 Accidentes de transporte terrestre   \n",
       "10      610                  Enfermedades del sistema urinario   \n",
       "11      614                          Resto de las enfermedades   \n",
       "12      304  Enfermedad cardiopulmonar enfermedades de la c...   \n",
       "13      604  Enfermedades del sistema nervioso  excepto men...   \n",
       "\n",
       "    Total defunciones  Tasa de Mortalidad total por millón de habitantes  \\\n",
       "0            126784.0                                            2535.68   \n",
       "1             99626.0                                            1992.52   \n",
       "2             42266.0                                             845.32   \n",
       "3             40564.0                                             811.28   \n",
       "4             33638.0                                             672.76   \n",
       "5             32881.0                                             657.62   \n",
       "6             23289.0                                             465.78   \n",
       "7             20350.0                                             407.00   \n",
       "8             19749.0                                             394.98   \n",
       "9             17585.0                                             351.70   \n",
       "10            17341.0                                             346.82   \n",
       "11            17118.0                                             342.36   \n",
       "12            15376.0                                             307.52   \n",
       "13            14483.0                                             289.66   \n",
       "\n",
       "    TM edad 0 a 4 años  TM edad 5 a 14 años  TM edad 15 a 44 años  \\\n",
       "0                  NaN                  NaN                   NaN   \n",
       "1                84.79               423.96              61474.54   \n",
       "2              1102.30               423.96               9411.96   \n",
       "3              2713.36              2374.19              50960.27   \n",
       "4                  NaN                  NaN                   NaN   \n",
       "5              3137.32              1568.66              96493.83   \n",
       "6               254.38                84.79               8818.42   \n",
       "7               254.38               254.38              23063.55   \n",
       "8              6359.44              2882.94              36206.38   \n",
       "9              3985.25             12718.87             324415.99   \n",
       "10             4154.83              1950.23              24844.19   \n",
       "11            14584.30              7292.15              76398.02   \n",
       "12             6359.44              3561.28              36799.93   \n",
       "13            16619.32             18993.51              72243.18   \n",
       "\n",
       "    TM edad 45 a 64 años  TM edad 65 a 84 años  TM edad 85 a 99 años  \\\n",
       "0                    NaN                   NaN                   NaN   \n",
       "1              508076.48            1547632.17            1017424.85   \n",
       "2               97087.38             647984.06             572942.72   \n",
       "3              225208.80             633484.55             372323.74   \n",
       "4                    NaN                   NaN                   NaN   \n",
       "5              369101.62             674608.89             189977.53   \n",
       "6               78009.07             346886.00             296858.44   \n",
       "7              147962.86             342985.54             131852.29   \n",
       "8              112604.40             306524.78             162631.96   \n",
       "9              126171.20              81655.15              12294.91   \n",
       "10              80468.05             257684.32             178996.91   \n",
       "11             111671.68             209946.16             121253.23   \n",
       "12              90219.19             233603.26             117013.61   \n",
       "13              72243.18             166617.20             112350.02   \n",
       "\n",
       "    TM edad 100 o más años  \n",
       "0                      NaN  \n",
       "1                 45872.73  \n",
       "2                 20604.57  \n",
       "3                  8140.08  \n",
       "4                      NaN  \n",
       "5                  2967.74  \n",
       "6                 12718.87  \n",
       "7                  3391.70  \n",
       "8                  3391.70  \n",
       "9                     0.00  \n",
       "10                 5596.30  \n",
       "11                 5426.72  \n",
       "12                 3391.70  \n",
       "13                 3391.70  "
      ]
     },
     "execution_count": 29,
     "metadata": {},
     "output_type": "execute_result"
    }
   ],
   "source": [
    "tasasMortalidadColGrupoEtario.rename(columns={'Total':'Total defunciones', \n",
    "                                              'Tasa de Mortalidad': 'Tasa de Mortalidad total por millón de habitantes', \n",
    "                                              'TM_0_4':'TM edad 0 a 4 años',\n",
    "                                              'TM_5_14':'TM edad 5 a 14 años', \n",
    "                                              'TM_15_44': 'TM edad 15 a 44 años', \n",
    "                                              'TM_45_64': 'TM edad 45 a 64 años', \n",
    "                                              'TM_65_84': 'TM edad 65 a 84 años', \n",
    "                                              'TM_85_99': 'TM edad 85 a 99 años',\n",
    "                                              'TM_100 o más': 'TM edad 100 o más años'})"
   ]
  },
  {
   "cell_type": "markdown",
   "metadata": {
    "slideshow": {
     "slide_type": "slide"
    }
   },
   "source": [
    "### Departamentos:   Tasas de letalidad y de mortalidad \n",
    "#### Período del 2020 - 03 - 02  al "
   ]
  },
  {
   "cell_type": "code",
   "execution_count": 30,
   "metadata": {
    "slideshow": {
     "slide_type": "slide"
    }
   },
   "outputs": [],
   "source": [
    "fecha = Fecha_ultimo_dato"
   ]
  },
  {
   "cell_type": "code",
   "execution_count": 31,
   "metadata": {
    "slideshow": {
     "slide_type": "subslide"
    }
   },
   "outputs": [
    {
     "data": {
      "text/plain": [
       "Timestamp('2020-10-27 00:00:00')"
      ]
     },
     "execution_count": 31,
     "metadata": {},
     "output_type": "execute_result"
    }
   ],
   "source": [
    "fecha"
   ]
  },
  {
   "cell_type": "code",
   "execution_count": 32,
   "metadata": {
    "slideshow": {
     "slide_type": "slide"
    }
   },
   "outputs": [],
   "source": [
    "col[['Fecha de notificación',\n",
    "       'Ciudad de ubicación', 'Departamento o Distrito ', 'atención', 'Edad',\n",
    "       'Sexo', 'Tipo', 'Estado', 'País de procedencia',\n",
    "       'Fecha de muerte', 'Fecha diagnostico', 'Fecha recuperado',\n",
    "       'Tipo recuperación']]=  col[['Fecha de notificación',\n",
    "       'Ciudad de ubicación', 'Departamento o Distrito ', 'atención', 'Edad',\n",
    "       'Sexo', 'Tipo', 'Estado', 'País de procedencia',\n",
    "       'Fecha de muerte', 'Fecha diagnostico', 'Fecha recuperado',\n",
    "       'Tipo recuperación']].astype('category')"
   ]
  },
  {
   "cell_type": "code",
   "execution_count": 33,
   "metadata": {
    "slideshow": {
     "slide_type": "slide"
    }
   },
   "outputs": [],
   "source": [
    "Tasas = col.groupby('Departamento o Distrito ')[['Fecha de notificación','Fecha de muerte']].count()"
   ]
  },
  {
   "cell_type": "code",
   "execution_count": 34,
   "metadata": {
    "slideshow": {
     "slide_type": "slide"
    }
   },
   "outputs": [],
   "source": [
    "Tasas.rename(columns={'Fecha de notificación': 'Número de casos', 'Fecha de muerte': 'Fallecidos'}, inplace= True)"
   ]
  },
  {
   "cell_type": "code",
   "execution_count": 35,
   "metadata": {
    "slideshow": {
     "slide_type": "slide"
    }
   },
   "outputs": [],
   "source": [
    "Tasas['Tasa de letalidad por cien enfermos'] = (Tasas['Fallecidos']/Tasas['Número de casos'])*100"
   ]
  },
  {
   "cell_type": "code",
   "execution_count": 36,
   "metadata": {
    "slideshow": {
     "slide_type": "slide"
    }
   },
   "outputs": [],
   "source": [
    "habitantes = poblacion.loc[poblacion['Género']== 'AMBOS SEXOS', ['Dpto', 'Municipio','2020']].groupby('Dpto')['2020'].sum()\n"
   ]
  },
  {
   "cell_type": "code",
   "execution_count": 37,
   "metadata": {
    "slideshow": {
     "slide_type": "slide"
    }
   },
   "outputs": [],
   "source": [
    "Tasas['Tasa de mortalidad por millón de habitantes'] = (Tasas['Fallecidos']/habitantes)*1000000"
   ]
  },
  {
   "cell_type": "code",
   "execution_count": 38,
   "metadata": {
    "slideshow": {
     "slide_type": "slide"
    }
   },
   "outputs": [
    {
     "data": {
      "text/html": [
       "<div>\n",
       "<style scoped>\n",
       "    .dataframe tbody tr th:only-of-type {\n",
       "        vertical-align: middle;\n",
       "    }\n",
       "\n",
       "    .dataframe tbody tr th {\n",
       "        vertical-align: top;\n",
       "    }\n",
       "\n",
       "    .dataframe thead th {\n",
       "        text-align: right;\n",
       "    }\n",
       "</style>\n",
       "<table border=\"1\" class=\"dataframe\">\n",
       "  <thead>\n",
       "    <tr style=\"text-align: right;\">\n",
       "      <th></th>\n",
       "      <th>Número de casos</th>\n",
       "      <th>Fallecidos</th>\n",
       "      <th>Tasa de letalidad por cien enfermos</th>\n",
       "      <th>Tasa de mortalidad por millón de habitantes</th>\n",
       "    </tr>\n",
       "    <tr>\n",
       "      <th>Departamento o Distrito</th>\n",
       "      <th></th>\n",
       "      <th></th>\n",
       "      <th></th>\n",
       "      <th></th>\n",
       "    </tr>\n",
       "  </thead>\n",
       "  <tbody>\n",
       "    <tr>\n",
       "      <th>Amazonas</th>\n",
       "      <td>2892</td>\n",
       "      <td>124</td>\n",
       "      <td>4.29</td>\n",
       "      <td>1569.22</td>\n",
       "    </tr>\n",
       "    <tr>\n",
       "      <th>Barranquilla D.E.</th>\n",
       "      <td>40445</td>\n",
       "      <td>1843</td>\n",
       "      <td>4.56</td>\n",
       "      <td>1446.34</td>\n",
       "    </tr>\n",
       "    <tr>\n",
       "      <th>Bogotá D.C.</th>\n",
       "      <td>314687</td>\n",
       "      <td>8412</td>\n",
       "      <td>2.67</td>\n",
       "      <td>1086.27</td>\n",
       "    </tr>\n",
       "    <tr>\n",
       "      <th>Atlántico</th>\n",
       "      <td>30679</td>\n",
       "      <td>1543</td>\n",
       "      <td>5.03</td>\n",
       "      <td>1065.70</td>\n",
       "    </tr>\n",
       "    <tr>\n",
       "      <th>Caquetá</th>\n",
       "      <td>11064</td>\n",
       "      <td>432</td>\n",
       "      <td>3.90</td>\n",
       "      <td>1052.32</td>\n",
       "    </tr>\n",
       "    <tr>\n",
       "      <th>Córdoba</th>\n",
       "      <td>26058</td>\n",
       "      <td>1768</td>\n",
       "      <td>6.78</td>\n",
       "      <td>966.68</td>\n",
       "    </tr>\n",
       "    <tr>\n",
       "      <th>Santa Marta D.T. y C.</th>\n",
       "      <td>11252</td>\n",
       "      <td>496</td>\n",
       "      <td>4.41</td>\n",
       "      <td>920.89</td>\n",
       "    </tr>\n",
       "    <tr>\n",
       "      <th>Santander</th>\n",
       "      <td>41024</td>\n",
       "      <td>1772</td>\n",
       "      <td>4.32</td>\n",
       "      <td>776.88</td>\n",
       "    </tr>\n",
       "    <tr>\n",
       "      <th>Norte de Santander</th>\n",
       "      <td>20747</td>\n",
       "      <td>1131</td>\n",
       "      <td>5.45</td>\n",
       "      <td>698.01</td>\n",
       "    </tr>\n",
       "    <tr>\n",
       "      <th>Sucre</th>\n",
       "      <td>15324</td>\n",
       "      <td>657</td>\n",
       "      <td>4.29</td>\n",
       "      <td>692.12</td>\n",
       "    </tr>\n",
       "    <tr>\n",
       "      <th>Valle del Cauca</th>\n",
       "      <td>78305</td>\n",
       "      <td>2831</td>\n",
       "      <td>3.62</td>\n",
       "      <td>670.80</td>\n",
       "    </tr>\n",
       "    <tr>\n",
       "      <th>Cesar</th>\n",
       "      <td>25212</td>\n",
       "      <td>868</td>\n",
       "      <td>3.44</td>\n",
       "      <td>670.07</td>\n",
       "    </tr>\n",
       "    <tr>\n",
       "      <th>Cartagena D.T. y C.</th>\n",
       "      <td>25808</td>\n",
       "      <td>630</td>\n",
       "      <td>2.44</td>\n",
       "      <td>612.40</td>\n",
       "    </tr>\n",
       "    <tr>\n",
       "      <th>Huila</th>\n",
       "      <td>21164</td>\n",
       "      <td>663</td>\n",
       "      <td>3.13</td>\n",
       "      <td>590.58</td>\n",
       "    </tr>\n",
       "    <tr>\n",
       "      <th>Putumayo</th>\n",
       "      <td>4311</td>\n",
       "      <td>211</td>\n",
       "      <td>4.89</td>\n",
       "      <td>587.54</td>\n",
       "    </tr>\n",
       "    <tr>\n",
       "      <th>Buenaventura D.E.</th>\n",
       "      <td>2657</td>\n",
       "      <td>182</td>\n",
       "      <td>6.85</td>\n",
       "      <td>583.66</td>\n",
       "    </tr>\n",
       "    <tr>\n",
       "      <th>Magdalena</th>\n",
       "      <td>5819</td>\n",
       "      <td>482</td>\n",
       "      <td>8.28</td>\n",
       "      <td>542.54</td>\n",
       "    </tr>\n",
       "    <tr>\n",
       "      <th>Meta</th>\n",
       "      <td>21966</td>\n",
       "      <td>567</td>\n",
       "      <td>2.58</td>\n",
       "      <td>533.17</td>\n",
       "    </tr>\n",
       "    <tr>\n",
       "      <th>Antioquia</th>\n",
       "      <td>162149</td>\n",
       "      <td>3411</td>\n",
       "      <td>2.10</td>\n",
       "      <td>510.79</td>\n",
       "    </tr>\n",
       "    <tr>\n",
       "      <th>Nariño</th>\n",
       "      <td>21451</td>\n",
       "      <td>829</td>\n",
       "      <td>3.86</td>\n",
       "      <td>509.34</td>\n",
       "    </tr>\n",
       "    <tr>\n",
       "      <th>Archipiélago de San Andrés Providencia y Santa Catalina</th>\n",
       "      <td>1868</td>\n",
       "      <td>31</td>\n",
       "      <td>1.66</td>\n",
       "      <td>486.72</td>\n",
       "    </tr>\n",
       "    <tr>\n",
       "      <th>Tolima</th>\n",
       "      <td>18519</td>\n",
       "      <td>651</td>\n",
       "      <td>3.52</td>\n",
       "      <td>485.82</td>\n",
       "    </tr>\n",
       "    <tr>\n",
       "      <th>Risaralda</th>\n",
       "      <td>16729</td>\n",
       "      <td>422</td>\n",
       "      <td>2.52</td>\n",
       "      <td>439.10</td>\n",
       "    </tr>\n",
       "    <tr>\n",
       "      <th>La Guajira</th>\n",
       "      <td>9638</td>\n",
       "      <td>415</td>\n",
       "      <td>4.31</td>\n",
       "      <td>429.73</td>\n",
       "    </tr>\n",
       "    <tr>\n",
       "      <th>Quindío</th>\n",
       "      <td>9066</td>\n",
       "      <td>230</td>\n",
       "      <td>2.54</td>\n",
       "      <td>414.12</td>\n",
       "    </tr>\n",
       "    <tr>\n",
       "      <th>Cundinamarca</th>\n",
       "      <td>41376</td>\n",
       "      <td>1278</td>\n",
       "      <td>3.09</td>\n",
       "      <td>394.08</td>\n",
       "    </tr>\n",
       "    <tr>\n",
       "      <th>Guainía</th>\n",
       "      <td>1119</td>\n",
       "      <td>19</td>\n",
       "      <td>1.70</td>\n",
       "      <td>375.23</td>\n",
       "    </tr>\n",
       "    <tr>\n",
       "      <th>Arauca</th>\n",
       "      <td>3136</td>\n",
       "      <td>97</td>\n",
       "      <td>3.09</td>\n",
       "      <td>329.70</td>\n",
       "    </tr>\n",
       "    <tr>\n",
       "      <th>Chocó</th>\n",
       "      <td>4162</td>\n",
       "      <td>178</td>\n",
       "      <td>4.28</td>\n",
       "      <td>326.75</td>\n",
       "    </tr>\n",
       "    <tr>\n",
       "      <th>Caldas</th>\n",
       "      <td>12513</td>\n",
       "      <td>309</td>\n",
       "      <td>2.47</td>\n",
       "      <td>303.40</td>\n",
       "    </tr>\n",
       "    <tr>\n",
       "      <th>Guaviare</th>\n",
       "      <td>1413</td>\n",
       "      <td>25</td>\n",
       "      <td>1.77</td>\n",
       "      <td>288.49</td>\n",
       "    </tr>\n",
       "    <tr>\n",
       "      <th>Cauca</th>\n",
       "      <td>12829</td>\n",
       "      <td>411</td>\n",
       "      <td>3.20</td>\n",
       "      <td>275.48</td>\n",
       "    </tr>\n",
       "    <tr>\n",
       "      <th>Vaupés</th>\n",
       "      <td>1063</td>\n",
       "      <td>12</td>\n",
       "      <td>1.13</td>\n",
       "      <td>268.38</td>\n",
       "    </tr>\n",
       "    <tr>\n",
       "      <th>Boyacá</th>\n",
       "      <td>13261</td>\n",
       "      <td>327</td>\n",
       "      <td>2.47</td>\n",
       "      <td>263.13</td>\n",
       "    </tr>\n",
       "    <tr>\n",
       "      <th>Bolívar</th>\n",
       "      <td>6620</td>\n",
       "      <td>278</td>\n",
       "      <td>4.20</td>\n",
       "      <td>241.27</td>\n",
       "    </tr>\n",
       "    <tr>\n",
       "      <th>Casanare</th>\n",
       "      <td>4822</td>\n",
       "      <td>94</td>\n",
       "      <td>1.95</td>\n",
       "      <td>216.00</td>\n",
       "    </tr>\n",
       "    <tr>\n",
       "      <th>Vichada</th>\n",
       "      <td>787</td>\n",
       "      <td>9</td>\n",
       "      <td>1.14</td>\n",
       "      <td>79.68</td>\n",
       "    </tr>\n",
       "  </tbody>\n",
       "</table>\n",
       "</div>"
      ],
      "text/plain": [
       "                                                    Número de casos  \\\n",
       "Departamento o Distrito                                               \n",
       "Amazonas                                                       2892   \n",
       "Barranquilla D.E.                                             40445   \n",
       "Bogotá D.C.                                                  314687   \n",
       "Atlántico                                                     30679   \n",
       "Caquetá                                                       11064   \n",
       "Córdoba                                                       26058   \n",
       "Santa Marta D.T. y C.                                         11252   \n",
       "Santander                                                     41024   \n",
       "Norte de Santander                                            20747   \n",
       "Sucre                                                         15324   \n",
       "Valle del Cauca                                               78305   \n",
       "Cesar                                                         25212   \n",
       "Cartagena D.T. y C.                                           25808   \n",
       "Huila                                                         21164   \n",
       "Putumayo                                                       4311   \n",
       "Buenaventura D.E.                                              2657   \n",
       "Magdalena                                                      5819   \n",
       "Meta                                                          21966   \n",
       "Antioquia                                                    162149   \n",
       "Nariño                                                        21451   \n",
       "Archipiélago de San Andrés Providencia y Santa ...             1868   \n",
       "Tolima                                                        18519   \n",
       "Risaralda                                                     16729   \n",
       "La Guajira                                                     9638   \n",
       "Quindío                                                        9066   \n",
       "Cundinamarca                                                  41376   \n",
       "Guainía                                                        1119   \n",
       "Arauca                                                         3136   \n",
       "Chocó                                                          4162   \n",
       "Caldas                                                        12513   \n",
       "Guaviare                                                       1413   \n",
       "Cauca                                                         12829   \n",
       "Vaupés                                                         1063   \n",
       "Boyacá                                                        13261   \n",
       "Bolívar                                                        6620   \n",
       "Casanare                                                       4822   \n",
       "Vichada                                                         787   \n",
       "\n",
       "                                                    Fallecidos  \\\n",
       "Departamento o Distrito                                          \n",
       "Amazonas                                                   124   \n",
       "Barranquilla D.E.                                         1843   \n",
       "Bogotá D.C.                                               8412   \n",
       "Atlántico                                                 1543   \n",
       "Caquetá                                                    432   \n",
       "Córdoba                                                   1768   \n",
       "Santa Marta D.T. y C.                                      496   \n",
       "Santander                                                 1772   \n",
       "Norte de Santander                                        1131   \n",
       "Sucre                                                      657   \n",
       "Valle del Cauca                                           2831   \n",
       "Cesar                                                      868   \n",
       "Cartagena D.T. y C.                                        630   \n",
       "Huila                                                      663   \n",
       "Putumayo                                                   211   \n",
       "Buenaventura D.E.                                          182   \n",
       "Magdalena                                                  482   \n",
       "Meta                                                       567   \n",
       "Antioquia                                                 3411   \n",
       "Nariño                                                     829   \n",
       "Archipiélago de San Andrés Providencia y Santa ...          31   \n",
       "Tolima                                                     651   \n",
       "Risaralda                                                  422   \n",
       "La Guajira                                                 415   \n",
       "Quindío                                                    230   \n",
       "Cundinamarca                                              1278   \n",
       "Guainía                                                     19   \n",
       "Arauca                                                      97   \n",
       "Chocó                                                      178   \n",
       "Caldas                                                     309   \n",
       "Guaviare                                                    25   \n",
       "Cauca                                                      411   \n",
       "Vaupés                                                      12   \n",
       "Boyacá                                                     327   \n",
       "Bolívar                                                    278   \n",
       "Casanare                                                    94   \n",
       "Vichada                                                      9   \n",
       "\n",
       "                                                    Tasa de letalidad por cien enfermos  \\\n",
       "Departamento o Distrito                                                                   \n",
       "Amazonas                                                                           4.29   \n",
       "Barranquilla D.E.                                                                  4.56   \n",
       "Bogotá D.C.                                                                        2.67   \n",
       "Atlántico                                                                          5.03   \n",
       "Caquetá                                                                            3.90   \n",
       "Córdoba                                                                            6.78   \n",
       "Santa Marta D.T. y C.                                                              4.41   \n",
       "Santander                                                                          4.32   \n",
       "Norte de Santander                                                                 5.45   \n",
       "Sucre                                                                              4.29   \n",
       "Valle del Cauca                                                                    3.62   \n",
       "Cesar                                                                              3.44   \n",
       "Cartagena D.T. y C.                                                                2.44   \n",
       "Huila                                                                              3.13   \n",
       "Putumayo                                                                           4.89   \n",
       "Buenaventura D.E.                                                                  6.85   \n",
       "Magdalena                                                                          8.28   \n",
       "Meta                                                                               2.58   \n",
       "Antioquia                                                                          2.10   \n",
       "Nariño                                                                             3.86   \n",
       "Archipiélago de San Andrés Providencia y Santa ...                                 1.66   \n",
       "Tolima                                                                             3.52   \n",
       "Risaralda                                                                          2.52   \n",
       "La Guajira                                                                         4.31   \n",
       "Quindío                                                                            2.54   \n",
       "Cundinamarca                                                                       3.09   \n",
       "Guainía                                                                            1.70   \n",
       "Arauca                                                                             3.09   \n",
       "Chocó                                                                              4.28   \n",
       "Caldas                                                                             2.47   \n",
       "Guaviare                                                                           1.77   \n",
       "Cauca                                                                              3.20   \n",
       "Vaupés                                                                             1.13   \n",
       "Boyacá                                                                             2.47   \n",
       "Bolívar                                                                            4.20   \n",
       "Casanare                                                                           1.95   \n",
       "Vichada                                                                            1.14   \n",
       "\n",
       "                                                    Tasa de mortalidad por millón de habitantes  \n",
       "Departamento o Distrito                                                                          \n",
       "Amazonas                                                                                1569.22  \n",
       "Barranquilla D.E.                                                                       1446.34  \n",
       "Bogotá D.C.                                                                             1086.27  \n",
       "Atlántico                                                                               1065.70  \n",
       "Caquetá                                                                                 1052.32  \n",
       "Córdoba                                                                                  966.68  \n",
       "Santa Marta D.T. y C.                                                                    920.89  \n",
       "Santander                                                                                776.88  \n",
       "Norte de Santander                                                                       698.01  \n",
       "Sucre                                                                                    692.12  \n",
       "Valle del Cauca                                                                          670.80  \n",
       "Cesar                                                                                    670.07  \n",
       "Cartagena D.T. y C.                                                                      612.40  \n",
       "Huila                                                                                    590.58  \n",
       "Putumayo                                                                                 587.54  \n",
       "Buenaventura D.E.                                                                        583.66  \n",
       "Magdalena                                                                                542.54  \n",
       "Meta                                                                                     533.17  \n",
       "Antioquia                                                                                510.79  \n",
       "Nariño                                                                                   509.34  \n",
       "Archipiélago de San Andrés Providencia y Santa ...                                       486.72  \n",
       "Tolima                                                                                   485.82  \n",
       "Risaralda                                                                                439.10  \n",
       "La Guajira                                                                               429.73  \n",
       "Quindío                                                                                  414.12  \n",
       "Cundinamarca                                                                             394.08  \n",
       "Guainía                                                                                  375.23  \n",
       "Arauca                                                                                   329.70  \n",
       "Chocó                                                                                    326.75  \n",
       "Caldas                                                                                   303.40  \n",
       "Guaviare                                                                                 288.49  \n",
       "Cauca                                                                                    275.48  \n",
       "Vaupés                                                                                   268.38  \n",
       "Boyacá                                                                                   263.13  \n",
       "Bolívar                                                                                  241.27  \n",
       "Casanare                                                                                 216.00  \n",
       "Vichada                                                                                   79.68  "
      ]
     },
     "execution_count": 38,
     "metadata": {},
     "output_type": "execute_result"
    }
   ],
   "source": [
    "Tasas.round(2).sort_values('Tasa de mortalidad por millón de habitantes', ascending=False)"
   ]
  },
  {
   "cell_type": "markdown",
   "metadata": {
    "slideshow": {
     "slide_type": "slide"
    }
   },
   "source": [
    "### Comparativo Tasa de Mortalidad por millón de habitantes por departamentos"
   ]
  },
  {
   "cell_type": "markdown",
   "metadata": {
    "slideshow": {
     "slide_type": "subslide"
    }
   },
   "source": [
    "#### Período del '2020 - 03 - 02' al "
   ]
  },
  {
   "cell_type": "code",
   "execution_count": 39,
   "metadata": {
    "slideshow": {
     "slide_type": "subslide"
    }
   },
   "outputs": [
    {
     "data": {
      "text/plain": [
       "Timestamp('2020-10-27 00:00:00')"
      ]
     },
     "execution_count": 39,
     "metadata": {},
     "output_type": "execute_result"
    }
   ],
   "source": [
    "fecha"
   ]
  },
  {
   "cell_type": "code",
   "execution_count": 40,
   "metadata": {
    "scrolled": true,
    "slideshow": {
     "slide_type": "slide"
    }
   },
   "outputs": [
    {
     "data": {
      "text/plain": [
       "<matplotlib.axes._subplots.AxesSubplot at 0x11cb11400>"
      ]
     },
     "execution_count": 40,
     "metadata": {},
     "output_type": "execute_result"
    },
    {
     "data": {
      "image/png": "[encoded data removed]",
      "text/plain": [
       "<Figure size 432x288 with 1 Axes>"
      ]
     },
     "metadata": {
      "needs_background": "light"
     },
     "output_type": "display_data"
    }
   ],
   "source": [
    "Tasas.loc[:,'Tasa de mortalidad por millón de habitantes'].sort_values(ascending=False).plot(kind='bar')"
   ]
  },
  {
   "cell_type": "code",
   "execution_count": 41,
   "metadata": {
    "slideshow": {
     "slide_type": "slide"
    }
   },
   "outputs": [
    {
     "name": "stdout",
     "output_type": "stream",
     "text": [
      "Ingrese los departamentos para los que requiere conocer la tasa.   Para terminar, digite 'F'   :Caldas\n",
      "Ingrese los departamentos para los que requiere conocer la tasa.   Para terminar, digite 'F'   :f\n"
     ]
    }
   ],
   "source": [
    "departamentos = []\n",
    "dept = ''\n",
    "while dept != 'F' or dept != 'f':\n",
    "    dept = input(\"Ingrese los departamentos para los que requiere conocer la tasa.   Para terminar, digite 'F'   :\")\n",
    "    if dept == 'F' or dept == 'f':\n",
    "        break\n",
    "    else:\n",
    "        if Tasas.index.isin([dept]).any()==True:\n",
    "            departamentos.append(dept)\n",
    "        else:\n",
    "            print('No se encuentra el departamento.  Revise ortografía.  Para Distrito capitales, turísticos o especiales puede requerir D.C., D.E. o D.T. y C.')\n"
   ]
  },
  {
   "cell_type": "code",
   "execution_count": 42,
   "metadata": {
    "slideshow": {
     "slide_type": "slide"
    }
   },
   "outputs": [],
   "source": [
    "departamento = pd.concat([Tasas,habitantes], axis=1).loc[departamentos,:].round(2)\n",
    "cuadro_dptos = departamento"
   ]
  },
  {
   "cell_type": "markdown",
   "metadata": {
    "slideshow": {
     "slide_type": "slide"
    }
   },
   "source": [
    "### Tasas de letalidad y de mortalidad"
   ]
  },
  {
   "cell_type": "markdown",
   "metadata": {
    "slideshow": {
     "slide_type": "subslide"
    }
   },
   "source": [
    "#### Período del '2020 - 03 - 02' al "
   ]
  },
  {
   "cell_type": "code",
   "execution_count": 43,
   "metadata": {
    "slideshow": {
     "slide_type": "subslide"
    }
   },
   "outputs": [
    {
     "data": {
      "text/plain": [
       "Timestamp('2020-10-27 00:00:00')"
      ]
     },
     "execution_count": 43,
     "metadata": {},
     "output_type": "execute_result"
    }
   ],
   "source": [
    "fecha"
   ]
  },
  {
   "cell_type": "code",
   "execution_count": 44,
   "metadata": {
    "slideshow": {
     "slide_type": "slide"
    }
   },
   "outputs": [],
   "source": [
    "cuadro_dptos.rename(columns={'2020':'Población'}, inplace=True)"
   ]
  },
  {
   "cell_type": "code",
   "execution_count": 45,
   "metadata": {
    "slideshow": {
     "slide_type": "slide"
    }
   },
   "outputs": [
    {
     "data": {
      "text/html": [
       "<div>\n",
       "<style scoped>\n",
       "    .dataframe tbody tr th:only-of-type {\n",
       "        vertical-align: middle;\n",
       "    }\n",
       "\n",
       "    .dataframe tbody tr th {\n",
       "        vertical-align: top;\n",
       "    }\n",
       "\n",
       "    .dataframe thead th {\n",
       "        text-align: right;\n",
       "    }\n",
       "</style>\n",
       "<table border=\"1\" class=\"dataframe\">\n",
       "  <thead>\n",
       "    <tr style=\"text-align: right;\">\n",
       "      <th></th>\n",
       "      <th>Número de casos</th>\n",
       "      <th>Fallecidos</th>\n",
       "      <th>Tasa de letalidad por cien enfermos</th>\n",
       "      <th>Tasa de mortalidad por millón de habitantes</th>\n",
       "      <th>Población</th>\n",
       "    </tr>\n",
       "  </thead>\n",
       "  <tbody>\n",
       "    <tr>\n",
       "      <th>Caldas</th>\n",
       "      <td>12513.0</td>\n",
       "      <td>309.0</td>\n",
       "      <td>2.47</td>\n",
       "      <td>303.4</td>\n",
       "      <td>1018453</td>\n",
       "    </tr>\n",
       "  </tbody>\n",
       "</table>\n",
       "</div>"
      ],
      "text/plain": [
       "        Número de casos  Fallecidos  Tasa de letalidad por cien enfermos  \\\n",
       "Caldas          12513.0       309.0                                 2.47   \n",
       "\n",
       "        Tasa de mortalidad por millón de habitantes  Población  \n",
       "Caldas                                        303.4    1018453  "
      ]
     },
     "execution_count": 45,
     "metadata": {},
     "output_type": "execute_result"
    }
   ],
   "source": [
    "cuadro_dptos.sort_values('Tasa de mortalidad por millón de habitantes', ascending=False, inplace=True)\n",
    "cuadro_dptos"
   ]
  },
  {
   "cell_type": "markdown",
   "metadata": {
    "slideshow": {
     "slide_type": "slide"
    }
   },
   "source": [
    "### Comparativo Tasa de Mortalidad por millón de habitantes por departamentos"
   ]
  },
  {
   "cell_type": "markdown",
   "metadata": {
    "slideshow": {
     "slide_type": "subslide"
    }
   },
   "source": [
    "#### Período del '2020 - 03 - 02' al "
   ]
  },
  {
   "cell_type": "code",
   "execution_count": 46,
   "metadata": {
    "slideshow": {
     "slide_type": "subslide"
    }
   },
   "outputs": [
    {
     "data": {
      "text/plain": [
       "Timestamp('2020-10-27 00:00:00')"
      ]
     },
     "execution_count": 46,
     "metadata": {},
     "output_type": "execute_result"
    }
   ],
   "source": [
    "fecha"
   ]
  },
  {
   "cell_type": "code",
   "execution_count": 47,
   "metadata": {
    "scrolled": true,
    "slideshow": {
     "slide_type": "slide"
    }
   },
   "outputs": [
    {
     "data": {
      "text/plain": [
       "<matplotlib.axes._subplots.AxesSubplot at 0x11cd472b0>"
      ]
     },
     "execution_count": 47,
     "metadata": {},
     "output_type": "execute_result"
    },
    {
     "data": {
      "image/png": "[encoded data removed]",
      "text/plain": [
       "<Figure size 432x288 with 1 Axes>"
      ]
     },
     "metadata": {
      "needs_background": "light"
     },
     "output_type": "display_data"
    }
   ],
   "source": [
    "cuadro_dptos.loc[:,'Tasa de mortalidad por millón de habitantes'].sort_values(ascending=False).plot(kind='bar')"
   ]
  },
  {
   "cell_type": "markdown",
   "metadata": {
    "slideshow": {
     "slide_type": "slide"
    }
   },
   "source": [
    "###  Ejercicio para establecer el criterio de positividad de la PCR y las pruebas rápidas ante COVID-19:\n",
    "\n",
    "\n",
    "\n",
    "> Prerrequisitos:  \n",
    "- Alto impacto  <== Alta prevalencia, morbilidad y mortalidad.\n",
    "\n",
    "### Parcial.   Como patología viral y por sus mecanismos de transmisión tiene alta prevalencia, no en vano es pandémica.  La morbilidad es muy baja, teniendo una alta proporción de pacientes asintomáticos o con sintomatología leve o moderada.  La mortalidad por grupos etarios varía, respetando a población menor a los 44 años, afectando levemente a población entre los 45 y 64 años, moderadamente a las personas mayores de 65 años.  Al compararlo con otras patologías respiratorias, su comportamiento está dentro de los estándares en cuanto a mortalidad.  Está pendiente por definir si quienes fallecieron lo hicieron por o con CoV-2."
   ]
  },
  {
   "cell_type": "markdown",
   "metadata": {
    "slideshow": {
     "slide_type": "slide"
    }
   },
   "source": [
    "###  Ejercicio para establecer el criterio de positividad de la PCR y las pruebas rápidas ante COVID-19:\n",
    "\n",
    "> Prerrequisitos:  \n",
    "- Tratamiento disponible.\n",
    "\n",
    "\n",
    "### Hasta la fecha, el tratamiento es el convencional para neumonías virales.  Las recomendaciones que han surgido, salen de estudios observacionales que rápidamente han sido desvirtuados."
   ]
  },
  {
   "cell_type": "markdown",
   "metadata": {
    "slideshow": {
     "slide_type": "slide"
    }
   },
   "source": [
    "###  Ejercicio para establecer el criterio de positividad de la PCR y las pruebas rápidas ante COVID-19:\n",
    "\n",
    "> Gold Standard\n",
    "\n",
    "### Estudio \"Gold Standard\" ==>  PCR SarsCoV-2.  Hay discusión sobre su especificidad."
   ]
  },
  {
   "cell_type": "markdown",
   "metadata": {
    "slideshow": {
     "slide_type": "slide"
    }
   },
   "source": [
    "###  Ejercicio para establecer el criterio de positividad de la PCR y las pruebas rápidas ante COVID-19:\n",
    "\n",
    "> Modalidades de testeo o tamizaje con *buenas características*  \n",
    "- Sensibilidad.    \n",
    "- Especificidad.\n",
    "\n",
    "### Sí para la PRUEBA MOLECULAR.  NO para las pruebas rápidas.  \n",
    "### No existen para las Pruebas Rápidas estudios clínicos aleatorizados doble ciego, cuya ***validez interna haya sido establecida  por el análisis crítico adecuado.  En consecuencia no se debieron generalizar.***"
   ]
  },
  {
   "cell_type": "markdown",
   "metadata": {
    "slideshow": {
     "slide_type": "slide"
    }
   },
   "source": [
    "###  Ejercicio para establecer el criterio de positividad de la PCR y las pruebas rápidas ante COVID-19:\n",
    "\n",
    "> Factibilidad del testeo o tamizaje.\n",
    "\n",
    "- Libre de molestia significativa !\n",
    "\n",
    "### PCR SarsCoV-2 es molesta, especialmente para la población infantil.   "
   ]
  },
  {
   "cell_type": "markdown",
   "metadata": {
    "slideshow": {
     "slide_type": "slide"
    }
   },
   "source": [
    "###  Ejercicio para establecer el criterio de positividad de la PCR y las pruebas rápidas ante COVID-19:\n",
    "\n",
    "- Eficiente y económico.  \n",
    "\n",
    "### No.  Para la PCR SarsCoV-2, la precisión del test está alterada por los criterios de indicación vigentes.  El porcentaje de negativos es abrumador con respecto a los escasos positivos.\n",
    "### Las pruebas rápidas tienen la misma precisión que una moneda lanzada al aire (cara o sello)."
   ]
  },
  {
   "cell_type": "markdown",
   "metadata": {
    "slideshow": {
     "slide_type": "slide"
    }
   },
   "source": [
    "###  Ejercicio para establecer el criterio de positividad de la PCR y las pruebas rápidas ante COVID-19:\n",
    "\n",
    "- Que la persona acepte el seguimiento y que este sea posible.\n",
    "\n",
    "### Aunque entre las autoridades hay quienes semanalmente se hacen la PCR SarsCoV-2, esto no es viable en la población.  El tiempo de procesamiento ha estado siempre en nuestra zona en un promedio de 7 días."
   ]
  },
  {
   "cell_type": "markdown",
   "metadata": {
    "slideshow": {
     "slide_type": "slide"
    }
   },
   "source": [
    "###  Ejercicio para establecer el criterio de positividad de la PCR y las pruebas rápidas ante COVID-19:\n",
    "\n",
    "- Alta especidad.\n",
    "\n",
    "### Sí para la PCR SarsCoV-2.  No para las pruebas rápidas.\n",
    "\n"
   ]
  },
  {
   "cell_type": "markdown",
   "metadata": {
    "slideshow": {
     "slide_type": "slide"
    }
   },
   "source": [
    "###  Ejercicio para establecer el criterio de positividad de la PCR y las pruebas rápidas ante COVID-19:\n",
    "\n",
    "- El testeo o tamizaje debe derivar en la disminución efectiva de efectos adversos.\n",
    "\n",
    "### No.  El aislamiento preventivo de pacientes asintomáticos y el correspondiente cerco epidemiológico, genera más efectos adversos en la población, sin afectar positivamente las tasas de mortalidad por grupo etario."
   ]
  },
  {
   "cell_type": "markdown",
   "metadata": {
    "slideshow": {
     "slide_type": "slide"
    }
   },
   "source": [
    "CONCLUSIÓN frente a las estrategias implementadas ante el COVID-19, encontramos:   \n",
    "\n",
    "1.  SESGOS SIEMPRE PRESENTES:\n",
    "\n",
    "Se ha cometido sistemáticamente el sesgo de sobrediagnóstico:\n",
    "-  Desperdicio de recursos que debieran utilizarse en la atención de patologías de mayor tasa de mortalidad.\n",
    "-  Se promueven \"cuarentenas\" y \"aislamiento preventivos\" que tienen graves efectos físicos y psíquicos en la población, muestra de ello es el incremento de violencia intrafamiliar y pacientes con patologías crónicas en mayor fase de descompensación.\n",
    "\n",
    "Se han cometido sistemáticamente los sesgos de sobrevivencia (\"lead time bias\"), de severidad (\"length bias sampling\") y el sesgo del voluntario."
   ]
  },
  {
   "cell_type": "markdown",
   "metadata": {
    "slideshow": {
     "slide_type": "slide"
    }
   },
   "source": [
    "2.  Se ha actuado sin los preceptos de la medicina basada en la evidencia.\n",
    "\n",
    "3.  Las herramientas para modelar escenarios utilizadas por las autoridades competentes han sido anacrónicas, sin apropiarse de algoritmos adecuados, lo que las han llevado a postular \"picos\", continuamente aplazados ante las múltiples fallas de su predicción, y a adoptar pésimas estrategias.  Es cuando el \"remedio\" ha sido peor que la \"enfermedad\"."
   ]
  },
  {
   "cell_type": "markdown",
   "metadata": {
    "slideshow": {
     "slide_type": "slide"
    }
   },
   "source": [
    "4.  Pacientes con comorbilidades por patologías crónicas descompensadas, con síntomas respiratorios propios de estas, son diagnosticados como sospechosos de COVID19 e internados y expuestos a áreas COVID19 en las instituciones prestadoras de salud, con el riesgo de infección cruzada posterior y muerte CON COVID.  NO POR COVID.\n",
    "\n",
    "5.  No es de extrañarse que rápidamente aparecieran en escena en nuestro país, mercaderes de la muerte, que han aprovechado la situación para promover sus servicios o negocios, enriqueciéndose al propagar el temor y promover acciones injustificadas como las cuarentenas, aislamientos de toda la población, testeos sesgados y no apropiados, tratamientos sin evidencia científica.\n",
    "\n"
   ]
  },
  {
   "cell_type": "markdown",
   "metadata": {
    "slideshow": {
     "slide_type": "slide"
    }
   },
   "source": [
    "6. La lucha por el poder no ha desaprovechado el temor de la población, con \"politiqueros\" postulándose como defensores y cuidadores de su salud y su vida, presentándose una carrera para ser reconocido ahora y en el futuro, sustentadas en la creación de un pánico infundado, en las recomendaciones sin justificación y en la pauperización de la población al engendrar una debacle económica sin precedentes y sin sustento científico alguno.   Quienes ostentan el poder, dedican su tiempo en los medios a mostrarse como adalides en la lucha contra el COVID-19.\n",
    "\n",
    "7.  Las estrategias implementadas no han salvado una sola vida que no fuera a salverse luego del contagio con el virus, pero si nos ha devuelto dos décadas en los otros indicadores de salud y bienestar.    Las deudas adquiridas sin justificación alguna, las pagaremos en las próximas décadas y ni siquiera nuestros hijos estarán exentos de asumirlas.\n",
    "\n"
   ]
  },
  {
   "cell_type": "markdown",
   "metadata": {
    "slideshow": {
     "slide_type": "slide"
    }
   },
   "source": [
    "8.  \"Los expertos\" o fueron presas del pánico y olvidaron su formación y se dedicaron a estar atentos a los medios y a copiar estrategias de países donde se evidenciaba que estas no tenían impacto alguno, o se adaptaron al potencial económico propio que esta situación les brindó.\n",
    "\n",
    "9.  Conclusión final, ante el fracaso de nuestro expertos y de sus escenarios, la próxima estrategia para enfrentar la próxima pandemia no debe ser manejada por ellos, dejándosela a profesionales y especialistas de otras áreas que cuenten o construyan herramientas sustentadas en los principios de inteligencia artificial, principios que permitirán tomar las mejores decisiones sustentadas en datos y hechos, no en pánico o en intereses personales."
   ]
  },
  {
   "cell_type": "code",
   "execution_count": 48,
   "metadata": {},
   "outputs": [
    {
     "data": {
      "text/html": [
       "<div>\n",
       "<style scoped>\n",
       "    .dataframe tbody tr th:only-of-type {\n",
       "        vertical-align: middle;\n",
       "    }\n",
       "\n",
       "    .dataframe tbody tr th {\n",
       "        vertical-align: top;\n",
       "    }\n",
       "\n",
       "    .dataframe thead th {\n",
       "        text-align: right;\n",
       "    }\n",
       "</style>\n",
       "<table border=\"1\" class=\"dataframe\">\n",
       "  <thead>\n",
       "    <tr style=\"text-align: right;\">\n",
       "      <th></th>\n",
       "      <th>Unnamed: 0</th>\n",
       "      <th>País</th>\n",
       "      <th>Total_Casos</th>\n",
       "      <th>Fallecidos</th>\n",
       "      <th>Spanish</th>\n",
       "    </tr>\n",
       "  </thead>\n",
       "  <tbody>\n",
       "    <tr>\n",
       "      <th>43</th>\n",
       "      <td>43</td>\n",
       "      <td>Colombia</td>\n",
       "      <td>0</td>\n",
       "      <td>0</td>\n",
       "      <td>Colombia</td>\n",
       "    </tr>\n",
       "  </tbody>\n",
       "</table>\n",
       "</div>"
      ],
      "text/plain": [
       "    Unnamed: 0      País  Total_Casos  Fallecidos   Spanish\n",
       "43          43  Colombia            0           0  Colombia"
      ]
     },
     "execution_count": 48,
     "metadata": {},
     "output_type": "execute_result"
    }
   ],
   "source": [
    "mundo= pd.read_csv('CovidMundoT.csv')\n",
    "mundo.loc[mundo['País']=='Colombia']"
   ]
  },
  {
   "cell_type": "code",
   "execution_count": 49,
   "metadata": {},
   "outputs": [
    {
     "data": {
      "text/plain": [
       "Index(['Unnamed: 0', 'País', 'Total_Casos', 'Fallecidos', 'Spanish'], dtype='object')"
      ]
     },
     "execution_count": 49,
     "metadata": {},
     "output_type": "execute_result"
    }
   ],
   "source": [
    "mundo.columns\n"
   ]
  },
  {
   "cell_type": "code",
   "execution_count": 50,
   "metadata": {},
   "outputs": [],
   "source": [
    "tasasMundiales = pd.read_csv('Tasas_mundiales.csv')"
   ]
  },
  {
   "cell_type": "markdown",
   "metadata": {},
   "source": [
    "# Mundo:  Tasas de mortalidad y letalidad por CoV-2"
   ]
  },
  {
   "cell_type": "code",
   "execution_count": 51,
   "metadata": {},
   "outputs": [
    {
     "data": {
      "text/html": [
       "<div>\n",
       "<style scoped>\n",
       "    .dataframe tbody tr th:only-of-type {\n",
       "        vertical-align: middle;\n",
       "    }\n",
       "\n",
       "    .dataframe tbody tr th {\n",
       "        vertical-align: top;\n",
       "    }\n",
       "\n",
       "    .dataframe thead th {\n",
       "        text-align: right;\n",
       "    }\n",
       "</style>\n",
       "<table border=\"1\" class=\"dataframe\">\n",
       "  <thead>\n",
       "    <tr style=\"text-align: right;\">\n",
       "      <th></th>\n",
       "      <th>País</th>\n",
       "      <th>Total_Casos</th>\n",
       "      <th>Fallecidos</th>\n",
       "      <th>Población</th>\n",
       "      <th>Tasa de mortalidad por millón de habitantes</th>\n",
       "      <th>Tasa de letalidad por cien habitantes</th>\n",
       "    </tr>\n",
       "  </thead>\n",
       "  <tbody>\n",
       "    <tr>\n",
       "      <th>0</th>\n",
       "      <td>Afganistán</td>\n",
       "      <td>0</td>\n",
       "      <td>0</td>\n",
       "      <td>38928000</td>\n",
       "      <td>0.0</td>\n",
       "      <td>NaN</td>\n",
       "    </tr>\n",
       "    <tr>\n",
       "      <th>157</th>\n",
       "      <td>Federación Rusa</td>\n",
       "      <td>0</td>\n",
       "      <td>0</td>\n",
       "      <td>145934000</td>\n",
       "      <td>0.0</td>\n",
       "      <td>NaN</td>\n",
       "    </tr>\n",
       "    <tr>\n",
       "      <th>133</th>\n",
       "      <td>Nauru</td>\n",
       "      <td>0</td>\n",
       "      <td>0</td>\n",
       "      <td>11000</td>\n",
       "      <td>0.0</td>\n",
       "      <td>NaN</td>\n",
       "    </tr>\n",
       "    <tr>\n",
       "      <th>134</th>\n",
       "      <td>Nepal</td>\n",
       "      <td>0</td>\n",
       "      <td>0</td>\n",
       "      <td>29137000</td>\n",
       "      <td>0.0</td>\n",
       "      <td>NaN</td>\n",
       "    </tr>\n",
       "    <tr>\n",
       "      <th>135</th>\n",
       "      <td>Países Bajos</td>\n",
       "      <td>0</td>\n",
       "      <td>0</td>\n",
       "      <td>17135000</td>\n",
       "      <td>0.0</td>\n",
       "      <td>NaN</td>\n",
       "    </tr>\n",
       "    <tr>\n",
       "      <th>136</th>\n",
       "      <td>Nueva Caledonia</td>\n",
       "      <td>0</td>\n",
       "      <td>0</td>\n",
       "      <td>285000</td>\n",
       "      <td>0.0</td>\n",
       "      <td>NaN</td>\n",
       "    </tr>\n",
       "    <tr>\n",
       "      <th>137</th>\n",
       "      <td>Nueva Zelanda</td>\n",
       "      <td>0</td>\n",
       "      <td>0</td>\n",
       "      <td>4822000</td>\n",
       "      <td>0.0</td>\n",
       "      <td>NaN</td>\n",
       "    </tr>\n",
       "    <tr>\n",
       "      <th>138</th>\n",
       "      <td>Nicaragua</td>\n",
       "      <td>0</td>\n",
       "      <td>0</td>\n",
       "      <td>6625000</td>\n",
       "      <td>0.0</td>\n",
       "      <td>NaN</td>\n",
       "    </tr>\n",
       "    <tr>\n",
       "      <th>139</th>\n",
       "      <td>Níger</td>\n",
       "      <td>0</td>\n",
       "      <td>0</td>\n",
       "      <td>24207000</td>\n",
       "      <td>0.0</td>\n",
       "      <td>NaN</td>\n",
       "    </tr>\n",
       "    <tr>\n",
       "      <th>140</th>\n",
       "      <td>Nigeria</td>\n",
       "      <td>0</td>\n",
       "      <td>0</td>\n",
       "      <td>206140000</td>\n",
       "      <td>0.0</td>\n",
       "      <td>NaN</td>\n",
       "    </tr>\n",
       "    <tr>\n",
       "      <th>141</th>\n",
       "      <td>Niue</td>\n",
       "      <td>0</td>\n",
       "      <td>0</td>\n",
       "      <td>2000</td>\n",
       "      <td>0.0</td>\n",
       "      <td>NaN</td>\n",
       "    </tr>\n",
       "    <tr>\n",
       "      <th>142</th>\n",
       "      <td>Noruega</td>\n",
       "      <td>0</td>\n",
       "      <td>0</td>\n",
       "      <td>5421000</td>\n",
       "      <td>0.0</td>\n",
       "      <td>NaN</td>\n",
       "    </tr>\n",
       "    <tr>\n",
       "      <th>143</th>\n",
       "      <td>Omán</td>\n",
       "      <td>0</td>\n",
       "      <td>0</td>\n",
       "      <td>5107000</td>\n",
       "      <td>0.0</td>\n",
       "      <td>NaN</td>\n",
       "    </tr>\n",
       "    <tr>\n",
       "      <th>144</th>\n",
       "      <td>Pakistán</td>\n",
       "      <td>0</td>\n",
       "      <td>0</td>\n",
       "      <td>220892000</td>\n",
       "      <td>0.0</td>\n",
       "      <td>NaN</td>\n",
       "    </tr>\n",
       "    <tr>\n",
       "      <th>145</th>\n",
       "      <td>Palau</td>\n",
       "      <td>0</td>\n",
       "      <td>0</td>\n",
       "      <td>18000</td>\n",
       "      <td>0.0</td>\n",
       "      <td>NaN</td>\n",
       "    </tr>\n",
       "    <tr>\n",
       "      <th>146</th>\n",
       "      <td>Panamá</td>\n",
       "      <td>0</td>\n",
       "      <td>0</td>\n",
       "      <td>4315000</td>\n",
       "      <td>0.0</td>\n",
       "      <td>NaN</td>\n",
       "    </tr>\n",
       "    <tr>\n",
       "      <th>147</th>\n",
       "      <td>Papúa Nueva Guinea</td>\n",
       "      <td>0</td>\n",
       "      <td>0</td>\n",
       "      <td>8947000</td>\n",
       "      <td>0.0</td>\n",
       "      <td>NaN</td>\n",
       "    </tr>\n",
       "    <tr>\n",
       "      <th>148</th>\n",
       "      <td>Paraguay</td>\n",
       "      <td>0</td>\n",
       "      <td>0</td>\n",
       "      <td>7133000</td>\n",
       "      <td>0.0</td>\n",
       "      <td>NaN</td>\n",
       "    </tr>\n",
       "    <tr>\n",
       "      <th>149</th>\n",
       "      <td>Perú</td>\n",
       "      <td>0</td>\n",
       "      <td>0</td>\n",
       "      <td>32972000</td>\n",
       "      <td>0.0</td>\n",
       "      <td>NaN</td>\n",
       "    </tr>\n",
       "    <tr>\n",
       "      <th>150</th>\n",
       "      <td>Filipinas</td>\n",
       "      <td>0</td>\n",
       "      <td>0</td>\n",
       "      <td>109581000</td>\n",
       "      <td>0.0</td>\n",
       "      <td>NaN</td>\n",
       "    </tr>\n",
       "    <tr>\n",
       "      <th>151</th>\n",
       "      <td>Polonia</td>\n",
       "      <td>0</td>\n",
       "      <td>0</td>\n",
       "      <td>37847000</td>\n",
       "      <td>0.0</td>\n",
       "      <td>NaN</td>\n",
       "    </tr>\n",
       "    <tr>\n",
       "      <th>152</th>\n",
       "      <td>Portugal</td>\n",
       "      <td>0</td>\n",
       "      <td>0</td>\n",
       "      <td>10197000</td>\n",
       "      <td>0.0</td>\n",
       "      <td>NaN</td>\n",
       "    </tr>\n",
       "    <tr>\n",
       "      <th>153</th>\n",
       "      <td>Puerto Rico</td>\n",
       "      <td>0</td>\n",
       "      <td>0</td>\n",
       "      <td>2861000</td>\n",
       "      <td>0.0</td>\n",
       "      <td>NaN</td>\n",
       "    </tr>\n",
       "    <tr>\n",
       "      <th>154</th>\n",
       "      <td>República de Corea</td>\n",
       "      <td>0</td>\n",
       "      <td>0</td>\n",
       "      <td>51269000</td>\n",
       "      <td>0.0</td>\n",
       "      <td>NaN</td>\n",
       "    </tr>\n",
       "    <tr>\n",
       "      <th>155</th>\n",
       "      <td>República de Moldova</td>\n",
       "      <td>0</td>\n",
       "      <td>0</td>\n",
       "      <td>4034000</td>\n",
       "      <td>0.0</td>\n",
       "      <td>NaN</td>\n",
       "    </tr>\n",
       "    <tr>\n",
       "      <th>132</th>\n",
       "      <td>Namibia</td>\n",
       "      <td>0</td>\n",
       "      <td>0</td>\n",
       "      <td>2541000</td>\n",
       "      <td>0.0</td>\n",
       "      <td>NaN</td>\n",
       "    </tr>\n",
       "    <tr>\n",
       "      <th>131</th>\n",
       "      <td>Myanmar</td>\n",
       "      <td>0</td>\n",
       "      <td>0</td>\n",
       "      <td>54410000</td>\n",
       "      <td>0.0</td>\n",
       "      <td>NaN</td>\n",
       "    </tr>\n",
       "    <tr>\n",
       "      <th>130</th>\n",
       "      <td>Mozambique</td>\n",
       "      <td>0</td>\n",
       "      <td>0</td>\n",
       "      <td>31255000</td>\n",
       "      <td>0.0</td>\n",
       "      <td>NaN</td>\n",
       "    </tr>\n",
       "    <tr>\n",
       "      <th>117</th>\n",
       "      <td>Maldivas</td>\n",
       "      <td>0</td>\n",
       "      <td>0</td>\n",
       "      <td>541000</td>\n",
       "      <td>0.0</td>\n",
       "      <td>NaN</td>\n",
       "    </tr>\n",
       "    <tr>\n",
       "      <th>107</th>\n",
       "      <td>Líbano</td>\n",
       "      <td>0</td>\n",
       "      <td>0</td>\n",
       "      <td>6825000</td>\n",
       "      <td>0.0</td>\n",
       "      <td>NaN</td>\n",
       "    </tr>\n",
       "    <tr>\n",
       "      <th>108</th>\n",
       "      <td>Lesoto</td>\n",
       "      <td>0</td>\n",
       "      <td>0</td>\n",
       "      <td>2142000</td>\n",
       "      <td>0.0</td>\n",
       "      <td>NaN</td>\n",
       "    </tr>\n",
       "    <tr>\n",
       "      <th>109</th>\n",
       "      <td>Liberia</td>\n",
       "      <td>0</td>\n",
       "      <td>0</td>\n",
       "      <td>5058000</td>\n",
       "      <td>0.0</td>\n",
       "      <td>NaN</td>\n",
       "    </tr>\n",
       "    <tr>\n",
       "      <th>110</th>\n",
       "      <td>Libia</td>\n",
       "      <td>0</td>\n",
       "      <td>0</td>\n",
       "      <td>6871000</td>\n",
       "      <td>0.0</td>\n",
       "      <td>NaN</td>\n",
       "    </tr>\n",
       "    <tr>\n",
       "      <th>111</th>\n",
       "      <td>Liechtenstein</td>\n",
       "      <td>0</td>\n",
       "      <td>0</td>\n",
       "      <td>38000</td>\n",
       "      <td>0.0</td>\n",
       "      <td>NaN</td>\n",
       "    </tr>\n",
       "    <tr>\n",
       "      <th>112</th>\n",
       "      <td>Lituania</td>\n",
       "      <td>0</td>\n",
       "      <td>0</td>\n",
       "      <td>2722000</td>\n",
       "      <td>0.0</td>\n",
       "      <td>NaN</td>\n",
       "    </tr>\n",
       "    <tr>\n",
       "      <th>113</th>\n",
       "      <td>Luxemburgo</td>\n",
       "      <td>0</td>\n",
       "      <td>0</td>\n",
       "      <td>626000</td>\n",
       "      <td>0.0</td>\n",
       "      <td>NaN</td>\n",
       "    </tr>\n",
       "    <tr>\n",
       "      <th>114</th>\n",
       "      <td>Madagascar</td>\n",
       "      <td>0</td>\n",
       "      <td>0</td>\n",
       "      <td>27691000</td>\n",
       "      <td>0.0</td>\n",
       "      <td>NaN</td>\n",
       "    </tr>\n",
       "    <tr>\n",
       "      <th>115</th>\n",
       "      <td>Malawi</td>\n",
       "      <td>0</td>\n",
       "      <td>0</td>\n",
       "      <td>19130000</td>\n",
       "      <td>0.0</td>\n",
       "      <td>NaN</td>\n",
       "    </tr>\n",
       "    <tr>\n",
       "      <th>116</th>\n",
       "      <td>Malasia</td>\n",
       "      <td>0</td>\n",
       "      <td>0</td>\n",
       "      <td>32366000</td>\n",
       "      <td>0.0</td>\n",
       "      <td>NaN</td>\n",
       "    </tr>\n",
       "    <tr>\n",
       "      <th>118</th>\n",
       "      <td>Mali</td>\n",
       "      <td>0</td>\n",
       "      <td>0</td>\n",
       "      <td>20251000</td>\n",
       "      <td>0.0</td>\n",
       "      <td>NaN</td>\n",
       "    </tr>\n",
       "    <tr>\n",
       "      <th>129</th>\n",
       "      <td>Marruecos</td>\n",
       "      <td>0</td>\n",
       "      <td>0</td>\n",
       "      <td>36911000</td>\n",
       "      <td>0.0</td>\n",
       "      <td>NaN</td>\n",
       "    </tr>\n",
       "    <tr>\n",
       "      <th>119</th>\n",
       "      <td>Malta</td>\n",
       "      <td>0</td>\n",
       "      <td>0</td>\n",
       "      <td>442000</td>\n",
       "      <td>0.0</td>\n",
       "      <td>NaN</td>\n",
       "    </tr>\n",
       "    <tr>\n",
       "      <th>120</th>\n",
       "      <td>Islas Marshall</td>\n",
       "      <td>0</td>\n",
       "      <td>0</td>\n",
       "      <td>59000</td>\n",
       "      <td>0.0</td>\n",
       "      <td>NaN</td>\n",
       "    </tr>\n",
       "    <tr>\n",
       "      <th>121</th>\n",
       "      <td>Martinica</td>\n",
       "      <td>0</td>\n",
       "      <td>0</td>\n",
       "      <td>375000</td>\n",
       "      <td>0.0</td>\n",
       "      <td>NaN</td>\n",
       "    </tr>\n",
       "    <tr>\n",
       "      <th>122</th>\n",
       "      <td>Mauritania</td>\n",
       "      <td>0</td>\n",
       "      <td>0</td>\n",
       "      <td>4650000</td>\n",
       "      <td>0.0</td>\n",
       "      <td>NaN</td>\n",
       "    </tr>\n",
       "    <tr>\n",
       "      <th>123</th>\n",
       "      <td>Mauricio</td>\n",
       "      <td>0</td>\n",
       "      <td>0</td>\n",
       "      <td>1272000</td>\n",
       "      <td>0.0</td>\n",
       "      <td>NaN</td>\n",
       "    </tr>\n",
       "    <tr>\n",
       "      <th>124</th>\n",
       "      <td>Mayotte</td>\n",
       "      <td>0</td>\n",
       "      <td>0</td>\n",
       "      <td>273000</td>\n",
       "      <td>0.0</td>\n",
       "      <td>NaN</td>\n",
       "    </tr>\n",
       "    <tr>\n",
       "      <th>125</th>\n",
       "      <td>Mónaco</td>\n",
       "      <td>0</td>\n",
       "      <td>0</td>\n",
       "      <td>39000</td>\n",
       "      <td>0.0</td>\n",
       "      <td>NaN</td>\n",
       "    </tr>\n",
       "    <tr>\n",
       "      <th>126</th>\n",
       "      <td>Mongolia</td>\n",
       "      <td>0</td>\n",
       "      <td>0</td>\n",
       "      <td>3278000</td>\n",
       "      <td>0.0</td>\n",
       "      <td>NaN</td>\n",
       "    </tr>\n",
       "    <tr>\n",
       "      <th>127</th>\n",
       "      <td>Montenegro</td>\n",
       "      <td>0</td>\n",
       "      <td>0</td>\n",
       "      <td>628000</td>\n",
       "      <td>0.0</td>\n",
       "      <td>NaN</td>\n",
       "    </tr>\n",
       "  </tbody>\n",
       "</table>\n",
       "</div>"
      ],
      "text/plain": [
       "                     País  Total_Casos  Fallecidos  Población  \\\n",
       "0              Afganistán            0           0   38928000   \n",
       "157       Federación Rusa            0           0  145934000   \n",
       "133                 Nauru            0           0      11000   \n",
       "134                 Nepal            0           0   29137000   \n",
       "135          Países Bajos            0           0   17135000   \n",
       "136       Nueva Caledonia            0           0     285000   \n",
       "137         Nueva Zelanda            0           0    4822000   \n",
       "138             Nicaragua            0           0    6625000   \n",
       "139                 Níger            0           0   24207000   \n",
       "140               Nigeria            0           0  206140000   \n",
       "141                  Niue            0           0       2000   \n",
       "142               Noruega            0           0    5421000   \n",
       "143                  Omán            0           0    5107000   \n",
       "144              Pakistán            0           0  220892000   \n",
       "145                 Palau            0           0      18000   \n",
       "146                Panamá            0           0    4315000   \n",
       "147    Papúa Nueva Guinea            0           0    8947000   \n",
       "148              Paraguay            0           0    7133000   \n",
       "149                  Perú            0           0   32972000   \n",
       "150             Filipinas            0           0  109581000   \n",
       "151               Polonia            0           0   37847000   \n",
       "152              Portugal            0           0   10197000   \n",
       "153           Puerto Rico            0           0    2861000   \n",
       "154    República de Corea            0           0   51269000   \n",
       "155  República de Moldova            0           0    4034000   \n",
       "132               Namibia            0           0    2541000   \n",
       "131               Myanmar            0           0   54410000   \n",
       "130            Mozambique            0           0   31255000   \n",
       "117              Maldivas            0           0     541000   \n",
       "107                Líbano            0           0    6825000   \n",
       "108                Lesoto            0           0    2142000   \n",
       "109               Liberia            0           0    5058000   \n",
       "110                 Libia            0           0    6871000   \n",
       "111         Liechtenstein            0           0      38000   \n",
       "112              Lituania            0           0    2722000   \n",
       "113            Luxemburgo            0           0     626000   \n",
       "114            Madagascar            0           0   27691000   \n",
       "115                Malawi            0           0   19130000   \n",
       "116               Malasia            0           0   32366000   \n",
       "118                  Mali            0           0   20251000   \n",
       "129             Marruecos            0           0   36911000   \n",
       "119                 Malta            0           0     442000   \n",
       "120        Islas Marshall            0           0      59000   \n",
       "121             Martinica            0           0     375000   \n",
       "122            Mauritania            0           0    4650000   \n",
       "123              Mauricio            0           0    1272000   \n",
       "124               Mayotte            0           0     273000   \n",
       "125                Mónaco            0           0      39000   \n",
       "126              Mongolia            0           0    3278000   \n",
       "127            Montenegro            0           0     628000   \n",
       "\n",
       "     Tasa de mortalidad por millón de habitantes  \\\n",
       "0                                            0.0   \n",
       "157                                          0.0   \n",
       "133                                          0.0   \n",
       "134                                          0.0   \n",
       "135                                          0.0   \n",
       "136                                          0.0   \n",
       "137                                          0.0   \n",
       "138                                          0.0   \n",
       "139                                          0.0   \n",
       "140                                          0.0   \n",
       "141                                          0.0   \n",
       "142                                          0.0   \n",
       "143                                          0.0   \n",
       "144                                          0.0   \n",
       "145                                          0.0   \n",
       "146                                          0.0   \n",
       "147                                          0.0   \n",
       "148                                          0.0   \n",
       "149                                          0.0   \n",
       "150                                          0.0   \n",
       "151                                          0.0   \n",
       "152                                          0.0   \n",
       "153                                          0.0   \n",
       "154                                          0.0   \n",
       "155                                          0.0   \n",
       "132                                          0.0   \n",
       "131                                          0.0   \n",
       "130                                          0.0   \n",
       "117                                          0.0   \n",
       "107                                          0.0   \n",
       "108                                          0.0   \n",
       "109                                          0.0   \n",
       "110                                          0.0   \n",
       "111                                          0.0   \n",
       "112                                          0.0   \n",
       "113                                          0.0   \n",
       "114                                          0.0   \n",
       "115                                          0.0   \n",
       "116                                          0.0   \n",
       "118                                          0.0   \n",
       "129                                          0.0   \n",
       "119                                          0.0   \n",
       "120                                          0.0   \n",
       "121                                          0.0   \n",
       "122                                          0.0   \n",
       "123                                          0.0   \n",
       "124                                          0.0   \n",
       "125                                          0.0   \n",
       "126                                          0.0   \n",
       "127                                          0.0   \n",
       "\n",
       "     Tasa de letalidad por cien habitantes  \n",
       "0                                      NaN  \n",
       "157                                    NaN  \n",
       "133                                    NaN  \n",
       "134                                    NaN  \n",
       "135                                    NaN  \n",
       "136                                    NaN  \n",
       "137                                    NaN  \n",
       "138                                    NaN  \n",
       "139                                    NaN  \n",
       "140                                    NaN  \n",
       "141                                    NaN  \n",
       "142                                    NaN  \n",
       "143                                    NaN  \n",
       "144                                    NaN  \n",
       "145                                    NaN  \n",
       "146                                    NaN  \n",
       "147                                    NaN  \n",
       "148                                    NaN  \n",
       "149                                    NaN  \n",
       "150                                    NaN  \n",
       "151                                    NaN  \n",
       "152                                    NaN  \n",
       "153                                    NaN  \n",
       "154                                    NaN  \n",
       "155                                    NaN  \n",
       "132                                    NaN  \n",
       "131                                    NaN  \n",
       "130                                    NaN  \n",
       "117                                    NaN  \n",
       "107                                    NaN  \n",
       "108                                    NaN  \n",
       "109                                    NaN  \n",
       "110                                    NaN  \n",
       "111                                    NaN  \n",
       "112                                    NaN  \n",
       "113                                    NaN  \n",
       "114                                    NaN  \n",
       "115                                    NaN  \n",
       "116                                    NaN  \n",
       "118                                    NaN  \n",
       "129                                    NaN  \n",
       "119                                    NaN  \n",
       "120                                    NaN  \n",
       "121                                    NaN  \n",
       "122                                    NaN  \n",
       "123                                    NaN  \n",
       "124                                    NaN  \n",
       "125                                    NaN  \n",
       "126                                    NaN  \n",
       "127                                    NaN  "
      ]
     },
     "execution_count": 51,
     "metadata": {},
     "output_type": "execute_result"
    }
   ],
   "source": [
    "tasasMundiales.sort_values('Tasa de mortalidad por millón de habitantes', ascending=False).round(2).head(50)"
   ]
  },
  {
   "cell_type": "markdown",
   "metadata": {},
   "source": [
    "# Personas fallecidas en el mundo por CoV-2  (pendiente ajustes)"
   ]
  },
  {
   "cell_type": "code",
   "execution_count": 52,
   "metadata": {},
   "outputs": [
    {
     "data": {
      "text/plain": [
       "0"
      ]
     },
     "execution_count": 52,
     "metadata": {},
     "output_type": "execute_result"
    }
   ],
   "source": [
    "tasasMundiales['Fallecidos'].sum()"
   ]
  },
  {
   "cell_type": "code",
   "execution_count": 53,
   "metadata": {},
   "outputs": [
    {
     "data": {
      "text/html": [
       "<div>\n",
       "<style scoped>\n",
       "    .dataframe tbody tr th:only-of-type {\n",
       "        vertical-align: middle;\n",
       "    }\n",
       "\n",
       "    .dataframe tbody tr th {\n",
       "        vertical-align: top;\n",
       "    }\n",
       "\n",
       "    .dataframe thead th {\n",
       "        text-align: right;\n",
       "    }\n",
       "</style>\n",
       "<table border=\"1\" class=\"dataframe\">\n",
       "  <thead>\n",
       "    <tr style=\"text-align: right;\">\n",
       "      <th></th>\n",
       "      <th>Fecha de notificación</th>\n",
       "      <th>Ciudad de ubicación</th>\n",
       "      <th>Departamento o Distrito</th>\n",
       "      <th>atención</th>\n",
       "      <th>Edad</th>\n",
       "      <th>Sexo</th>\n",
       "      <th>Tipo</th>\n",
       "      <th>Estado</th>\n",
       "      <th>País de procedencia</th>\n",
       "      <th>Fecha de muerte</th>\n",
       "      <th>Fecha diagnostico</th>\n",
       "      <th>Fecha recuperado</th>\n",
       "      <th>Tipo recuperación</th>\n",
       "    </tr>\n",
       "  </thead>\n",
       "  <tbody>\n",
       "    <tr>\n",
       "      <th>0</th>\n",
       "      <td>2020-03-02T00:00:00.000</td>\n",
       "      <td>Bogotá D.C.</td>\n",
       "      <td>Bogotá D.C.</td>\n",
       "      <td>Recuperado</td>\n",
       "      <td>19</td>\n",
       "      <td>F</td>\n",
       "      <td>Importado</td>\n",
       "      <td>Leve</td>\n",
       "      <td>ITALIA</td>\n",
       "      <td>NaN</td>\n",
       "      <td>2020-03-06T00:00:00.000</td>\n",
       "      <td>2020-03-13T00:00:00.000</td>\n",
       "      <td>PCR</td>\n",
       "    </tr>\n",
       "    <tr>\n",
       "      <th>1</th>\n",
       "      <td>2020-03-06T00:00:00.000</td>\n",
       "      <td>Guadalajara de Buga</td>\n",
       "      <td>Valle del Cauca</td>\n",
       "      <td>Recuperado</td>\n",
       "      <td>34</td>\n",
       "      <td>M</td>\n",
       "      <td>Importado</td>\n",
       "      <td>Leve</td>\n",
       "      <td>ESPAÑA</td>\n",
       "      <td>NaN</td>\n",
       "      <td>2020-03-09T00:00:00.000</td>\n",
       "      <td>2020-03-19T00:00:00.000</td>\n",
       "      <td>PCR</td>\n",
       "    </tr>\n",
       "    <tr>\n",
       "      <th>2</th>\n",
       "      <td>2020-03-07T00:00:00.000</td>\n",
       "      <td>Medellín</td>\n",
       "      <td>Antioquia</td>\n",
       "      <td>Recuperado</td>\n",
       "      <td>50</td>\n",
       "      <td>F</td>\n",
       "      <td>Importado</td>\n",
       "      <td>Leve</td>\n",
       "      <td>ESPAÑA</td>\n",
       "      <td>NaN</td>\n",
       "      <td>2020-03-09T00:00:00.000</td>\n",
       "      <td>2020-03-15T00:00:00.000</td>\n",
       "      <td>PCR</td>\n",
       "    </tr>\n",
       "    <tr>\n",
       "      <th>3</th>\n",
       "      <td>2020-03-09T00:00:00.000</td>\n",
       "      <td>Medellín</td>\n",
       "      <td>Antioquia</td>\n",
       "      <td>Recuperado</td>\n",
       "      <td>55</td>\n",
       "      <td>M</td>\n",
       "      <td>Relacionado</td>\n",
       "      <td>Leve</td>\n",
       "      <td>NaN</td>\n",
       "      <td>NaN</td>\n",
       "      <td>2020-03-11T00:00:00.000</td>\n",
       "      <td>2020-03-26T00:00:00.000</td>\n",
       "      <td>PCR</td>\n",
       "    </tr>\n",
       "    <tr>\n",
       "      <th>4</th>\n",
       "      <td>2020-03-09T00:00:00.000</td>\n",
       "      <td>Medellín</td>\n",
       "      <td>Antioquia</td>\n",
       "      <td>Recuperado</td>\n",
       "      <td>25</td>\n",
       "      <td>M</td>\n",
       "      <td>Relacionado</td>\n",
       "      <td>Leve</td>\n",
       "      <td>NaN</td>\n",
       "      <td>NaN</td>\n",
       "      <td>2020-03-11T00:00:00.000</td>\n",
       "      <td>2020-03-23T00:00:00.000</td>\n",
       "      <td>PCR</td>\n",
       "    </tr>\n",
       "    <tr>\n",
       "      <th>...</th>\n",
       "      <td>...</td>\n",
       "      <td>...</td>\n",
       "      <td>...</td>\n",
       "      <td>...</td>\n",
       "      <td>...</td>\n",
       "      <td>...</td>\n",
       "      <td>...</td>\n",
       "      <td>...</td>\n",
       "      <td>...</td>\n",
       "      <td>...</td>\n",
       "      <td>...</td>\n",
       "      <td>...</td>\n",
       "      <td>...</td>\n",
       "    </tr>\n",
       "    <tr>\n",
       "      <th>1041930</th>\n",
       "      <td>2020-10-16T00:00:00.000</td>\n",
       "      <td>Bogotá D.C.</td>\n",
       "      <td>Bogotá D.C.</td>\n",
       "      <td>Casa</td>\n",
       "      <td>22</td>\n",
       "      <td>F</td>\n",
       "      <td>En estudio</td>\n",
       "      <td>Leve</td>\n",
       "      <td>NaN</td>\n",
       "      <td>NaN</td>\n",
       "      <td>2020-10-27T00:00:00.000</td>\n",
       "      <td>NaN</td>\n",
       "      <td>NaN</td>\n",
       "    </tr>\n",
       "    <tr>\n",
       "      <th>1041931</th>\n",
       "      <td>2020-10-15T00:00:00.000</td>\n",
       "      <td>Bogotá D.C.</td>\n",
       "      <td>Bogotá D.C.</td>\n",
       "      <td>Hospital</td>\n",
       "      <td>83</td>\n",
       "      <td>F</td>\n",
       "      <td>En estudio</td>\n",
       "      <td>Moderado</td>\n",
       "      <td>NaN</td>\n",
       "      <td>NaN</td>\n",
       "      <td>2020-10-26T00:00:00.000</td>\n",
       "      <td>NaN</td>\n",
       "      <td>NaN</td>\n",
       "    </tr>\n",
       "    <tr>\n",
       "      <th>1041932</th>\n",
       "      <td>2020-10-16T00:00:00.000</td>\n",
       "      <td>Bogotá D.C.</td>\n",
       "      <td>Bogotá D.C.</td>\n",
       "      <td>Casa</td>\n",
       "      <td>30</td>\n",
       "      <td>F</td>\n",
       "      <td>En estudio</td>\n",
       "      <td>Leve</td>\n",
       "      <td>NaN</td>\n",
       "      <td>NaN</td>\n",
       "      <td>2020-10-27T00:00:00.000</td>\n",
       "      <td>NaN</td>\n",
       "      <td>NaN</td>\n",
       "    </tr>\n",
       "    <tr>\n",
       "      <th>1041933</th>\n",
       "      <td>2020-10-16T00:00:00.000</td>\n",
       "      <td>Bogotá D.C.</td>\n",
       "      <td>Bogotá D.C.</td>\n",
       "      <td>Casa</td>\n",
       "      <td>29</td>\n",
       "      <td>F</td>\n",
       "      <td>En estudio</td>\n",
       "      <td>Leve</td>\n",
       "      <td>NaN</td>\n",
       "      <td>NaN</td>\n",
       "      <td>2020-10-27T00:00:00.000</td>\n",
       "      <td>NaN</td>\n",
       "      <td>NaN</td>\n",
       "    </tr>\n",
       "    <tr>\n",
       "      <th>1041934</th>\n",
       "      <td>2020-10-16T00:00:00.000</td>\n",
       "      <td>Bogotá D.C.</td>\n",
       "      <td>Bogotá D.C.</td>\n",
       "      <td>Hospital</td>\n",
       "      <td>55</td>\n",
       "      <td>F</td>\n",
       "      <td>En estudio</td>\n",
       "      <td>Moderado</td>\n",
       "      <td>NaN</td>\n",
       "      <td>NaN</td>\n",
       "      <td>2020-10-27T00:00:00.000</td>\n",
       "      <td>NaN</td>\n",
       "      <td>NaN</td>\n",
       "    </tr>\n",
       "  </tbody>\n",
       "</table>\n",
       "<p>1041935 rows × 13 columns</p>\n",
       "</div>"
      ],
      "text/plain": [
       "           Fecha de notificación  Ciudad de ubicación  \\\n",
       "0        2020-03-02T00:00:00.000          Bogotá D.C.   \n",
       "1        2020-03-06T00:00:00.000  Guadalajara de Buga   \n",
       "2        2020-03-07T00:00:00.000             Medellín   \n",
       "3        2020-03-09T00:00:00.000             Medellín   \n",
       "4        2020-03-09T00:00:00.000             Medellín   \n",
       "...                          ...                  ...   \n",
       "1041930  2020-10-16T00:00:00.000          Bogotá D.C.   \n",
       "1041931  2020-10-15T00:00:00.000          Bogotá D.C.   \n",
       "1041932  2020-10-16T00:00:00.000          Bogotá D.C.   \n",
       "1041933  2020-10-16T00:00:00.000          Bogotá D.C.   \n",
       "1041934  2020-10-16T00:00:00.000          Bogotá D.C.   \n",
       "\n",
       "        Departamento o Distrito     atención Edad Sexo         Tipo    Estado  \\\n",
       "0                    Bogotá D.C.  Recuperado   19    F    Importado      Leve   \n",
       "1                Valle del Cauca  Recuperado   34    M    Importado      Leve   \n",
       "2                      Antioquia  Recuperado   50    F    Importado      Leve   \n",
       "3                      Antioquia  Recuperado   55    M  Relacionado      Leve   \n",
       "4                      Antioquia  Recuperado   25    M  Relacionado      Leve   \n",
       "...                          ...         ...  ...  ...          ...       ...   \n",
       "1041930              Bogotá D.C.        Casa   22    F   En estudio      Leve   \n",
       "1041931              Bogotá D.C.    Hospital   83    F   En estudio  Moderado   \n",
       "1041932              Bogotá D.C.        Casa   30    F   En estudio      Leve   \n",
       "1041933              Bogotá D.C.        Casa   29    F   En estudio      Leve   \n",
       "1041934              Bogotá D.C.    Hospital   55    F   En estudio  Moderado   \n",
       "\n",
       "        País de procedencia Fecha de muerte        Fecha diagnostico  \\\n",
       "0                    ITALIA             NaN  2020-03-06T00:00:00.000   \n",
       "1                    ESPAÑA             NaN  2020-03-09T00:00:00.000   \n",
       "2                    ESPAÑA             NaN  2020-03-09T00:00:00.000   \n",
       "3                       NaN             NaN  2020-03-11T00:00:00.000   \n",
       "4                       NaN             NaN  2020-03-11T00:00:00.000   \n",
       "...                     ...             ...                      ...   \n",
       "1041930                 NaN             NaN  2020-10-27T00:00:00.000   \n",
       "1041931                 NaN             NaN  2020-10-26T00:00:00.000   \n",
       "1041932                 NaN             NaN  2020-10-27T00:00:00.000   \n",
       "1041933                 NaN             NaN  2020-10-27T00:00:00.000   \n",
       "1041934                 NaN             NaN  2020-10-27T00:00:00.000   \n",
       "\n",
       "                Fecha recuperado Tipo recuperación  \n",
       "0        2020-03-13T00:00:00.000               PCR  \n",
       "1        2020-03-19T00:00:00.000               PCR  \n",
       "2        2020-03-15T00:00:00.000               PCR  \n",
       "3        2020-03-26T00:00:00.000               PCR  \n",
       "4        2020-03-23T00:00:00.000               PCR  \n",
       "...                          ...               ...  \n",
       "1041930                      NaN               NaN  \n",
       "1041931                      NaN               NaN  \n",
       "1041932                      NaN               NaN  \n",
       "1041933                      NaN               NaN  \n",
       "1041934                      NaN               NaN  \n",
       "\n",
       "[1041935 rows x 13 columns]"
      ]
     },
     "execution_count": 53,
     "metadata": {},
     "output_type": "execute_result"
    }
   ],
   "source": [
    "col\n"
   ]
  },
  {
   "cell_type": "code",
   "execution_count": 54,
   "metadata": {},
   "outputs": [
    {
     "data": {
      "text/html": [
       "<div>\n",
       "<style scoped>\n",
       "    .dataframe tbody tr th:only-of-type {\n",
       "        vertical-align: middle;\n",
       "    }\n",
       "\n",
       "    .dataframe tbody tr th {\n",
       "        vertical-align: top;\n",
       "    }\n",
       "\n",
       "    .dataframe thead th {\n",
       "        text-align: right;\n",
       "    }\n",
       "</style>\n",
       "<table border=\"1\" class=\"dataframe\">\n",
       "  <thead>\n",
       "    <tr style=\"text-align: right;\">\n",
       "      <th></th>\n",
       "      <th>Fecha de notificación</th>\n",
       "      <th>Ciudad de ubicación</th>\n",
       "      <th>Departamento o Distrito</th>\n",
       "      <th>atención</th>\n",
       "      <th>Edad</th>\n",
       "      <th>Sexo</th>\n",
       "      <th>Tipo</th>\n",
       "      <th>Estado</th>\n",
       "      <th>País de procedencia</th>\n",
       "      <th>Fecha de muerte</th>\n",
       "      <th>Fecha diagnostico</th>\n",
       "      <th>Fecha recuperado</th>\n",
       "      <th>Tipo recuperación</th>\n",
       "    </tr>\n",
       "  </thead>\n",
       "  <tbody>\n",
       "    <tr>\n",
       "      <th>30</th>\n",
       "      <td>2020-03-12T00:00:00.000</td>\n",
       "      <td>Manizales</td>\n",
       "      <td>Caldas</td>\n",
       "      <td>Recuperado</td>\n",
       "      <td>65</td>\n",
       "      <td>M</td>\n",
       "      <td>Importado</td>\n",
       "      <td>Leve</td>\n",
       "      <td>ESTADOS UNIDOS</td>\n",
       "      <td>NaN</td>\n",
       "      <td>2020-03-13T00:00:00.000</td>\n",
       "      <td>2020-03-26T00:00:00.000</td>\n",
       "      <td>PCR</td>\n",
       "    </tr>\n",
       "    <tr>\n",
       "      <th>122</th>\n",
       "      <td>2020-03-17T00:00:00.000</td>\n",
       "      <td>Viterbo</td>\n",
       "      <td>Caldas</td>\n",
       "      <td>Recuperado</td>\n",
       "      <td>38</td>\n",
       "      <td>F</td>\n",
       "      <td>Importado</td>\n",
       "      <td>Leve</td>\n",
       "      <td>ESPAÑA</td>\n",
       "      <td>NaN</td>\n",
       "      <td>2020-03-19T00:00:00.000</td>\n",
       "      <td>2020-03-31T00:00:00.000</td>\n",
       "      <td>PCR</td>\n",
       "    </tr>\n",
       "    <tr>\n",
       "      <th>180</th>\n",
       "      <td>2020-03-18T00:00:00.000</td>\n",
       "      <td>Manizales</td>\n",
       "      <td>Caldas</td>\n",
       "      <td>Recuperado</td>\n",
       "      <td>22</td>\n",
       "      <td>F</td>\n",
       "      <td>Importado</td>\n",
       "      <td>Leve</td>\n",
       "      <td>ESTADOS UNIDOS</td>\n",
       "      <td>NaN</td>\n",
       "      <td>2020-03-21T00:00:00.000</td>\n",
       "      <td>2020-04-01T00:00:00.000</td>\n",
       "      <td>PCR</td>\n",
       "    </tr>\n",
       "    <tr>\n",
       "      <th>217</th>\n",
       "      <td>2020-03-19T00:00:00.000</td>\n",
       "      <td>La Dorada</td>\n",
       "      <td>Caldas</td>\n",
       "      <td>Recuperado</td>\n",
       "      <td>24</td>\n",
       "      <td>F</td>\n",
       "      <td>Relacionado</td>\n",
       "      <td>Leve</td>\n",
       "      <td>NaN</td>\n",
       "      <td>NaN</td>\n",
       "      <td>2020-03-22T00:00:00.000</td>\n",
       "      <td>2020-03-31T00:00:00.000</td>\n",
       "      <td>PCR</td>\n",
       "    </tr>\n",
       "    <tr>\n",
       "      <th>218</th>\n",
       "      <td>2020-03-19T00:00:00.000</td>\n",
       "      <td>Chinchiná</td>\n",
       "      <td>Caldas</td>\n",
       "      <td>Recuperado</td>\n",
       "      <td>51</td>\n",
       "      <td>M</td>\n",
       "      <td>Importado</td>\n",
       "      <td>Leve</td>\n",
       "      <td>ESPAÑA</td>\n",
       "      <td>NaN</td>\n",
       "      <td>2020-03-22T00:00:00.000</td>\n",
       "      <td>2020-03-28T00:00:00.000</td>\n",
       "      <td>PCR</td>\n",
       "    </tr>\n",
       "    <tr>\n",
       "      <th>...</th>\n",
       "      <td>...</td>\n",
       "      <td>...</td>\n",
       "      <td>...</td>\n",
       "      <td>...</td>\n",
       "      <td>...</td>\n",
       "      <td>...</td>\n",
       "      <td>...</td>\n",
       "      <td>...</td>\n",
       "      <td>...</td>\n",
       "      <td>...</td>\n",
       "      <td>...</td>\n",
       "      <td>...</td>\n",
       "      <td>...</td>\n",
       "    </tr>\n",
       "    <tr>\n",
       "      <th>1040005</th>\n",
       "      <td>2020-10-16T00:00:00.000</td>\n",
       "      <td>Chinchiná</td>\n",
       "      <td>Caldas</td>\n",
       "      <td>Casa</td>\n",
       "      <td>26</td>\n",
       "      <td>M</td>\n",
       "      <td>En estudio</td>\n",
       "      <td>Leve</td>\n",
       "      <td>NaN</td>\n",
       "      <td>NaN</td>\n",
       "      <td>2020-10-27T00:00:00.000</td>\n",
       "      <td>NaN</td>\n",
       "      <td>NaN</td>\n",
       "    </tr>\n",
       "    <tr>\n",
       "      <th>1040020</th>\n",
       "      <td>2020-10-16T00:00:00.000</td>\n",
       "      <td>Villamaría</td>\n",
       "      <td>Caldas</td>\n",
       "      <td>Casa</td>\n",
       "      <td>50</td>\n",
       "      <td>F</td>\n",
       "      <td>En estudio</td>\n",
       "      <td>Leve</td>\n",
       "      <td>NaN</td>\n",
       "      <td>NaN</td>\n",
       "      <td>2020-10-27T00:00:00.000</td>\n",
       "      <td>NaN</td>\n",
       "      <td>NaN</td>\n",
       "    </tr>\n",
       "    <tr>\n",
       "      <th>1040039</th>\n",
       "      <td>2020-10-16T00:00:00.000</td>\n",
       "      <td>Manizales</td>\n",
       "      <td>Caldas</td>\n",
       "      <td>Casa</td>\n",
       "      <td>27</td>\n",
       "      <td>F</td>\n",
       "      <td>En estudio</td>\n",
       "      <td>Leve</td>\n",
       "      <td>NaN</td>\n",
       "      <td>NaN</td>\n",
       "      <td>2020-10-27T00:00:00.000</td>\n",
       "      <td>NaN</td>\n",
       "      <td>NaN</td>\n",
       "    </tr>\n",
       "    <tr>\n",
       "      <th>1040060</th>\n",
       "      <td>2020-10-15T00:00:00.000</td>\n",
       "      <td>Manizales</td>\n",
       "      <td>Caldas</td>\n",
       "      <td>Casa</td>\n",
       "      <td>38</td>\n",
       "      <td>F</td>\n",
       "      <td>En estudio</td>\n",
       "      <td>Leve</td>\n",
       "      <td>NaN</td>\n",
       "      <td>NaN</td>\n",
       "      <td>2020-10-26T00:00:00.000</td>\n",
       "      <td>NaN</td>\n",
       "      <td>NaN</td>\n",
       "    </tr>\n",
       "    <tr>\n",
       "      <th>1040161</th>\n",
       "      <td>2020-10-16T00:00:00.000</td>\n",
       "      <td>Manizales</td>\n",
       "      <td>Caldas</td>\n",
       "      <td>Casa</td>\n",
       "      <td>31</td>\n",
       "      <td>F</td>\n",
       "      <td>En estudio</td>\n",
       "      <td>Leve</td>\n",
       "      <td>NaN</td>\n",
       "      <td>NaN</td>\n",
       "      <td>2020-10-27T00:00:00.000</td>\n",
       "      <td>NaN</td>\n",
       "      <td>NaN</td>\n",
       "    </tr>\n",
       "  </tbody>\n",
       "</table>\n",
       "<p>12513 rows × 13 columns</p>\n",
       "</div>"
      ],
      "text/plain": [
       "           Fecha de notificación Ciudad de ubicación Departamento o Distrito   \\\n",
       "30       2020-03-12T00:00:00.000           Manizales                   Caldas   \n",
       "122      2020-03-17T00:00:00.000             Viterbo                   Caldas   \n",
       "180      2020-03-18T00:00:00.000           Manizales                   Caldas   \n",
       "217      2020-03-19T00:00:00.000           La Dorada                   Caldas   \n",
       "218      2020-03-19T00:00:00.000           Chinchiná                   Caldas   \n",
       "...                          ...                 ...                      ...   \n",
       "1040005  2020-10-16T00:00:00.000           Chinchiná                   Caldas   \n",
       "1040020  2020-10-16T00:00:00.000          Villamaría                   Caldas   \n",
       "1040039  2020-10-16T00:00:00.000           Manizales                   Caldas   \n",
       "1040060  2020-10-15T00:00:00.000           Manizales                   Caldas   \n",
       "1040161  2020-10-16T00:00:00.000           Manizales                   Caldas   \n",
       "\n",
       "           atención Edad Sexo         Tipo Estado País de procedencia  \\\n",
       "30       Recuperado   65    M    Importado   Leve      ESTADOS UNIDOS   \n",
       "122      Recuperado   38    F    Importado   Leve              ESPAÑA   \n",
       "180      Recuperado   22    F    Importado   Leve      ESTADOS UNIDOS   \n",
       "217      Recuperado   24    F  Relacionado   Leve                 NaN   \n",
       "218      Recuperado   51    M    Importado   Leve              ESPAÑA   \n",
       "...             ...  ...  ...          ...    ...                 ...   \n",
       "1040005        Casa   26    M   En estudio   Leve                 NaN   \n",
       "1040020        Casa   50    F   En estudio   Leve                 NaN   \n",
       "1040039        Casa   27    F   En estudio   Leve                 NaN   \n",
       "1040060        Casa   38    F   En estudio   Leve                 NaN   \n",
       "1040161        Casa   31    F   En estudio   Leve                 NaN   \n",
       "\n",
       "        Fecha de muerte        Fecha diagnostico         Fecha recuperado  \\\n",
       "30                  NaN  2020-03-13T00:00:00.000  2020-03-26T00:00:00.000   \n",
       "122                 NaN  2020-03-19T00:00:00.000  2020-03-31T00:00:00.000   \n",
       "180                 NaN  2020-03-21T00:00:00.000  2020-04-01T00:00:00.000   \n",
       "217                 NaN  2020-03-22T00:00:00.000  2020-03-31T00:00:00.000   \n",
       "218                 NaN  2020-03-22T00:00:00.000  2020-03-28T00:00:00.000   \n",
       "...                 ...                      ...                      ...   \n",
       "1040005             NaN  2020-10-27T00:00:00.000                      NaN   \n",
       "1040020             NaN  2020-10-27T00:00:00.000                      NaN   \n",
       "1040039             NaN  2020-10-27T00:00:00.000                      NaN   \n",
       "1040060             NaN  2020-10-26T00:00:00.000                      NaN   \n",
       "1040161             NaN  2020-10-27T00:00:00.000                      NaN   \n",
       "\n",
       "        Tipo recuperación  \n",
       "30                    PCR  \n",
       "122                   PCR  \n",
       "180                   PCR  \n",
       "217                   PCR  \n",
       "218                   PCR  \n",
       "...                   ...  \n",
       "1040005               NaN  \n",
       "1040020               NaN  \n",
       "1040039               NaN  \n",
       "1040060               NaN  \n",
       "1040161               NaN  \n",
       "\n",
       "[12513 rows x 13 columns]"
      ]
     },
     "execution_count": 54,
     "metadata": {},
     "output_type": "execute_result"
    }
   ],
   "source": [
    "porDpto=col.loc[col['Departamento o Distrito ']==localidad,:]\n",
    "porDpto"
   ]
  },
  {
   "cell_type": "code",
   "execution_count": 55,
   "metadata": {},
   "outputs": [],
   "source": [
    "CasosporEdad= porDpto.groupby('Edad').count().drop(columns=['Ciudad de ubicación', 'Departamento o Distrito ', 'atención','Sexo','Tipo','Estado','País de procedencia','Fecha de muerte','Fecha diagnostico','Fecha recuperado','Tipo recuperación'])\n",
    "CasosporEdad.rename(columns={'Fecha de notificación':'Número de casos'}, inplace=True)"
   ]
  },
  {
   "cell_type": "code",
   "execution_count": 56,
   "metadata": {},
   "outputs": [],
   "source": [
    "fallecidosporEdad= porDpto.groupby('Edad').count().drop(columns=['Fecha de notificación','Ciudad de ubicación', 'Departamento o Distrito ', 'atención','Sexo','Tipo','Estado','País de procedencia','Fecha diagnostico','Fecha recuperado','Tipo recuperación'])\n",
    "fallecidosporEdad.rename(columns={'Fecha de muerte':'Número de fallecidos'}, inplace=True)"
   ]
  },
  {
   "cell_type": "code",
   "execution_count": 57,
   "metadata": {},
   "outputs": [
    {
     "data": {
      "text/html": [
       "<div>\n",
       "<style scoped>\n",
       "    .dataframe tbody tr th:only-of-type {\n",
       "        vertical-align: middle;\n",
       "    }\n",
       "\n",
       "    .dataframe tbody tr th {\n",
       "        vertical-align: top;\n",
       "    }\n",
       "\n",
       "    .dataframe thead th {\n",
       "        text-align: right;\n",
       "    }\n",
       "</style>\n",
       "<table border=\"1\" class=\"dataframe\">\n",
       "  <thead>\n",
       "    <tr style=\"text-align: right;\">\n",
       "      <th>Edad</th>\n",
       "      <th>0</th>\n",
       "      <th>1</th>\n",
       "      <th>2</th>\n",
       "      <th>3</th>\n",
       "      <th>4</th>\n",
       "      <th>5</th>\n",
       "      <th>6</th>\n",
       "      <th>7</th>\n",
       "      <th>8</th>\n",
       "      <th>9</th>\n",
       "      <th>...</th>\n",
       "      <th>106</th>\n",
       "      <th>107</th>\n",
       "      <th>108</th>\n",
       "      <th>109</th>\n",
       "      <th>110</th>\n",
       "      <th>111</th>\n",
       "      <th>112</th>\n",
       "      <th>113</th>\n",
       "      <th>115</th>\n",
       "      <th>123</th>\n",
       "    </tr>\n",
       "  </thead>\n",
       "  <tbody>\n",
       "    <tr>\n",
       "      <th>Número de casos</th>\n",
       "      <td>39</td>\n",
       "      <td>43</td>\n",
       "      <td>27</td>\n",
       "      <td>29</td>\n",
       "      <td>29</td>\n",
       "      <td>33</td>\n",
       "      <td>32</td>\n",
       "      <td>30</td>\n",
       "      <td>41</td>\n",
       "      <td>38</td>\n",
       "      <td>...</td>\n",
       "      <td>0</td>\n",
       "      <td>0</td>\n",
       "      <td>0</td>\n",
       "      <td>0</td>\n",
       "      <td>0</td>\n",
       "      <td>0</td>\n",
       "      <td>0</td>\n",
       "      <td>0</td>\n",
       "      <td>0</td>\n",
       "      <td>1</td>\n",
       "    </tr>\n",
       "  </tbody>\n",
       "</table>\n",
       "<p>1 rows × 116 columns</p>\n",
       "</div>"
      ],
      "text/plain": [
       "Edad             0    1    2    3    4    5    6    7    8    9    ...  106  \\\n",
       "Número de casos   39   43   27   29   29   33   32   30   41   38  ...    0   \n",
       "\n",
       "Edad             107  108  109  110  111  112  113  115  123  \n",
       "Número de casos    0    0    0    0    0    0    0    0    1  \n",
       "\n",
       "[1 rows x 116 columns]"
      ]
     },
     "execution_count": 57,
     "metadata": {},
     "output_type": "execute_result"
    }
   ],
   "source": [
    "CasosporEdad=CasosporEdad.transpose()\n",
    "CasosporEdad"
   ]
  },
  {
   "cell_type": "code",
   "execution_count": 58,
   "metadata": {},
   "outputs": [
    {
     "data": {
      "text/html": [
       "<div>\n",
       "<style scoped>\n",
       "    .dataframe tbody tr th:only-of-type {\n",
       "        vertical-align: middle;\n",
       "    }\n",
       "\n",
       "    .dataframe tbody tr th {\n",
       "        vertical-align: top;\n",
       "    }\n",
       "\n",
       "    .dataframe thead th {\n",
       "        text-align: right;\n",
       "    }\n",
       "</style>\n",
       "<table border=\"1\" class=\"dataframe\">\n",
       "  <thead>\n",
       "    <tr style=\"text-align: right;\">\n",
       "      <th>Edad</th>\n",
       "      <th>0</th>\n",
       "      <th>1</th>\n",
       "      <th>2</th>\n",
       "      <th>3</th>\n",
       "      <th>4</th>\n",
       "      <th>5</th>\n",
       "      <th>6</th>\n",
       "      <th>7</th>\n",
       "      <th>8</th>\n",
       "      <th>9</th>\n",
       "      <th>...</th>\n",
       "      <th>106</th>\n",
       "      <th>107</th>\n",
       "      <th>108</th>\n",
       "      <th>109</th>\n",
       "      <th>110</th>\n",
       "      <th>111</th>\n",
       "      <th>112</th>\n",
       "      <th>113</th>\n",
       "      <th>115</th>\n",
       "      <th>123</th>\n",
       "    </tr>\n",
       "  </thead>\n",
       "  <tbody>\n",
       "    <tr>\n",
       "      <th>Número de fallecidos</th>\n",
       "      <td>1</td>\n",
       "      <td>0</td>\n",
       "      <td>0</td>\n",
       "      <td>0</td>\n",
       "      <td>0</td>\n",
       "      <td>0</td>\n",
       "      <td>1</td>\n",
       "      <td>0</td>\n",
       "      <td>0</td>\n",
       "      <td>0</td>\n",
       "      <td>...</td>\n",
       "      <td>0</td>\n",
       "      <td>0</td>\n",
       "      <td>0</td>\n",
       "      <td>0</td>\n",
       "      <td>0</td>\n",
       "      <td>0</td>\n",
       "      <td>0</td>\n",
       "      <td>0</td>\n",
       "      <td>0</td>\n",
       "      <td>0</td>\n",
       "    </tr>\n",
       "  </tbody>\n",
       "</table>\n",
       "<p>1 rows × 116 columns</p>\n",
       "</div>"
      ],
      "text/plain": [
       "Edad                  0    1    2    3    4    5    6    7    8    9    ...  \\\n",
       "Número de fallecidos    1    0    0    0    0    0    1    0    0    0  ...   \n",
       "\n",
       "Edad                  106  107  108  109  110  111  112  113  115  123  \n",
       "Número de fallecidos    0    0    0    0    0    0    0    0    0    0  \n",
       "\n",
       "[1 rows x 116 columns]"
      ]
     },
     "execution_count": 58,
     "metadata": {},
     "output_type": "execute_result"
    }
   ],
   "source": [
    "fallecidosporEdad=fallecidosporEdad.transpose()\n",
    "fallecidosporEdad"
   ]
  },
  {
   "cell_type": "code",
   "execution_count": 59,
   "metadata": {},
   "outputs": [],
   "source": [
    "CasosporEdad.columns = CasosporEdad.columns.tolist()"
   ]
  },
  {
   "cell_type": "code",
   "execution_count": 60,
   "metadata": {},
   "outputs": [],
   "source": [
    "fallecidosporEdad.columns = fallecidosporEdad.columns.tolist()"
   ]
  },
  {
   "cell_type": "code",
   "execution_count": 61,
   "metadata": {},
   "outputs": [],
   "source": [
    "edad_0_a_4 = CasosporEdad.loc['Número de casos',0:4].sum()\n",
    "edad_5_a_14 = CasosporEdad.loc['Número de casos',5:14].sum()\n",
    "edad_15_a_44 = CasosporEdad.loc['Número de casos',15:44].sum()\n",
    "edad_45_a_64 = CasosporEdad.loc['Número de casos',45:64].sum()\n",
    "edad_65_a_84 = CasosporEdad.loc['Número de casos',65:84].sum()\n",
    "edad_85_a_99 = CasosporEdad.loc['Número de casos',85:99].sum()\n",
    "edad_100_o_mas = CasosporEdad.loc['Número de casos',100:].sum()\n",
    "\n"
   ]
  },
  {
   "cell_type": "code",
   "execution_count": 62,
   "metadata": {},
   "outputs": [
    {
     "data": {
      "text/plain": [
       "167"
      ]
     },
     "execution_count": 62,
     "metadata": {},
     "output_type": "execute_result"
    }
   ],
   "source": [
    "edad_0_a_4 "
   ]
  },
  {
   "cell_type": "code",
   "execution_count": 63,
   "metadata": {},
   "outputs": [
    {
     "data": {
      "text/plain": [
       "405"
      ]
     },
     "execution_count": 63,
     "metadata": {},
     "output_type": "execute_result"
    }
   ],
   "source": [
    "edad_5_a_14"
   ]
  },
  {
   "cell_type": "code",
   "execution_count": 64,
   "metadata": {},
   "outputs": [
    {
     "data": {
      "text/plain": [
       "7024"
      ]
     },
     "execution_count": 64,
     "metadata": {},
     "output_type": "execute_result"
    }
   ],
   "source": [
    "edad_15_a_44"
   ]
  },
  {
   "cell_type": "code",
   "execution_count": 65,
   "metadata": {},
   "outputs": [
    {
     "data": {
      "text/plain": [
       "3230"
      ]
     },
     "execution_count": 65,
     "metadata": {},
     "output_type": "execute_result"
    }
   ],
   "source": [
    "edad_45_a_64"
   ]
  },
  {
   "cell_type": "code",
   "execution_count": 66,
   "metadata": {},
   "outputs": [
    {
     "data": {
      "text/plain": [
       "1442"
      ]
     },
     "execution_count": 66,
     "metadata": {},
     "output_type": "execute_result"
    }
   ],
   "source": [
    "edad_65_a_84"
   ]
  },
  {
   "cell_type": "code",
   "execution_count": 67,
   "metadata": {},
   "outputs": [
    {
     "data": {
      "text/plain": [
       "242"
      ]
     },
     "execution_count": 67,
     "metadata": {},
     "output_type": "execute_result"
    }
   ],
   "source": [
    "edad_85_a_99"
   ]
  },
  {
   "cell_type": "code",
   "execution_count": 68,
   "metadata": {},
   "outputs": [
    {
     "data": {
      "text/plain": [
       "3"
      ]
     },
     "execution_count": 68,
     "metadata": {},
     "output_type": "execute_result"
    }
   ],
   "source": [
    "edad_100_o_mas"
   ]
  },
  {
   "cell_type": "code",
   "execution_count": 69,
   "metadata": {},
   "outputs": [],
   "source": [
    "CasosporEdad['edad 0 a 4']=edad_0_a_4\n",
    "CasosporEdad['edad 5 a 14']=edad_5_a_14\n",
    "CasosporEdad['edad 15 a 44']=edad_15_a_44\n",
    "CasosporEdad['edad 45 a 64']=edad_45_a_64\n",
    "CasosporEdad['edad 65 a 84']=edad_65_a_84\n",
    "CasosporEdad['edad 85 a 99']=edad_85_a_99\n",
    "CasosporEdad['edad 100 o más']=edad_100_o_mas\n",
    "CasosporEdad['Total']=edad_0_a_4+edad_5_a_14+edad_15_a_44+edad_45_a_64+edad_65_a_84+edad_85_a_99+edad_100_o_mas"
   ]
  },
  {
   "cell_type": "code",
   "execution_count": 70,
   "metadata": {},
   "outputs": [],
   "source": [
    "for i in range(0,124):\n",
    "    try:\n",
    "        CasosporEdad.drop(columns=i, inplace=True)\n",
    "    except:\n",
    "        pass\n",
    "        "
   ]
  },
  {
   "cell_type": "code",
   "execution_count": 71,
   "metadata": {
    "scrolled": true
   },
   "outputs": [
    {
     "data": {
      "text/html": [
       "<div>\n",
       "<style scoped>\n",
       "    .dataframe tbody tr th:only-of-type {\n",
       "        vertical-align: middle;\n",
       "    }\n",
       "\n",
       "    .dataframe tbody tr th {\n",
       "        vertical-align: top;\n",
       "    }\n",
       "\n",
       "    .dataframe thead th {\n",
       "        text-align: right;\n",
       "    }\n",
       "</style>\n",
       "<table border=\"1\" class=\"dataframe\">\n",
       "  <thead>\n",
       "    <tr style=\"text-align: right;\">\n",
       "      <th></th>\n",
       "      <th>edad 0 a 4</th>\n",
       "      <th>edad 5 a 14</th>\n",
       "      <th>edad 15 a 44</th>\n",
       "      <th>edad 45 a 64</th>\n",
       "      <th>edad 65 a 84</th>\n",
       "      <th>edad 85 a 99</th>\n",
       "      <th>edad 100 o más</th>\n",
       "      <th>Total</th>\n",
       "    </tr>\n",
       "  </thead>\n",
       "  <tbody>\n",
       "    <tr>\n",
       "      <th>Número de casos</th>\n",
       "      <td>167</td>\n",
       "      <td>405</td>\n",
       "      <td>7024</td>\n",
       "      <td>3230</td>\n",
       "      <td>1442</td>\n",
       "      <td>242</td>\n",
       "      <td>3</td>\n",
       "      <td>12513</td>\n",
       "    </tr>\n",
       "  </tbody>\n",
       "</table>\n",
       "</div>"
      ],
      "text/plain": [
       "                 edad 0 a 4  edad 5 a 14  edad 15 a 44  edad 45 a 64  \\\n",
       "Número de casos         167          405          7024          3230   \n",
       "\n",
       "                 edad 65 a 84  edad 85 a 99  edad 100 o más  Total  \n",
       "Número de casos          1442           242               3  12513  "
      ]
     },
     "execution_count": 71,
     "metadata": {},
     "output_type": "execute_result"
    }
   ],
   "source": [
    "CasosporEdad"
   ]
  },
  {
   "cell_type": "code",
   "execution_count": 72,
   "metadata": {},
   "outputs": [],
   "source": [
    "edad_0_a_4 = fallecidosporEdad.loc['Número de fallecidos',0:4].sum()\n",
    "edad_5_a_14 = fallecidosporEdad.loc['Número de fallecidos',5:14].sum()\n",
    "edad_15_a_44 = fallecidosporEdad.loc['Número de fallecidos',15:44].sum()\n",
    "edad_45_a_64 = fallecidosporEdad.loc['Número de fallecidos',45:64].sum()\n",
    "edad_65_a_84 = fallecidosporEdad.loc['Número de fallecidos',65:84].sum()\n",
    "edad_85_a_99 = fallecidosporEdad.loc['Número de fallecidos',85:99].sum()\n",
    "edad_100_o_mas = fallecidosporEdad.loc['Número de fallecidos',100:].sum()"
   ]
  },
  {
   "cell_type": "code",
   "execution_count": 73,
   "metadata": {},
   "outputs": [
    {
     "data": {
      "text/plain": [
       "1"
      ]
     },
     "execution_count": 73,
     "metadata": {},
     "output_type": "execute_result"
    }
   ],
   "source": [
    "edad_0_a_4 "
   ]
  },
  {
   "cell_type": "code",
   "execution_count": 74,
   "metadata": {},
   "outputs": [
    {
     "data": {
      "text/plain": [
       "1"
      ]
     },
     "execution_count": 74,
     "metadata": {},
     "output_type": "execute_result"
    }
   ],
   "source": [
    "edad_5_a_14"
   ]
  },
  {
   "cell_type": "code",
   "execution_count": 75,
   "metadata": {},
   "outputs": [
    {
     "data": {
      "text/plain": [
       "16"
      ]
     },
     "execution_count": 75,
     "metadata": {},
     "output_type": "execute_result"
    }
   ],
   "source": [
    "edad_15_a_44"
   ]
  },
  {
   "cell_type": "code",
   "execution_count": 76,
   "metadata": {},
   "outputs": [
    {
     "data": {
      "text/plain": [
       "67"
      ]
     },
     "execution_count": 76,
     "metadata": {},
     "output_type": "execute_result"
    }
   ],
   "source": [
    "edad_45_a_64"
   ]
  },
  {
   "cell_type": "code",
   "execution_count": 77,
   "metadata": {},
   "outputs": [
    {
     "data": {
      "text/plain": [
       "172"
      ]
     },
     "execution_count": 77,
     "metadata": {},
     "output_type": "execute_result"
    }
   ],
   "source": [
    "edad_65_a_84"
   ]
  },
  {
   "cell_type": "code",
   "execution_count": 78,
   "metadata": {},
   "outputs": [
    {
     "data": {
      "text/plain": [
       "51"
      ]
     },
     "execution_count": 78,
     "metadata": {},
     "output_type": "execute_result"
    }
   ],
   "source": [
    "edad_85_a_99"
   ]
  },
  {
   "cell_type": "code",
   "execution_count": 79,
   "metadata": {},
   "outputs": [
    {
     "data": {
      "text/plain": [
       "1"
      ]
     },
     "execution_count": 79,
     "metadata": {},
     "output_type": "execute_result"
    }
   ],
   "source": [
    "edad_100_o_mas"
   ]
  },
  {
   "cell_type": "code",
   "execution_count": 80,
   "metadata": {},
   "outputs": [],
   "source": [
    "fallecidosporEdad['edad 0 a 4']=edad_0_a_4\n",
    "fallecidosporEdad['edad 5 a 14']=edad_5_a_14\n",
    "fallecidosporEdad['edad 15 a 44']=edad_15_a_44\n",
    "fallecidosporEdad['edad 45 a 64']=edad_45_a_64\n",
    "fallecidosporEdad['edad 65 a 84']=edad_65_a_84\n",
    "fallecidosporEdad['edad 85 a 99']=edad_85_a_99\n",
    "fallecidosporEdad['edad 100 o más']=edad_100_o_mas\n",
    "fallecidosporEdad['Total']=edad_0_a_4+edad_5_a_14+edad_15_a_44+edad_45_a_64+edad_65_a_84+edad_85_a_99+edad_100_o_mas"
   ]
  },
  {
   "cell_type": "code",
   "execution_count": 81,
   "metadata": {},
   "outputs": [],
   "source": [
    "for i in range(0,124):\n",
    "    try:\n",
    "        fallecidosporEdad.drop(columns=i, inplace=True)\n",
    "    except:\n",
    "        pass\n",
    "        "
   ]
  },
  {
   "cell_type": "code",
   "execution_count": 82,
   "metadata": {
    "scrolled": true
   },
   "outputs": [
    {
     "data": {
      "text/html": [
       "<div>\n",
       "<style scoped>\n",
       "    .dataframe tbody tr th:only-of-type {\n",
       "        vertical-align: middle;\n",
       "    }\n",
       "\n",
       "    .dataframe tbody tr th {\n",
       "        vertical-align: top;\n",
       "    }\n",
       "\n",
       "    .dataframe thead th {\n",
       "        text-align: right;\n",
       "    }\n",
       "</style>\n",
       "<table border=\"1\" class=\"dataframe\">\n",
       "  <thead>\n",
       "    <tr style=\"text-align: right;\">\n",
       "      <th></th>\n",
       "      <th>edad 0 a 4</th>\n",
       "      <th>edad 5 a 14</th>\n",
       "      <th>edad 15 a 44</th>\n",
       "      <th>edad 45 a 64</th>\n",
       "      <th>edad 65 a 84</th>\n",
       "      <th>edad 85 a 99</th>\n",
       "      <th>edad 100 o más</th>\n",
       "      <th>Total</th>\n",
       "    </tr>\n",
       "  </thead>\n",
       "  <tbody>\n",
       "    <tr>\n",
       "      <th>Número de fallecidos</th>\n",
       "      <td>1</td>\n",
       "      <td>1</td>\n",
       "      <td>16</td>\n",
       "      <td>67</td>\n",
       "      <td>172</td>\n",
       "      <td>51</td>\n",
       "      <td>1</td>\n",
       "      <td>309</td>\n",
       "    </tr>\n",
       "  </tbody>\n",
       "</table>\n",
       "</div>"
      ],
      "text/plain": [
       "                      edad 0 a 4  edad 5 a 14  edad 15 a 44  edad 45 a 64  \\\n",
       "Número de fallecidos           1            1            16            67   \n",
       "\n",
       "                      edad 65 a 84  edad 85 a 99  edad 100 o más  Total  \n",
       "Número de fallecidos           172            51               1    309  "
      ]
     },
     "execution_count": 82,
     "metadata": {},
     "output_type": "execute_result"
    }
   ],
   "source": [
    "fallecidosporEdad"
   ]
  },
  {
   "cell_type": "code",
   "execution_count": 83,
   "metadata": {},
   "outputs": [
    {
     "data": {
      "text/html": [
       "<div>\n",
       "<style scoped>\n",
       "    .dataframe tbody tr th:only-of-type {\n",
       "        vertical-align: middle;\n",
       "    }\n",
       "\n",
       "    .dataframe tbody tr th {\n",
       "        vertical-align: top;\n",
       "    }\n",
       "\n",
       "    .dataframe thead th {\n",
       "        text-align: right;\n",
       "    }\n",
       "</style>\n",
       "<table border=\"1\" class=\"dataframe\">\n",
       "  <thead>\n",
       "    <tr style=\"text-align: right;\">\n",
       "      <th></th>\n",
       "      <th>Número de casos</th>\n",
       "    </tr>\n",
       "  </thead>\n",
       "  <tbody>\n",
       "    <tr>\n",
       "      <th>edad 0 a 4</th>\n",
       "      <td>167</td>\n",
       "    </tr>\n",
       "    <tr>\n",
       "      <th>edad 5 a 14</th>\n",
       "      <td>405</td>\n",
       "    </tr>\n",
       "    <tr>\n",
       "      <th>edad 15 a 44</th>\n",
       "      <td>7024</td>\n",
       "    </tr>\n",
       "    <tr>\n",
       "      <th>edad 45 a 64</th>\n",
       "      <td>3230</td>\n",
       "    </tr>\n",
       "    <tr>\n",
       "      <th>edad 65 a 84</th>\n",
       "      <td>1442</td>\n",
       "    </tr>\n",
       "    <tr>\n",
       "      <th>edad 85 a 99</th>\n",
       "      <td>242</td>\n",
       "    </tr>\n",
       "    <tr>\n",
       "      <th>edad 100 o más</th>\n",
       "      <td>3</td>\n",
       "    </tr>\n",
       "    <tr>\n",
       "      <th>Total</th>\n",
       "      <td>12513</td>\n",
       "    </tr>\n",
       "  </tbody>\n",
       "</table>\n",
       "</div>"
      ],
      "text/plain": [
       "                Número de casos\n",
       "edad 0 a 4                  167\n",
       "edad 5 a 14                 405\n",
       "edad 15 a 44               7024\n",
       "edad 45 a 64               3230\n",
       "edad 65 a 84               1442\n",
       "edad 85 a 99                242\n",
       "edad 100 o más                3\n",
       "Total                     12513"
      ]
     },
     "execution_count": 83,
     "metadata": {},
     "output_type": "execute_result"
    }
   ],
   "source": [
    "CasosporEdad=CasosporEdad.transpose()\n",
    "CasosporEdad"
   ]
  },
  {
   "cell_type": "code",
   "execution_count": 84,
   "metadata": {},
   "outputs": [
    {
     "data": {
      "text/html": [
       "<div>\n",
       "<style scoped>\n",
       "    .dataframe tbody tr th:only-of-type {\n",
       "        vertical-align: middle;\n",
       "    }\n",
       "\n",
       "    .dataframe tbody tr th {\n",
       "        vertical-align: top;\n",
       "    }\n",
       "\n",
       "    .dataframe thead th {\n",
       "        text-align: right;\n",
       "    }\n",
       "</style>\n",
       "<table border=\"1\" class=\"dataframe\">\n",
       "  <thead>\n",
       "    <tr style=\"text-align: right;\">\n",
       "      <th></th>\n",
       "      <th>Número de fallecidos</th>\n",
       "    </tr>\n",
       "  </thead>\n",
       "  <tbody>\n",
       "    <tr>\n",
       "      <th>edad 0 a 4</th>\n",
       "      <td>1</td>\n",
       "    </tr>\n",
       "    <tr>\n",
       "      <th>edad 5 a 14</th>\n",
       "      <td>1</td>\n",
       "    </tr>\n",
       "    <tr>\n",
       "      <th>edad 15 a 44</th>\n",
       "      <td>16</td>\n",
       "    </tr>\n",
       "    <tr>\n",
       "      <th>edad 45 a 64</th>\n",
       "      <td>67</td>\n",
       "    </tr>\n",
       "    <tr>\n",
       "      <th>edad 65 a 84</th>\n",
       "      <td>172</td>\n",
       "    </tr>\n",
       "    <tr>\n",
       "      <th>edad 85 a 99</th>\n",
       "      <td>51</td>\n",
       "    </tr>\n",
       "    <tr>\n",
       "      <th>edad 100 o más</th>\n",
       "      <td>1</td>\n",
       "    </tr>\n",
       "    <tr>\n",
       "      <th>Total</th>\n",
       "      <td>309</td>\n",
       "    </tr>\n",
       "  </tbody>\n",
       "</table>\n",
       "</div>"
      ],
      "text/plain": [
       "                Número de fallecidos\n",
       "edad 0 a 4                         1\n",
       "edad 5 a 14                        1\n",
       "edad 15 a 44                      16\n",
       "edad 45 a 64                      67\n",
       "edad 65 a 84                     172\n",
       "edad 85 a 99                      51\n",
       "edad 100 o más                     1\n",
       "Total                            309"
      ]
     },
     "execution_count": 84,
     "metadata": {},
     "output_type": "execute_result"
    }
   ],
   "source": [
    "fallecidosporEdad=fallecidosporEdad.transpose()\n",
    "fallecidosporEdad"
   ]
  },
  {
   "cell_type": "code",
   "execution_count": 85,
   "metadata": {},
   "outputs": [
    {
     "data": {
      "text/plain": [
       "Index(['edad 0 a 4', 'edad 5 a 14', 'edad 15 a 44', 'edad 45 a 64',\n",
       "       'edad 65 a 84', 'edad 85 a 99', 'edad 100 o más', 'Total'],\n",
       "      dtype='object')"
      ]
     },
     "execution_count": 85,
     "metadata": {},
     "output_type": "execute_result"
    }
   ],
   "source": [
    "fallecidosporEdad.index\n"
   ]
  },
  {
   "cell_type": "code",
   "execution_count": 86,
   "metadata": {},
   "outputs": [
    {
     "data": {
      "text/html": [
       "<div>\n",
       "<style scoped>\n",
       "    .dataframe tbody tr th:only-of-type {\n",
       "        vertical-align: middle;\n",
       "    }\n",
       "\n",
       "    .dataframe tbody tr th {\n",
       "        vertical-align: top;\n",
       "    }\n",
       "\n",
       "    .dataframe thead th {\n",
       "        text-align: right;\n",
       "    }\n",
       "</style>\n",
       "<table border=\"1\" class=\"dataframe\">\n",
       "  <thead>\n",
       "    <tr style=\"text-align: right;\">\n",
       "      <th></th>\n",
       "      <th>Número de casos</th>\n",
       "      <th>Número de fallecidos</th>\n",
       "    </tr>\n",
       "  </thead>\n",
       "  <tbody>\n",
       "    <tr>\n",
       "      <th>edad 0 a 4</th>\n",
       "      <td>167</td>\n",
       "      <td>1</td>\n",
       "    </tr>\n",
       "    <tr>\n",
       "      <th>edad 5 a 14</th>\n",
       "      <td>405</td>\n",
       "      <td>1</td>\n",
       "    </tr>\n",
       "    <tr>\n",
       "      <th>edad 15 a 44</th>\n",
       "      <td>7024</td>\n",
       "      <td>16</td>\n",
       "    </tr>\n",
       "    <tr>\n",
       "      <th>edad 45 a 64</th>\n",
       "      <td>3230</td>\n",
       "      <td>67</td>\n",
       "    </tr>\n",
       "    <tr>\n",
       "      <th>edad 65 a 84</th>\n",
       "      <td>1442</td>\n",
       "      <td>172</td>\n",
       "    </tr>\n",
       "    <tr>\n",
       "      <th>edad 85 a 99</th>\n",
       "      <td>242</td>\n",
       "      <td>51</td>\n",
       "    </tr>\n",
       "    <tr>\n",
       "      <th>edad 100 o más</th>\n",
       "      <td>3</td>\n",
       "      <td>1</td>\n",
       "    </tr>\n",
       "    <tr>\n",
       "      <th>Total</th>\n",
       "      <td>12513</td>\n",
       "      <td>309</td>\n",
       "    </tr>\n",
       "  </tbody>\n",
       "</table>\n",
       "</div>"
      ],
      "text/plain": [
       "                Número de casos  Número de fallecidos\n",
       "edad 0 a 4                  167                     1\n",
       "edad 5 a 14                 405                     1\n",
       "edad 15 a 44               7024                    16\n",
       "edad 45 a 64               3230                    67\n",
       "edad 65 a 84               1442                   172\n",
       "edad 85 a 99                242                    51\n",
       "edad 100 o más                3                     1\n",
       "Total                     12513                   309"
      ]
     },
     "execution_count": 86,
     "metadata": {},
     "output_type": "execute_result"
    }
   ],
   "source": [
    "CasosyFallecidos= pd.merge(CasosporEdad, fallecidosporEdad, left_index=True, right_index=True)\n",
    "CasosyFallecidos"
   ]
  },
  {
   "cell_type": "code",
   "execution_count": 87,
   "metadata": {},
   "outputs": [],
   "source": [
    "CasosyFallecidos['Tasa de letalidad por 100'] =100*(CasosyFallecidos['Número de fallecidos']/CasosyFallecidos['Número de casos']).round(4)"
   ]
  },
  {
   "cell_type": "code",
   "execution_count": 88,
   "metadata": {},
   "outputs": [
    {
     "data": {
      "text/html": [
       "<div>\n",
       "<style scoped>\n",
       "    .dataframe tbody tr th:only-of-type {\n",
       "        vertical-align: middle;\n",
       "    }\n",
       "\n",
       "    .dataframe tbody tr th {\n",
       "        vertical-align: top;\n",
       "    }\n",
       "\n",
       "    .dataframe thead th {\n",
       "        text-align: right;\n",
       "    }\n",
       "</style>\n",
       "<table border=\"1\" class=\"dataframe\">\n",
       "  <thead>\n",
       "    <tr style=\"text-align: right;\">\n",
       "      <th></th>\n",
       "      <th>Número de casos</th>\n",
       "      <th>Número de fallecidos</th>\n",
       "      <th>Tasa de letalidad por 100</th>\n",
       "    </tr>\n",
       "  </thead>\n",
       "  <tbody>\n",
       "    <tr>\n",
       "      <th>edad 0 a 4</th>\n",
       "      <td>167</td>\n",
       "      <td>1</td>\n",
       "      <td>0.60</td>\n",
       "    </tr>\n",
       "    <tr>\n",
       "      <th>edad 5 a 14</th>\n",
       "      <td>405</td>\n",
       "      <td>1</td>\n",
       "      <td>0.25</td>\n",
       "    </tr>\n",
       "    <tr>\n",
       "      <th>edad 15 a 44</th>\n",
       "      <td>7024</td>\n",
       "      <td>16</td>\n",
       "      <td>0.23</td>\n",
       "    </tr>\n",
       "    <tr>\n",
       "      <th>edad 45 a 64</th>\n",
       "      <td>3230</td>\n",
       "      <td>67</td>\n",
       "      <td>2.07</td>\n",
       "    </tr>\n",
       "    <tr>\n",
       "      <th>edad 65 a 84</th>\n",
       "      <td>1442</td>\n",
       "      <td>172</td>\n",
       "      <td>11.93</td>\n",
       "    </tr>\n",
       "    <tr>\n",
       "      <th>edad 85 a 99</th>\n",
       "      <td>242</td>\n",
       "      <td>51</td>\n",
       "      <td>21.07</td>\n",
       "    </tr>\n",
       "    <tr>\n",
       "      <th>edad 100 o más</th>\n",
       "      <td>3</td>\n",
       "      <td>1</td>\n",
       "      <td>33.33</td>\n",
       "    </tr>\n",
       "    <tr>\n",
       "      <th>Total</th>\n",
       "      <td>12513</td>\n",
       "      <td>309</td>\n",
       "      <td>2.47</td>\n",
       "    </tr>\n",
       "  </tbody>\n",
       "</table>\n",
       "</div>"
      ],
      "text/plain": [
       "                Número de casos  Número de fallecidos  \\\n",
       "edad 0 a 4                  167                     1   \n",
       "edad 5 a 14                 405                     1   \n",
       "edad 15 a 44               7024                    16   \n",
       "edad 45 a 64               3230                    67   \n",
       "edad 65 a 84               1442                   172   \n",
       "edad 85 a 99                242                    51   \n",
       "edad 100 o más                3                     1   \n",
       "Total                     12513                   309   \n",
       "\n",
       "                Tasa de letalidad por 100  \n",
       "edad 0 a 4                           0.60  \n",
       "edad 5 a 14                          0.25  \n",
       "edad 15 a 44                         0.23  \n",
       "edad 45 a 64                         2.07  \n",
       "edad 65 a 84                        11.93  \n",
       "edad 85 a 99                        21.07  \n",
       "edad 100 o más                      33.33  \n",
       "Total                                2.47  "
      ]
     },
     "execution_count": 88,
     "metadata": {},
     "output_type": "execute_result"
    }
   ],
   "source": [
    "CasosyFallecidos"
   ]
  },
  {
   "cell_type": "code",
   "execution_count": 89,
   "metadata": {},
   "outputs": [],
   "source": [
    "etartotal = pd.read_csv('poblacionEdad1985_2035.csv', low_memory=False)\n",
    "etartotal.drop(columns=['Unnamed: 108',\n",
    "       'Unnamed: 109'], inplace=True)\n",
    "\n",
    "etartotal = etartotal.loc[(etartotal['ÁREA GEOGRÁFICA']=='Total')&(etartotal['AÑO']=='2020'),:].drop(columns=['ÁREA GEOGRÁFICA'])\n",
    "\n",
    "etartotal.reset_index(drop=True, inplace=True)"
   ]
  },
  {
   "cell_type": "code",
   "execution_count": 90,
   "metadata": {},
   "outputs": [
    {
     "data": {
      "text/html": [
       "<div>\n",
       "<style scoped>\n",
       "    .dataframe tbody tr th:only-of-type {\n",
       "        vertical-align: middle;\n",
       "    }\n",
       "\n",
       "    .dataframe tbody tr th {\n",
       "        vertical-align: top;\n",
       "    }\n",
       "\n",
       "    .dataframe thead th {\n",
       "        text-align: right;\n",
       "    }\n",
       "</style>\n",
       "<table border=\"1\" class=\"dataframe\">\n",
       "  <thead>\n",
       "    <tr style=\"text-align: right;\">\n",
       "      <th></th>\n",
       "      <th>DEPARTAMENTO</th>\n",
       "      <th>MUNICIPIO</th>\n",
       "      <th>AÑO</th>\n",
       "      <th>Total_0</th>\n",
       "      <th>Total_1</th>\n",
       "      <th>Total_2</th>\n",
       "      <th>Total_3</th>\n",
       "      <th>Total_4</th>\n",
       "      <th>Total_5</th>\n",
       "      <th>Total_6</th>\n",
       "      <th>...</th>\n",
       "      <th>Total_94</th>\n",
       "      <th>Total_95</th>\n",
       "      <th>Total_96</th>\n",
       "      <th>Total_97</th>\n",
       "      <th>Total_98</th>\n",
       "      <th>Total_99</th>\n",
       "      <th>Total_100 y más</th>\n",
       "      <th>Total Hombres</th>\n",
       "      <th>Total Mujeres</th>\n",
       "      <th>Total</th>\n",
       "    </tr>\n",
       "  </thead>\n",
       "  <tbody>\n",
       "    <tr>\n",
       "      <th>317</th>\n",
       "      <td>Caldas</td>\n",
       "      <td>Manizales</td>\n",
       "      <td>2020</td>\n",
       "      <td>4600</td>\n",
       "      <td>4740</td>\n",
       "      <td>4743</td>\n",
       "      <td>4751</td>\n",
       "      <td>4753</td>\n",
       "      <td>4762</td>\n",
       "      <td>4771</td>\n",
       "      <td>...</td>\n",
       "      <td>260</td>\n",
       "      <td>224</td>\n",
       "      <td>177</td>\n",
       "      <td>141</td>\n",
       "      <td>105</td>\n",
       "      <td>83</td>\n",
       "      <td>201</td>\n",
       "      <td>210254</td>\n",
       "      <td>235906</td>\n",
       "      <td>446160</td>\n",
       "    </tr>\n",
       "    <tr>\n",
       "      <th>318</th>\n",
       "      <td>Caldas</td>\n",
       "      <td>Aguadas</td>\n",
       "      <td>2020</td>\n",
       "      <td>332</td>\n",
       "      <td>335</td>\n",
       "      <td>339</td>\n",
       "      <td>337</td>\n",
       "      <td>336</td>\n",
       "      <td>334</td>\n",
       "      <td>333</td>\n",
       "      <td>...</td>\n",
       "      <td>14</td>\n",
       "      <td>8</td>\n",
       "      <td>8</td>\n",
       "      <td>7</td>\n",
       "      <td>7</td>\n",
       "      <td>9</td>\n",
       "      <td>13</td>\n",
       "      <td>11486</td>\n",
       "      <td>11562</td>\n",
       "      <td>23048</td>\n",
       "    </tr>\n",
       "    <tr>\n",
       "      <th>319</th>\n",
       "      <td>Caldas</td>\n",
       "      <td>Anserma</td>\n",
       "      <td>2020</td>\n",
       "      <td>470</td>\n",
       "      <td>478</td>\n",
       "      <td>482</td>\n",
       "      <td>481</td>\n",
       "      <td>487</td>\n",
       "      <td>488</td>\n",
       "      <td>490</td>\n",
       "      <td>...</td>\n",
       "      <td>24</td>\n",
       "      <td>20</td>\n",
       "      <td>17</td>\n",
       "      <td>11</td>\n",
       "      <td>9</td>\n",
       "      <td>10</td>\n",
       "      <td>17</td>\n",
       "      <td>18339</td>\n",
       "      <td>18352</td>\n",
       "      <td>36691</td>\n",
       "    </tr>\n",
       "    <tr>\n",
       "      <th>320</th>\n",
       "      <td>Caldas</td>\n",
       "      <td>Aranzazu</td>\n",
       "      <td>2020</td>\n",
       "      <td>153</td>\n",
       "      <td>158</td>\n",
       "      <td>158</td>\n",
       "      <td>157</td>\n",
       "      <td>158</td>\n",
       "      <td>157</td>\n",
       "      <td>158</td>\n",
       "      <td>...</td>\n",
       "      <td>7</td>\n",
       "      <td>5</td>\n",
       "      <td>6</td>\n",
       "      <td>6</td>\n",
       "      <td>3</td>\n",
       "      <td>5</td>\n",
       "      <td>6</td>\n",
       "      <td>4971</td>\n",
       "      <td>5585</td>\n",
       "      <td>10556</td>\n",
       "    </tr>\n",
       "    <tr>\n",
       "      <th>321</th>\n",
       "      <td>Caldas</td>\n",
       "      <td>Belalcázar</td>\n",
       "      <td>2020</td>\n",
       "      <td>195</td>\n",
       "      <td>199</td>\n",
       "      <td>200</td>\n",
       "      <td>195</td>\n",
       "      <td>193</td>\n",
       "      <td>190</td>\n",
       "      <td>185</td>\n",
       "      <td>...</td>\n",
       "      <td>9</td>\n",
       "      <td>5</td>\n",
       "      <td>6</td>\n",
       "      <td>6</td>\n",
       "      <td>3</td>\n",
       "      <td>5</td>\n",
       "      <td>6</td>\n",
       "      <td>5402</td>\n",
       "      <td>5248</td>\n",
       "      <td>10650</td>\n",
       "    </tr>\n",
       "    <tr>\n",
       "      <th>322</th>\n",
       "      <td>Caldas</td>\n",
       "      <td>Chinchiná</td>\n",
       "      <td>2020</td>\n",
       "      <td>610</td>\n",
       "      <td>623</td>\n",
       "      <td>627</td>\n",
       "      <td>630</td>\n",
       "      <td>635</td>\n",
       "      <td>644</td>\n",
       "      <td>649</td>\n",
       "      <td>...</td>\n",
       "      <td>27</td>\n",
       "      <td>20</td>\n",
       "      <td>19</td>\n",
       "      <td>11</td>\n",
       "      <td>11</td>\n",
       "      <td>7</td>\n",
       "      <td>16</td>\n",
       "      <td>25061</td>\n",
       "      <td>27206</td>\n",
       "      <td>52267</td>\n",
       "    </tr>\n",
       "    <tr>\n",
       "      <th>323</th>\n",
       "      <td>Caldas</td>\n",
       "      <td>Filadelfia</td>\n",
       "      <td>2020</td>\n",
       "      <td>149</td>\n",
       "      <td>148</td>\n",
       "      <td>151</td>\n",
       "      <td>152</td>\n",
       "      <td>151</td>\n",
       "      <td>159</td>\n",
       "      <td>157</td>\n",
       "      <td>...</td>\n",
       "      <td>6</td>\n",
       "      <td>6</td>\n",
       "      <td>4</td>\n",
       "      <td>3</td>\n",
       "      <td>4</td>\n",
       "      <td>5</td>\n",
       "      <td>6</td>\n",
       "      <td>5724</td>\n",
       "      <td>5676</td>\n",
       "      <td>11400</td>\n",
       "    </tr>\n",
       "    <tr>\n",
       "      <th>324</th>\n",
       "      <td>Caldas</td>\n",
       "      <td>La Dorada</td>\n",
       "      <td>2020</td>\n",
       "      <td>1087</td>\n",
       "      <td>1116</td>\n",
       "      <td>1118</td>\n",
       "      <td>1119</td>\n",
       "      <td>1123</td>\n",
       "      <td>1120</td>\n",
       "      <td>1120</td>\n",
       "      <td>...</td>\n",
       "      <td>24</td>\n",
       "      <td>21</td>\n",
       "      <td>18</td>\n",
       "      <td>13</td>\n",
       "      <td>8</td>\n",
       "      <td>11</td>\n",
       "      <td>23</td>\n",
       "      <td>35874</td>\n",
       "      <td>38132</td>\n",
       "      <td>74006</td>\n",
       "    </tr>\n",
       "    <tr>\n",
       "      <th>325</th>\n",
       "      <td>Caldas</td>\n",
       "      <td>La Merced</td>\n",
       "      <td>2020</td>\n",
       "      <td>71</td>\n",
       "      <td>73</td>\n",
       "      <td>73</td>\n",
       "      <td>72</td>\n",
       "      <td>74</td>\n",
       "      <td>74</td>\n",
       "      <td>74</td>\n",
       "      <td>...</td>\n",
       "      <td>3</td>\n",
       "      <td>3</td>\n",
       "      <td>2</td>\n",
       "      <td>2</td>\n",
       "      <td>-</td>\n",
       "      <td>4</td>\n",
       "      <td>2</td>\n",
       "      <td>2989</td>\n",
       "      <td>2893</td>\n",
       "      <td>5882</td>\n",
       "    </tr>\n",
       "    <tr>\n",
       "      <th>326</th>\n",
       "      <td>Caldas</td>\n",
       "      <td>Manzanares</td>\n",
       "      <td>2020</td>\n",
       "      <td>265</td>\n",
       "      <td>270</td>\n",
       "      <td>270</td>\n",
       "      <td>272</td>\n",
       "      <td>269</td>\n",
       "      <td>268</td>\n",
       "      <td>266</td>\n",
       "      <td>...</td>\n",
       "      <td>10</td>\n",
       "      <td>11</td>\n",
       "      <td>8</td>\n",
       "      <td>8</td>\n",
       "      <td>4</td>\n",
       "      <td>8</td>\n",
       "      <td>38</td>\n",
       "      <td>8965</td>\n",
       "      <td>8829</td>\n",
       "      <td>17794</td>\n",
       "    </tr>\n",
       "    <tr>\n",
       "      <th>327</th>\n",
       "      <td>Caldas</td>\n",
       "      <td>Marmato</td>\n",
       "      <td>2020</td>\n",
       "      <td>183</td>\n",
       "      <td>185</td>\n",
       "      <td>186</td>\n",
       "      <td>183</td>\n",
       "      <td>178</td>\n",
       "      <td>173</td>\n",
       "      <td>170</td>\n",
       "      <td>...</td>\n",
       "      <td>3</td>\n",
       "      <td>5</td>\n",
       "      <td>2</td>\n",
       "      <td>3</td>\n",
       "      <td>1</td>\n",
       "      <td>4</td>\n",
       "      <td>2</td>\n",
       "      <td>4666</td>\n",
       "      <td>4501</td>\n",
       "      <td>9167</td>\n",
       "    </tr>\n",
       "    <tr>\n",
       "      <th>328</th>\n",
       "      <td>Caldas</td>\n",
       "      <td>Marquetalia</td>\n",
       "      <td>2020</td>\n",
       "      <td>216</td>\n",
       "      <td>218</td>\n",
       "      <td>219</td>\n",
       "      <td>221</td>\n",
       "      <td>220</td>\n",
       "      <td>220</td>\n",
       "      <td>217</td>\n",
       "      <td>...</td>\n",
       "      <td>7</td>\n",
       "      <td>6</td>\n",
       "      <td>4</td>\n",
       "      <td>6</td>\n",
       "      <td>2</td>\n",
       "      <td>5</td>\n",
       "      <td>6</td>\n",
       "      <td>6792</td>\n",
       "      <td>6698</td>\n",
       "      <td>13490</td>\n",
       "    </tr>\n",
       "    <tr>\n",
       "      <th>329</th>\n",
       "      <td>Caldas</td>\n",
       "      <td>Marulanda</td>\n",
       "      <td>2020</td>\n",
       "      <td>46</td>\n",
       "      <td>47</td>\n",
       "      <td>47</td>\n",
       "      <td>46</td>\n",
       "      <td>44</td>\n",
       "      <td>43</td>\n",
       "      <td>41</td>\n",
       "      <td>...</td>\n",
       "      <td>1</td>\n",
       "      <td>-</td>\n",
       "      <td>1</td>\n",
       "      <td>-</td>\n",
       "      <td>2</td>\n",
       "      <td>2</td>\n",
       "      <td>-</td>\n",
       "      <td>1342</td>\n",
       "      <td>1202</td>\n",
       "      <td>2544</td>\n",
       "    </tr>\n",
       "    <tr>\n",
       "      <th>330</th>\n",
       "      <td>Caldas</td>\n",
       "      <td>Neira</td>\n",
       "      <td>2020</td>\n",
       "      <td>299</td>\n",
       "      <td>303</td>\n",
       "      <td>305</td>\n",
       "      <td>305</td>\n",
       "      <td>305</td>\n",
       "      <td>303</td>\n",
       "      <td>304</td>\n",
       "      <td>...</td>\n",
       "      <td>10</td>\n",
       "      <td>5</td>\n",
       "      <td>6</td>\n",
       "      <td>6</td>\n",
       "      <td>4</td>\n",
       "      <td>7</td>\n",
       "      <td>11</td>\n",
       "      <td>10575</td>\n",
       "      <td>10539</td>\n",
       "      <td>21114</td>\n",
       "    </tr>\n",
       "    <tr>\n",
       "      <th>331</th>\n",
       "      <td>Caldas</td>\n",
       "      <td>Norcasia</td>\n",
       "      <td>2020</td>\n",
       "      <td>102</td>\n",
       "      <td>106</td>\n",
       "      <td>106</td>\n",
       "      <td>106</td>\n",
       "      <td>104</td>\n",
       "      <td>108</td>\n",
       "      <td>105</td>\n",
       "      <td>...</td>\n",
       "      <td>2</td>\n",
       "      <td>3</td>\n",
       "      <td>2</td>\n",
       "      <td>5</td>\n",
       "      <td>2</td>\n",
       "      <td>4</td>\n",
       "      <td>3</td>\n",
       "      <td>3049</td>\n",
       "      <td>3079</td>\n",
       "      <td>6128</td>\n",
       "    </tr>\n",
       "    <tr>\n",
       "      <th>332</th>\n",
       "      <td>Caldas</td>\n",
       "      <td>Pácora</td>\n",
       "      <td>2020</td>\n",
       "      <td>183</td>\n",
       "      <td>186</td>\n",
       "      <td>188</td>\n",
       "      <td>186</td>\n",
       "      <td>187</td>\n",
       "      <td>188</td>\n",
       "      <td>189</td>\n",
       "      <td>...</td>\n",
       "      <td>11</td>\n",
       "      <td>8</td>\n",
       "      <td>9</td>\n",
       "      <td>3</td>\n",
       "      <td>5</td>\n",
       "      <td>7</td>\n",
       "      <td>6</td>\n",
       "      <td>7724</td>\n",
       "      <td>7600</td>\n",
       "      <td>15324</td>\n",
       "    </tr>\n",
       "    <tr>\n",
       "      <th>333</th>\n",
       "      <td>Caldas</td>\n",
       "      <td>Palestina</td>\n",
       "      <td>2020</td>\n",
       "      <td>239</td>\n",
       "      <td>242</td>\n",
       "      <td>243</td>\n",
       "      <td>242</td>\n",
       "      <td>239</td>\n",
       "      <td>236</td>\n",
       "      <td>233</td>\n",
       "      <td>...</td>\n",
       "      <td>8</td>\n",
       "      <td>8</td>\n",
       "      <td>7</td>\n",
       "      <td>6</td>\n",
       "      <td>6</td>\n",
       "      <td>6</td>\n",
       "      <td>6</td>\n",
       "      <td>7923</td>\n",
       "      <td>7758</td>\n",
       "      <td>15681</td>\n",
       "    </tr>\n",
       "    <tr>\n",
       "      <th>334</th>\n",
       "      <td>Caldas</td>\n",
       "      <td>Pensilvania</td>\n",
       "      <td>2020</td>\n",
       "      <td>299</td>\n",
       "      <td>303</td>\n",
       "      <td>304</td>\n",
       "      <td>305</td>\n",
       "      <td>304</td>\n",
       "      <td>304</td>\n",
       "      <td>305</td>\n",
       "      <td>...</td>\n",
       "      <td>15</td>\n",
       "      <td>12</td>\n",
       "      <td>11</td>\n",
       "      <td>7</td>\n",
       "      <td>7</td>\n",
       "      <td>8</td>\n",
       "      <td>11</td>\n",
       "      <td>9968</td>\n",
       "      <td>9787</td>\n",
       "      <td>19755</td>\n",
       "    </tr>\n",
       "    <tr>\n",
       "      <th>335</th>\n",
       "      <td>Caldas</td>\n",
       "      <td>Riosucio</td>\n",
       "      <td>2020</td>\n",
       "      <td>809</td>\n",
       "      <td>814</td>\n",
       "      <td>822</td>\n",
       "      <td>814</td>\n",
       "      <td>803</td>\n",
       "      <td>793</td>\n",
       "      <td>780</td>\n",
       "      <td>...</td>\n",
       "      <td>35</td>\n",
       "      <td>31</td>\n",
       "      <td>22</td>\n",
       "      <td>17</td>\n",
       "      <td>11</td>\n",
       "      <td>12</td>\n",
       "      <td>24</td>\n",
       "      <td>25679</td>\n",
       "      <td>26277</td>\n",
       "      <td>51956</td>\n",
       "    </tr>\n",
       "    <tr>\n",
       "      <th>336</th>\n",
       "      <td>Caldas</td>\n",
       "      <td>Risaralda</td>\n",
       "      <td>2020</td>\n",
       "      <td>146</td>\n",
       "      <td>148</td>\n",
       "      <td>149</td>\n",
       "      <td>149</td>\n",
       "      <td>147</td>\n",
       "      <td>147</td>\n",
       "      <td>146</td>\n",
       "      <td>...</td>\n",
       "      <td>6</td>\n",
       "      <td>6</td>\n",
       "      <td>5</td>\n",
       "      <td>5</td>\n",
       "      <td>3</td>\n",
       "      <td>5</td>\n",
       "      <td>7</td>\n",
       "      <td>5527</td>\n",
       "      <td>5041</td>\n",
       "      <td>10568</td>\n",
       "    </tr>\n",
       "    <tr>\n",
       "      <th>337</th>\n",
       "      <td>Caldas</td>\n",
       "      <td>Salamina</td>\n",
       "      <td>2020</td>\n",
       "      <td>228</td>\n",
       "      <td>232</td>\n",
       "      <td>233</td>\n",
       "      <td>234</td>\n",
       "      <td>238</td>\n",
       "      <td>241</td>\n",
       "      <td>245</td>\n",
       "      <td>...</td>\n",
       "      <td>15</td>\n",
       "      <td>11</td>\n",
       "      <td>8</td>\n",
       "      <td>8</td>\n",
       "      <td>6</td>\n",
       "      <td>7</td>\n",
       "      <td>11</td>\n",
       "      <td>9740</td>\n",
       "      <td>9653</td>\n",
       "      <td>19393</td>\n",
       "    </tr>\n",
       "    <tr>\n",
       "      <th>338</th>\n",
       "      <td>Caldas</td>\n",
       "      <td>Samaná</td>\n",
       "      <td>2020</td>\n",
       "      <td>339</td>\n",
       "      <td>340</td>\n",
       "      <td>343</td>\n",
       "      <td>343</td>\n",
       "      <td>341</td>\n",
       "      <td>340</td>\n",
       "      <td>339</td>\n",
       "      <td>...</td>\n",
       "      <td>10</td>\n",
       "      <td>9</td>\n",
       "      <td>6</td>\n",
       "      <td>8</td>\n",
       "      <td>5</td>\n",
       "      <td>7</td>\n",
       "      <td>8</td>\n",
       "      <td>10166</td>\n",
       "      <td>9801</td>\n",
       "      <td>19967</td>\n",
       "    </tr>\n",
       "    <tr>\n",
       "      <th>339</th>\n",
       "      <td>Caldas</td>\n",
       "      <td>San José</td>\n",
       "      <td>2020</td>\n",
       "      <td>80</td>\n",
       "      <td>84</td>\n",
       "      <td>83</td>\n",
       "      <td>81</td>\n",
       "      <td>81</td>\n",
       "      <td>77</td>\n",
       "      <td>77</td>\n",
       "      <td>...</td>\n",
       "      <td>3</td>\n",
       "      <td>4</td>\n",
       "      <td>2</td>\n",
       "      <td>3</td>\n",
       "      <td>-</td>\n",
       "      <td>4</td>\n",
       "      <td>2</td>\n",
       "      <td>2526</td>\n",
       "      <td>2390</td>\n",
       "      <td>4916</td>\n",
       "    </tr>\n",
       "    <tr>\n",
       "      <th>340</th>\n",
       "      <td>Caldas</td>\n",
       "      <td>Supía</td>\n",
       "      <td>2020</td>\n",
       "      <td>460</td>\n",
       "      <td>468</td>\n",
       "      <td>470</td>\n",
       "      <td>465</td>\n",
       "      <td>459</td>\n",
       "      <td>454</td>\n",
       "      <td>444</td>\n",
       "      <td>...</td>\n",
       "      <td>17</td>\n",
       "      <td>13</td>\n",
       "      <td>10</td>\n",
       "      <td>9</td>\n",
       "      <td>6</td>\n",
       "      <td>9</td>\n",
       "      <td>13</td>\n",
       "      <td>14366</td>\n",
       "      <td>14997</td>\n",
       "      <td>29363</td>\n",
       "    </tr>\n",
       "    <tr>\n",
       "      <th>341</th>\n",
       "      <td>Caldas</td>\n",
       "      <td>Victoria</td>\n",
       "      <td>2020</td>\n",
       "      <td>160</td>\n",
       "      <td>160</td>\n",
       "      <td>162</td>\n",
       "      <td>163</td>\n",
       "      <td>163</td>\n",
       "      <td>164</td>\n",
       "      <td>163</td>\n",
       "      <td>...</td>\n",
       "      <td>4</td>\n",
       "      <td>5</td>\n",
       "      <td>4</td>\n",
       "      <td>4</td>\n",
       "      <td>4</td>\n",
       "      <td>5</td>\n",
       "      <td>6</td>\n",
       "      <td>5116</td>\n",
       "      <td>5235</td>\n",
       "      <td>10351</td>\n",
       "    </tr>\n",
       "    <tr>\n",
       "      <th>342</th>\n",
       "      <td>Caldas</td>\n",
       "      <td>Villamaría</td>\n",
       "      <td>2020</td>\n",
       "      <td>856</td>\n",
       "      <td>879</td>\n",
       "      <td>881</td>\n",
       "      <td>882</td>\n",
       "      <td>878</td>\n",
       "      <td>877</td>\n",
       "      <td>876</td>\n",
       "      <td>...</td>\n",
       "      <td>26</td>\n",
       "      <td>23</td>\n",
       "      <td>17</td>\n",
       "      <td>14</td>\n",
       "      <td>10</td>\n",
       "      <td>10</td>\n",
       "      <td>29</td>\n",
       "      <td>32463</td>\n",
       "      <td>34966</td>\n",
       "      <td>67429</td>\n",
       "    </tr>\n",
       "    <tr>\n",
       "      <th>343</th>\n",
       "      <td>Caldas</td>\n",
       "      <td>Viterbo</td>\n",
       "      <td>2020</td>\n",
       "      <td>139</td>\n",
       "      <td>144</td>\n",
       "      <td>142</td>\n",
       "      <td>146</td>\n",
       "      <td>149</td>\n",
       "      <td>152</td>\n",
       "      <td>156</td>\n",
       "      <td>...</td>\n",
       "      <td>7</td>\n",
       "      <td>6</td>\n",
       "      <td>5</td>\n",
       "      <td>4</td>\n",
       "      <td>5</td>\n",
       "      <td>6</td>\n",
       "      <td>8</td>\n",
       "      <td>6096</td>\n",
       "      <td>6757</td>\n",
       "      <td>12853</td>\n",
       "    </tr>\n",
       "  </tbody>\n",
       "</table>\n",
       "<p>27 rows × 107 columns</p>\n",
       "</div>"
      ],
      "text/plain": [
       "    DEPARTAMENTO    MUNICIPIO   AÑO Total_0 Total_1 Total_2 Total_3 Total_4  \\\n",
       "317       Caldas    Manizales  2020    4600    4740    4743    4751    4753   \n",
       "318       Caldas      Aguadas  2020     332     335     339     337     336   \n",
       "319       Caldas      Anserma  2020     470     478     482     481     487   \n",
       "320       Caldas     Aranzazu  2020     153     158     158     157     158   \n",
       "321       Caldas   Belalcázar  2020     195     199     200     195     193   \n",
       "322       Caldas    Chinchiná  2020     610     623     627     630     635   \n",
       "323       Caldas   Filadelfia  2020     149     148     151     152     151   \n",
       "324       Caldas    La Dorada  2020    1087    1116    1118    1119    1123   \n",
       "325       Caldas    La Merced  2020      71      73      73      72      74   \n",
       "326       Caldas   Manzanares  2020     265     270     270     272     269   \n",
       "327       Caldas      Marmato  2020     183     185     186     183     178   \n",
       "328       Caldas  Marquetalia  2020     216     218     219     221     220   \n",
       "329       Caldas    Marulanda  2020      46      47      47      46      44   \n",
       "330       Caldas        Neira  2020     299     303     305     305     305   \n",
       "331       Caldas     Norcasia  2020     102     106     106     106     104   \n",
       "332       Caldas       Pácora  2020     183     186     188     186     187   \n",
       "333       Caldas    Palestina  2020     239     242     243     242     239   \n",
       "334       Caldas  Pensilvania  2020     299     303     304     305     304   \n",
       "335       Caldas     Riosucio  2020     809     814     822     814     803   \n",
       "336       Caldas    Risaralda  2020     146     148     149     149     147   \n",
       "337       Caldas     Salamina  2020     228     232     233     234     238   \n",
       "338       Caldas       Samaná  2020     339     340     343     343     341   \n",
       "339       Caldas     San José  2020      80      84      83      81      81   \n",
       "340       Caldas        Supía  2020     460     468     470     465     459   \n",
       "341       Caldas     Victoria  2020     160     160     162     163     163   \n",
       "342       Caldas   Villamaría  2020     856     879     881     882     878   \n",
       "343       Caldas      Viterbo  2020     139     144     142     146     149   \n",
       "\n",
       "    Total_5 Total_6  ... Total_94 Total_95 Total_96 Total_97 Total_98  \\\n",
       "317    4762    4771  ...      260      224      177      141      105   \n",
       "318     334     333  ...       14        8        8        7        7   \n",
       "319     488     490  ...       24       20       17       11        9   \n",
       "320     157     158  ...        7        5        6        6        3   \n",
       "321     190     185  ...        9        5        6        6        3   \n",
       "322     644     649  ...       27       20       19       11       11   \n",
       "323     159     157  ...        6        6        4        3        4   \n",
       "324    1120    1120  ...       24       21       18       13        8   \n",
       "325      74      74  ...        3        3        2        2       -    \n",
       "326     268     266  ...       10       11        8        8        4   \n",
       "327     173     170  ...        3        5        2        3        1   \n",
       "328     220     217  ...        7        6        4        6        2   \n",
       "329      43      41  ...        1       -         1       -         2   \n",
       "330     303     304  ...       10        5        6        6        4   \n",
       "331     108     105  ...        2        3        2        5        2   \n",
       "332     188     189  ...       11        8        9        3        5   \n",
       "333     236     233  ...        8        8        7        6        6   \n",
       "334     304     305  ...       15       12       11        7        7   \n",
       "335     793     780  ...       35       31       22       17       11   \n",
       "336     147     146  ...        6        6        5        5        3   \n",
       "337     241     245  ...       15       11        8        8        6   \n",
       "338     340     339  ...       10        9        6        8        5   \n",
       "339      77      77  ...        3        4        2        3       -    \n",
       "340     454     444  ...       17       13       10        9        6   \n",
       "341     164     163  ...        4        5        4        4        4   \n",
       "342     877     876  ...       26       23       17       14       10   \n",
       "343     152     156  ...        7        6        5        4        5   \n",
       "\n",
       "    Total_99 Total_100 y más Total Hombres Total Mujeres   Total  \n",
       "317       83             201        210254        235906  446160  \n",
       "318        9              13         11486         11562   23048  \n",
       "319       10              17         18339         18352   36691  \n",
       "320        5               6          4971          5585   10556  \n",
       "321        5               6          5402          5248   10650  \n",
       "322        7              16         25061         27206   52267  \n",
       "323        5               6          5724          5676   11400  \n",
       "324       11              23         35874         38132   74006  \n",
       "325        4               2          2989          2893    5882  \n",
       "326        8              38          8965          8829   17794  \n",
       "327        4               2          4666          4501    9167  \n",
       "328        5               6          6792          6698   13490  \n",
       "329        2              -           1342          1202    2544  \n",
       "330        7              11         10575         10539   21114  \n",
       "331        4               3          3049          3079    6128  \n",
       "332        7               6          7724          7600   15324  \n",
       "333        6               6          7923          7758   15681  \n",
       "334        8              11          9968          9787   19755  \n",
       "335       12              24         25679         26277   51956  \n",
       "336        5               7          5527          5041   10568  \n",
       "337        7              11          9740          9653   19393  \n",
       "338        7               8         10166          9801   19967  \n",
       "339        4               2          2526          2390    4916  \n",
       "340        9              13         14366         14997   29363  \n",
       "341        5               6          5116          5235   10351  \n",
       "342       10              29         32463         34966   67429  \n",
       "343        6               8          6096          6757   12853  \n",
       "\n",
       "[27 rows x 107 columns]"
      ]
     },
     "execution_count": 90,
     "metadata": {},
     "output_type": "execute_result"
    }
   ],
   "source": [
    "etartotal.loc[etartotal['DEPARTAMENTO']==localidad,:]\n"
   ]
  },
  {
   "cell_type": "code",
   "execution_count": 91,
   "metadata": {},
   "outputs": [
    {
     "data": {
      "text/html": [
       "<div>\n",
       "<style scoped>\n",
       "    .dataframe tbody tr th:only-of-type {\n",
       "        vertical-align: middle;\n",
       "    }\n",
       "\n",
       "    .dataframe tbody tr th {\n",
       "        vertical-align: top;\n",
       "    }\n",
       "\n",
       "    .dataframe thead th {\n",
       "        text-align: right;\n",
       "    }\n",
       "</style>\n",
       "<table border=\"1\" class=\"dataframe\">\n",
       "  <thead>\n",
       "    <tr style=\"text-align: right;\">\n",
       "      <th></th>\n",
       "      <th>Unnamed: 0</th>\n",
       "      <th>Número fallecidos</th>\n",
       "      <th>Población</th>\n",
       "      <th>Tasa de mortalidad por 100.000 habitantes</th>\n",
       "    </tr>\n",
       "  </thead>\n",
       "  <tbody>\n",
       "    <tr>\n",
       "      <th>0</th>\n",
       "      <td>edad 0 a 4</td>\n",
       "      <td>1</td>\n",
       "      <td>77831</td>\n",
       "      <td>1.284835</td>\n",
       "    </tr>\n",
       "    <tr>\n",
       "      <th>1</th>\n",
       "      <td>edad 5 a 14</td>\n",
       "      <td>1</td>\n",
       "      <td>119916</td>\n",
       "      <td>0.833917</td>\n",
       "    </tr>\n",
       "    <tr>\n",
       "      <th>2</th>\n",
       "      <td>edad 15 a 44</td>\n",
       "      <td>16</td>\n",
       "      <td>435989</td>\n",
       "      <td>3.669817</td>\n",
       "    </tr>\n",
       "    <tr>\n",
       "      <th>3</th>\n",
       "      <td>edad 45 a 64</td>\n",
       "      <td>67</td>\n",
       "      <td>252678</td>\n",
       "      <td>26.515961</td>\n",
       "    </tr>\n",
       "    <tr>\n",
       "      <th>4</th>\n",
       "      <td>edad 65 a 84</td>\n",
       "      <td>172</td>\n",
       "      <td>118140</td>\n",
       "      <td>145.589978</td>\n",
       "    </tr>\n",
       "    <tr>\n",
       "      <th>5</th>\n",
       "      <td>edad 85 a 99</td>\n",
       "      <td>51</td>\n",
       "      <td>13232</td>\n",
       "      <td>385.429262</td>\n",
       "    </tr>\n",
       "    <tr>\n",
       "      <th>6</th>\n",
       "      <td>edad 100 o más</td>\n",
       "      <td>1</td>\n",
       "      <td>481</td>\n",
       "      <td>207.900208</td>\n",
       "    </tr>\n",
       "  </tbody>\n",
       "</table>\n",
       "</div>"
      ],
      "text/plain": [
       "       Unnamed: 0  Número fallecidos  Población  \\\n",
       "0      edad 0 a 4                  1      77831   \n",
       "1     edad 5 a 14                  1     119916   \n",
       "2    edad 15 a 44                 16     435989   \n",
       "3    edad 45 a 64                 67     252678   \n",
       "4    edad 65 a 84                172     118140   \n",
       "5    edad 85 a 99                 51      13232   \n",
       "6  edad 100 o más                  1        481   \n",
       "\n",
       "   Tasa de mortalidad por 100.000 habitantes  \n",
       "0                                   1.284835  \n",
       "1                                   0.833917  \n",
       "2                                   3.669817  \n",
       "3                                  26.515961  \n",
       "4                                 145.589978  \n",
       "5                                 385.429262  \n",
       "6                                 207.900208  "
      ]
     },
     "execution_count": 91,
     "metadata": {},
     "output_type": "execute_result"
    }
   ],
   "source": [
    "tasaMortalidadDptoMunic = pd.read_csv('TasaMortalidadDptoMunic.csv')\n",
    "tasaMortalidadDptoMunic "
   ]
  },
  {
   "cell_type": "code",
   "execution_count": 92,
   "metadata": {},
   "outputs": [],
   "source": [
    "tasaMortalidadDptoMunic = tasaMortalidadDptoMunic.set_index('Unnamed: 0')"
   ]
  },
  {
   "cell_type": "code",
   "execution_count": 93,
   "metadata": {},
   "outputs": [
    {
     "data": {
      "text/html": [
       "<div>\n",
       "<style scoped>\n",
       "    .dataframe tbody tr th:only-of-type {\n",
       "        vertical-align: middle;\n",
       "    }\n",
       "\n",
       "    .dataframe tbody tr th {\n",
       "        vertical-align: top;\n",
       "    }\n",
       "\n",
       "    .dataframe thead th {\n",
       "        text-align: right;\n",
       "    }\n",
       "</style>\n",
       "<table border=\"1\" class=\"dataframe\">\n",
       "  <thead>\n",
       "    <tr style=\"text-align: right;\">\n",
       "      <th></th>\n",
       "      <th>Número fallecidos</th>\n",
       "      <th>Población</th>\n",
       "      <th>Tasa de mortalidad por 100.000 habitantes</th>\n",
       "    </tr>\n",
       "    <tr>\n",
       "      <th>Unnamed: 0</th>\n",
       "      <th></th>\n",
       "      <th></th>\n",
       "      <th></th>\n",
       "    </tr>\n",
       "  </thead>\n",
       "  <tbody>\n",
       "    <tr>\n",
       "      <th>edad 0 a 4</th>\n",
       "      <td>1</td>\n",
       "      <td>77831</td>\n",
       "      <td>1.284835</td>\n",
       "    </tr>\n",
       "    <tr>\n",
       "      <th>edad 5 a 14</th>\n",
       "      <td>1</td>\n",
       "      <td>119916</td>\n",
       "      <td>0.833917</td>\n",
       "    </tr>\n",
       "    <tr>\n",
       "      <th>edad 15 a 44</th>\n",
       "      <td>16</td>\n",
       "      <td>435989</td>\n",
       "      <td>3.669817</td>\n",
       "    </tr>\n",
       "    <tr>\n",
       "      <th>edad 45 a 64</th>\n",
       "      <td>67</td>\n",
       "      <td>252678</td>\n",
       "      <td>26.515961</td>\n",
       "    </tr>\n",
       "    <tr>\n",
       "      <th>edad 65 a 84</th>\n",
       "      <td>172</td>\n",
       "      <td>118140</td>\n",
       "      <td>145.589978</td>\n",
       "    </tr>\n",
       "    <tr>\n",
       "      <th>edad 85 a 99</th>\n",
       "      <td>51</td>\n",
       "      <td>13232</td>\n",
       "      <td>385.429262</td>\n",
       "    </tr>\n",
       "    <tr>\n",
       "      <th>edad 100 o más</th>\n",
       "      <td>1</td>\n",
       "      <td>481</td>\n",
       "      <td>207.900208</td>\n",
       "    </tr>\n",
       "  </tbody>\n",
       "</table>\n",
       "</div>"
      ],
      "text/plain": [
       "                Número fallecidos  Población  \\\n",
       "Unnamed: 0                                     \n",
       "edad 0 a 4                      1      77831   \n",
       "edad 5 a 14                     1     119916   \n",
       "edad 15 a 44                   16     435989   \n",
       "edad 45 a 64                   67     252678   \n",
       "edad 65 a 84                  172     118140   \n",
       "edad 85 a 99                   51      13232   \n",
       "edad 100 o más                  1        481   \n",
       "\n",
       "                Tasa de mortalidad por 100.000 habitantes  \n",
       "Unnamed: 0                                                 \n",
       "edad 0 a 4                                       1.284835  \n",
       "edad 5 a 14                                      0.833917  \n",
       "edad 15 a 44                                     3.669817  \n",
       "edad 45 a 64                                    26.515961  \n",
       "edad 65 a 84                                   145.589978  \n",
       "edad 85 a 99                                   385.429262  \n",
       "edad 100 o más                                 207.900208  "
      ]
     },
     "execution_count": 93,
     "metadata": {},
     "output_type": "execute_result"
    }
   ],
   "source": [
    "tasaMortalidadDptoMunic"
   ]
  },
  {
   "cell_type": "code",
   "execution_count": 94,
   "metadata": {},
   "outputs": [
    {
     "data": {
      "text/html": [
       "<div>\n",
       "<style scoped>\n",
       "    .dataframe tbody tr th:only-of-type {\n",
       "        vertical-align: middle;\n",
       "    }\n",
       "\n",
       "    .dataframe tbody tr th {\n",
       "        vertical-align: top;\n",
       "    }\n",
       "\n",
       "    .dataframe thead th {\n",
       "        text-align: right;\n",
       "    }\n",
       "</style>\n",
       "<table border=\"1\" class=\"dataframe\">\n",
       "  <thead>\n",
       "    <tr style=\"text-align: right;\">\n",
       "      <th></th>\n",
       "      <th>Número de casos</th>\n",
       "      <th>Número de fallecidos</th>\n",
       "      <th>Tasa de letalidad (por cien contagios detectados)</th>\n",
       "      <th>Población</th>\n",
       "      <th>Tasa de mortalidad por 100.000 habitantes</th>\n",
       "    </tr>\n",
       "  </thead>\n",
       "  <tbody>\n",
       "    <tr>\n",
       "      <th>edad 0 a 4</th>\n",
       "      <td>167</td>\n",
       "      <td>1</td>\n",
       "      <td>0.60</td>\n",
       "      <td>77831</td>\n",
       "      <td>1.28</td>\n",
       "    </tr>\n",
       "    <tr>\n",
       "      <th>edad 5 a 14</th>\n",
       "      <td>405</td>\n",
       "      <td>1</td>\n",
       "      <td>0.25</td>\n",
       "      <td>119916</td>\n",
       "      <td>0.83</td>\n",
       "    </tr>\n",
       "    <tr>\n",
       "      <th>edad 15 a 44</th>\n",
       "      <td>7024</td>\n",
       "      <td>16</td>\n",
       "      <td>0.23</td>\n",
       "      <td>435989</td>\n",
       "      <td>3.67</td>\n",
       "    </tr>\n",
       "    <tr>\n",
       "      <th>edad 45 a 64</th>\n",
       "      <td>3230</td>\n",
       "      <td>67</td>\n",
       "      <td>2.07</td>\n",
       "      <td>252678</td>\n",
       "      <td>26.52</td>\n",
       "    </tr>\n",
       "    <tr>\n",
       "      <th>edad 65 a 84</th>\n",
       "      <td>1442</td>\n",
       "      <td>172</td>\n",
       "      <td>11.93</td>\n",
       "      <td>118140</td>\n",
       "      <td>145.59</td>\n",
       "    </tr>\n",
       "    <tr>\n",
       "      <th>edad 85 a 99</th>\n",
       "      <td>242</td>\n",
       "      <td>51</td>\n",
       "      <td>21.07</td>\n",
       "      <td>13232</td>\n",
       "      <td>385.43</td>\n",
       "    </tr>\n",
       "    <tr>\n",
       "      <th>edad 100 o más</th>\n",
       "      <td>3</td>\n",
       "      <td>1</td>\n",
       "      <td>33.33</td>\n",
       "      <td>481</td>\n",
       "      <td>207.90</td>\n",
       "    </tr>\n",
       "  </tbody>\n",
       "</table>\n",
       "</div>"
      ],
      "text/plain": [
       "                Número de casos  Número de fallecidos  \\\n",
       "edad 0 a 4                  167                     1   \n",
       "edad 5 a 14                 405                     1   \n",
       "edad 15 a 44               7024                    16   \n",
       "edad 45 a 64               3230                    67   \n",
       "edad 65 a 84               1442                   172   \n",
       "edad 85 a 99                242                    51   \n",
       "edad 100 o más                3                     1   \n",
       "\n",
       "                Tasa de letalidad (por cien contagios detectados)  Población  \\\n",
       "edad 0 a 4                                                   0.60      77831   \n",
       "edad 5 a 14                                                  0.25     119916   \n",
       "edad 15 a 44                                                 0.23     435989   \n",
       "edad 45 a 64                                                 2.07     252678   \n",
       "edad 65 a 84                                                11.93     118140   \n",
       "edad 85 a 99                                                21.07      13232   \n",
       "edad 100 o más                                              33.33        481   \n",
       "\n",
       "                Tasa de mortalidad por 100.000 habitantes  \n",
       "edad 0 a 4                                           1.28  \n",
       "edad 5 a 14                                          0.83  \n",
       "edad 15 a 44                                         3.67  \n",
       "edad 45 a 64                                        26.52  \n",
       "edad 65 a 84                                       145.59  \n",
       "edad 85 a 99                                       385.43  \n",
       "edad 100 o más                                     207.90  "
      ]
     },
     "execution_count": 94,
     "metadata": {},
     "output_type": "execute_result"
    }
   ],
   "source": [
    "TasasDpto= pd.merge(CasosyFallecidos, tasaMortalidadDptoMunic, left_index=True, right_index=True)\n",
    "TasasDpto.drop(columns=['Número fallecidos'],inplace=True)\n",
    "TasasDpto['Tasa de mortalidad por 100.000 habitantes']=TasasDpto['Tasa de mortalidad por 100.000 habitantes'].round(2)\n",
    "TasasDpto=TasasDpto.rename(columns={'Tasa de letalidad por 100':'Tasa de letalidad (por cien contagios detectados)'})\n",
    "TasasDpto"
   ]
  },
  {
   "cell_type": "code",
   "execution_count": 95,
   "metadata": {
    "scrolled": true
   },
   "outputs": [
    {
     "data": {
      "text/html": [
       "<div>\n",
       "<style scoped>\n",
       "    .dataframe tbody tr th:only-of-type {\n",
       "        vertical-align: middle;\n",
       "    }\n",
       "\n",
       "    .dataframe tbody tr th {\n",
       "        vertical-align: top;\n",
       "    }\n",
       "\n",
       "    .dataframe thead th {\n",
       "        text-align: right;\n",
       "    }\n",
       "</style>\n",
       "<table border=\"1\" class=\"dataframe\">\n",
       "  <thead>\n",
       "    <tr style=\"text-align: right;\">\n",
       "      <th></th>\n",
       "      <th>edad 0 a 4</th>\n",
       "      <th>edad 5 a 14</th>\n",
       "      <th>edad 15 a 44</th>\n",
       "      <th>edad 45 a 64</th>\n",
       "      <th>edad 65 a 84</th>\n",
       "      <th>edad 85 a 99</th>\n",
       "      <th>edad 100 o más</th>\n",
       "    </tr>\n",
       "  </thead>\n",
       "  <tbody>\n",
       "    <tr>\n",
       "      <th>Número de casos</th>\n",
       "      <td>167.00</td>\n",
       "      <td>405.00</td>\n",
       "      <td>7024.00</td>\n",
       "      <td>3230.00</td>\n",
       "      <td>1442.00</td>\n",
       "      <td>242.00</td>\n",
       "      <td>3.00</td>\n",
       "    </tr>\n",
       "    <tr>\n",
       "      <th>Número de fallecidos</th>\n",
       "      <td>1.00</td>\n",
       "      <td>1.00</td>\n",
       "      <td>16.00</td>\n",
       "      <td>67.00</td>\n",
       "      <td>172.00</td>\n",
       "      <td>51.00</td>\n",
       "      <td>1.00</td>\n",
       "    </tr>\n",
       "    <tr>\n",
       "      <th>Tasa de letalidad (por cien contagios detectados)</th>\n",
       "      <td>0.60</td>\n",
       "      <td>0.25</td>\n",
       "      <td>0.23</td>\n",
       "      <td>2.07</td>\n",
       "      <td>11.93</td>\n",
       "      <td>21.07</td>\n",
       "      <td>33.33</td>\n",
       "    </tr>\n",
       "    <tr>\n",
       "      <th>Población</th>\n",
       "      <td>77831.00</td>\n",
       "      <td>119916.00</td>\n",
       "      <td>435989.00</td>\n",
       "      <td>252678.00</td>\n",
       "      <td>118140.00</td>\n",
       "      <td>13232.00</td>\n",
       "      <td>481.00</td>\n",
       "    </tr>\n",
       "    <tr>\n",
       "      <th>Tasa de mortalidad por 100.000 habitantes</th>\n",
       "      <td>1.28</td>\n",
       "      <td>0.83</td>\n",
       "      <td>3.67</td>\n",
       "      <td>26.52</td>\n",
       "      <td>145.59</td>\n",
       "      <td>385.43</td>\n",
       "      <td>207.90</td>\n",
       "    </tr>\n",
       "  </tbody>\n",
       "</table>\n",
       "</div>"
      ],
      "text/plain": [
       "                                                   edad 0 a 4  edad 5 a 14  \\\n",
       "Número de casos                                        167.00       405.00   \n",
       "Número de fallecidos                                     1.00         1.00   \n",
       "Tasa de letalidad (por cien contagios detectados)        0.60         0.25   \n",
       "Población                                            77831.00    119916.00   \n",
       "Tasa de mortalidad por 100.000 habitantes                1.28         0.83   \n",
       "\n",
       "                                                   edad 15 a 44  edad 45 a 64  \\\n",
       "Número de casos                                         7024.00       3230.00   \n",
       "Número de fallecidos                                      16.00         67.00   \n",
       "Tasa de letalidad (por cien contagios detectados)          0.23          2.07   \n",
       "Población                                             435989.00     252678.00   \n",
       "Tasa de mortalidad por 100.000 habitantes                  3.67         26.52   \n",
       "\n",
       "                                                   edad 65 a 84  edad 85 a 99  \\\n",
       "Número de casos                                         1442.00        242.00   \n",
       "Número de fallecidos                                     172.00         51.00   \n",
       "Tasa de letalidad (por cien contagios detectados)         11.93         21.07   \n",
       "Población                                             118140.00      13232.00   \n",
       "Tasa de mortalidad por 100.000 habitantes                145.59        385.43   \n",
       "\n",
       "                                                   edad 100 o más  \n",
       "Número de casos                                              3.00  \n",
       "Número de fallecidos                                         1.00  \n",
       "Tasa de letalidad (por cien contagios detectados)           33.33  \n",
       "Población                                                  481.00  \n",
       "Tasa de mortalidad por 100.000 habitantes                  207.90  "
      ]
     },
     "execution_count": 95,
     "metadata": {},
     "output_type": "execute_result"
    }
   ],
   "source": [
    "Totales = TasasDpto.transpose()\n",
    "Totales"
   ]
  },
  {
   "cell_type": "code",
   "execution_count": 96,
   "metadata": {},
   "outputs": [],
   "source": [
    "Totales['Totales']= Totales['edad 0 a 4']+Totales['edad 5 a 14']+Totales['edad 15 a 44']+Totales['edad 45 a 64']+Totales['edad 65 a 84']+Totales['edad 85 a 99']+Totales['edad 100 o más']"
   ]
  },
  {
   "cell_type": "code",
   "execution_count": 97,
   "metadata": {},
   "outputs": [],
   "source": [
    "Totales['Totales']=Totales['Totales'].round()"
   ]
  },
  {
   "cell_type": "code",
   "execution_count": 98,
   "metadata": {},
   "outputs": [
    {
     "data": {
      "text/html": [
       "<div>\n",
       "<style scoped>\n",
       "    .dataframe tbody tr th:only-of-type {\n",
       "        vertical-align: middle;\n",
       "    }\n",
       "\n",
       "    .dataframe tbody tr th {\n",
       "        vertical-align: top;\n",
       "    }\n",
       "\n",
       "    .dataframe thead th {\n",
       "        text-align: right;\n",
       "    }\n",
       "</style>\n",
       "<table border=\"1\" class=\"dataframe\">\n",
       "  <thead>\n",
       "    <tr style=\"text-align: right;\">\n",
       "      <th></th>\n",
       "      <th>edad 0 a 4</th>\n",
       "      <th>edad 5 a 14</th>\n",
       "      <th>edad 15 a 44</th>\n",
       "      <th>edad 45 a 64</th>\n",
       "      <th>edad 65 a 84</th>\n",
       "      <th>edad 85 a 99</th>\n",
       "      <th>edad 100 o más</th>\n",
       "      <th>Totales</th>\n",
       "    </tr>\n",
       "  </thead>\n",
       "  <tbody>\n",
       "    <tr>\n",
       "      <th>Número de casos</th>\n",
       "      <td>167.00</td>\n",
       "      <td>405.00</td>\n",
       "      <td>7024.00</td>\n",
       "      <td>3230.00</td>\n",
       "      <td>1442.00</td>\n",
       "      <td>242.00</td>\n",
       "      <td>3.00</td>\n",
       "      <td>12513.0</td>\n",
       "    </tr>\n",
       "    <tr>\n",
       "      <th>Número de fallecidos</th>\n",
       "      <td>1.00</td>\n",
       "      <td>1.00</td>\n",
       "      <td>16.00</td>\n",
       "      <td>67.00</td>\n",
       "      <td>172.00</td>\n",
       "      <td>51.00</td>\n",
       "      <td>1.00</td>\n",
       "      <td>309.0</td>\n",
       "    </tr>\n",
       "    <tr>\n",
       "      <th>Tasa de letalidad (por cien contagios detectados)</th>\n",
       "      <td>0.60</td>\n",
       "      <td>0.25</td>\n",
       "      <td>0.23</td>\n",
       "      <td>2.07</td>\n",
       "      <td>11.93</td>\n",
       "      <td>21.07</td>\n",
       "      <td>33.33</td>\n",
       "      <td>69.0</td>\n",
       "    </tr>\n",
       "    <tr>\n",
       "      <th>Población</th>\n",
       "      <td>77831.00</td>\n",
       "      <td>119916.00</td>\n",
       "      <td>435989.00</td>\n",
       "      <td>252678.00</td>\n",
       "      <td>118140.00</td>\n",
       "      <td>13232.00</td>\n",
       "      <td>481.00</td>\n",
       "      <td>1018267.0</td>\n",
       "    </tr>\n",
       "    <tr>\n",
       "      <th>Tasa de mortalidad por 100.000 habitantes</th>\n",
       "      <td>1.28</td>\n",
       "      <td>0.83</td>\n",
       "      <td>3.67</td>\n",
       "      <td>26.52</td>\n",
       "      <td>145.59</td>\n",
       "      <td>385.43</td>\n",
       "      <td>207.90</td>\n",
       "      <td>771.0</td>\n",
       "    </tr>\n",
       "  </tbody>\n",
       "</table>\n",
       "</div>"
      ],
      "text/plain": [
       "                                                   edad 0 a 4  edad 5 a 14  \\\n",
       "Número de casos                                        167.00       405.00   \n",
       "Número de fallecidos                                     1.00         1.00   \n",
       "Tasa de letalidad (por cien contagios detectados)        0.60         0.25   \n",
       "Población                                            77831.00    119916.00   \n",
       "Tasa de mortalidad por 100.000 habitantes                1.28         0.83   \n",
       "\n",
       "                                                   edad 15 a 44  edad 45 a 64  \\\n",
       "Número de casos                                         7024.00       3230.00   \n",
       "Número de fallecidos                                      16.00         67.00   \n",
       "Tasa de letalidad (por cien contagios detectados)          0.23          2.07   \n",
       "Población                                             435989.00     252678.00   \n",
       "Tasa de mortalidad por 100.000 habitantes                  3.67         26.52   \n",
       "\n",
       "                                                   edad 65 a 84  edad 85 a 99  \\\n",
       "Número de casos                                         1442.00        242.00   \n",
       "Número de fallecidos                                     172.00         51.00   \n",
       "Tasa de letalidad (por cien contagios detectados)         11.93         21.07   \n",
       "Población                                             118140.00      13232.00   \n",
       "Tasa de mortalidad por 100.000 habitantes                145.59        385.43   \n",
       "\n",
       "                                                   edad 100 o más    Totales  \n",
       "Número de casos                                              3.00    12513.0  \n",
       "Número de fallecidos                                         1.00      309.0  \n",
       "Tasa de letalidad (por cien contagios detectados)           33.33       69.0  \n",
       "Población                                                  481.00  1018267.0  \n",
       "Tasa de mortalidad por 100.000 habitantes                  207.90      771.0  "
      ]
     },
     "execution_count": 98,
     "metadata": {},
     "output_type": "execute_result"
    }
   ],
   "source": [
    "Totales"
   ]
  },
  {
   "cell_type": "code",
   "execution_count": 99,
   "metadata": {},
   "outputs": [],
   "source": [
    "Totales.loc['Tasa de letalidad (por cien contagios detectados)', 'Totales']= 'NA'\n",
    "Totales.loc['Tasa de mortalidad por 100.000 habitantes', 'Totales']= 'NA'"
   ]
  },
  {
   "cell_type": "code",
   "execution_count": 100,
   "metadata": {},
   "outputs": [],
   "source": [
    "Totales=Totales.transpose()"
   ]
  },
  {
   "cell_type": "code",
   "execution_count": 101,
   "metadata": {},
   "outputs": [
    {
     "data": {
      "text/html": [
       "<div>\n",
       "<style scoped>\n",
       "    .dataframe tbody tr th:only-of-type {\n",
       "        vertical-align: middle;\n",
       "    }\n",
       "\n",
       "    .dataframe tbody tr th {\n",
       "        vertical-align: top;\n",
       "    }\n",
       "\n",
       "    .dataframe thead th {\n",
       "        text-align: right;\n",
       "    }\n",
       "</style>\n",
       "<table border=\"1\" class=\"dataframe\">\n",
       "  <thead>\n",
       "    <tr style=\"text-align: right;\">\n",
       "      <th></th>\n",
       "      <th>Número de casos</th>\n",
       "      <th>Número de fallecidos</th>\n",
       "      <th>Tasa de letalidad (por cien contagios detectados)</th>\n",
       "      <th>Total habitantes de zonas afectadas</th>\n",
       "      <th>Tasa de mortalidad por 100.000 habitantes</th>\n",
       "    </tr>\n",
       "  </thead>\n",
       "  <tbody>\n",
       "    <tr>\n",
       "      <th>edad 0 a 4</th>\n",
       "      <td>167</td>\n",
       "      <td>1</td>\n",
       "      <td>0.6</td>\n",
       "      <td>77831</td>\n",
       "      <td>1.28</td>\n",
       "    </tr>\n",
       "    <tr>\n",
       "      <th>edad 5 a 14</th>\n",
       "      <td>405</td>\n",
       "      <td>1</td>\n",
       "      <td>0.25</td>\n",
       "      <td>119916</td>\n",
       "      <td>0.83</td>\n",
       "    </tr>\n",
       "    <tr>\n",
       "      <th>edad 15 a 44</th>\n",
       "      <td>7024</td>\n",
       "      <td>16</td>\n",
       "      <td>0.23</td>\n",
       "      <td>435989</td>\n",
       "      <td>3.67</td>\n",
       "    </tr>\n",
       "    <tr>\n",
       "      <th>edad 45 a 64</th>\n",
       "      <td>3230</td>\n",
       "      <td>67</td>\n",
       "      <td>2.07</td>\n",
       "      <td>252678</td>\n",
       "      <td>26.52</td>\n",
       "    </tr>\n",
       "    <tr>\n",
       "      <th>edad 65 a 84</th>\n",
       "      <td>1442</td>\n",
       "      <td>172</td>\n",
       "      <td>11.93</td>\n",
       "      <td>118140</td>\n",
       "      <td>145.59</td>\n",
       "    </tr>\n",
       "    <tr>\n",
       "      <th>edad 85 a 99</th>\n",
       "      <td>242</td>\n",
       "      <td>51</td>\n",
       "      <td>21.07</td>\n",
       "      <td>13232</td>\n",
       "      <td>385.43</td>\n",
       "    </tr>\n",
       "    <tr>\n",
       "      <th>edad 100 o más</th>\n",
       "      <td>3</td>\n",
       "      <td>1</td>\n",
       "      <td>33.33</td>\n",
       "      <td>481</td>\n",
       "      <td>207.9</td>\n",
       "    </tr>\n",
       "    <tr>\n",
       "      <th>Totales</th>\n",
       "      <td>12513</td>\n",
       "      <td>309</td>\n",
       "      <td>NA</td>\n",
       "      <td>1.01827e+06</td>\n",
       "      <td>NA</td>\n",
       "    </tr>\n",
       "  </tbody>\n",
       "</table>\n",
       "</div>"
      ],
      "text/plain": [
       "               Número de casos Número de fallecidos  \\\n",
       "edad 0 a 4                 167                    1   \n",
       "edad 5 a 14                405                    1   \n",
       "edad 15 a 44              7024                   16   \n",
       "edad 45 a 64              3230                   67   \n",
       "edad 65 a 84              1442                  172   \n",
       "edad 85 a 99               242                   51   \n",
       "edad 100 o más               3                    1   \n",
       "Totales                  12513                  309   \n",
       "\n",
       "               Tasa de letalidad (por cien contagios detectados)  \\\n",
       "edad 0 a 4                                                   0.6   \n",
       "edad 5 a 14                                                 0.25   \n",
       "edad 15 a 44                                                0.23   \n",
       "edad 45 a 64                                                2.07   \n",
       "edad 65 a 84                                               11.93   \n",
       "edad 85 a 99                                               21.07   \n",
       "edad 100 o más                                             33.33   \n",
       "Totales                                                       NA   \n",
       "\n",
       "               Total habitantes de zonas afectadas  \\\n",
       "edad 0 a 4                                   77831   \n",
       "edad 5 a 14                                 119916   \n",
       "edad 15 a 44                                435989   \n",
       "edad 45 a 64                                252678   \n",
       "edad 65 a 84                                118140   \n",
       "edad 85 a 99                                 13232   \n",
       "edad 100 o más                                 481   \n",
       "Totales                                1.01827e+06   \n",
       "\n",
       "               Tasa de mortalidad por 100.000 habitantes  \n",
       "edad 0 a 4                                          1.28  \n",
       "edad 5 a 14                                         0.83  \n",
       "edad 15 a 44                                        3.67  \n",
       "edad 45 a 64                                       26.52  \n",
       "edad 65 a 84                                      145.59  \n",
       "edad 85 a 99                                      385.43  \n",
       "edad 100 o más                                     207.9  \n",
       "Totales                                               NA  "
      ]
     },
     "execution_count": 101,
     "metadata": {},
     "output_type": "execute_result"
    }
   ],
   "source": [
    "Totales= Totales.rename(columns={'Población':'Total habitantes de zonas afectadas'})\n",
    "Totales"
   ]
  },
  {
   "cell_type": "code",
   "execution_count": null,
   "metadata": {},
   "outputs": [],
   "source": []
  }
 ],
 "metadata": {
  "hide_input": false,
  "kernelspec": {
   "display_name": "Python 3",
   "language": "python",
   "name": "python3"
  },
  "language_info": {
   "codemirror_mode": {
    "name": "ipython",
    "version": 3
   },
   "file_extension": ".py",
   "mimetype": "text/x-python",
   "name": "python",
   "nbconvert_exporter": "python",
   "pygments_lexer": "ipython3",
   "version": "3.7.0"
  }
 },
 "nbformat": 4,
 "nbformat_minor": 4
}
